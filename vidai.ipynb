{
 "cells": [
  {
   "cell_type": "code",
   "execution_count": 2,
   "id": "2d94af2a",
   "metadata": {
    "execution": {
     "iopub.execute_input": "2023-11-20T06:06:28.117868Z",
     "iopub.status.busy": "2023-11-20T06:06:28.117497Z",
     "iopub.status.idle": "2023-11-20T06:07:11.613910Z",
     "shell.execute_reply": "2023-11-20T06:07:11.612819Z"
    },
    "papermill": {
     "duration": 43.510137,
     "end_time": "2023-11-20T06:07:11.616400",
     "exception": false,
     "start_time": "2023-11-20T06:06:28.106263",
     "status": "completed"
    },
    "tags": []
   },
   "outputs": [
    {
     "name": "stdout",
     "output_type": "stream",
     "text": [
      "Device: cpu\n"
     ]
    },
    {
     "name": "stderr",
     "output_type": "stream",
     "text": [
      "Some weights of the model checkpoint at DeepPavlov/rubert-base-cased were not used when initializing BertModel: ['cls.predictions.decoder.weight', 'cls.seq_relationship.weight', 'cls.predictions.transform.LayerNorm.bias', 'cls.predictions.transform.dense.weight', 'cls.predictions.bias', 'cls.predictions.transform.LayerNorm.weight', 'cls.predictions.transform.dense.bias', 'cls.predictions.decoder.bias', 'cls.seq_relationship.bias']\n",
      "- This IS expected if you are initializing BertModel from the checkpoint of a model trained on another task or with another architecture (e.g. initializing a BertForSequenceClassification model from a BertForPreTraining model).\n",
      "- This IS NOT expected if you are initializing BertModel from the checkpoint of a model that you expect to be exactly identical (initializing a BertForSequenceClassification model from a BertForSequenceClassification model).\n"
     ]
    }
   ],
   "source": [
    "import pickle\n",
    "\n",
    "import warnings\n",
    "import time\n",
    "import re\n",
    "import sys\n",
    "\n",
    "import pandas as pd\n",
    "import numpy as np\n",
    "\n",
    "import matplotlib.pyplot as plt\n",
    "import seaborn as sns\n",
    "\n",
    "import plotly.express as px\n",
    "import plotly.graph_objects as go\n",
    "\n",
    "\n",
    "from transformers import BertTokenizer, BertModel\n",
    "import torch\n",
    "\n",
    "\n",
    "from sklearn.decomposition import PCA, KernelPCA\n",
    "from sklearn.manifold import TSNE, LocallyLinearEmbedding, Isomap\n",
    "\n",
    "from umap import UMAP\n",
    "\n",
    "from sklearn.preprocessing import StandardScaler, RobustScaler, MinMaxScaler, PowerTransformer\n",
    "from sklearn.model_selection import train_test_split\n",
    "\n",
    "import tensorflow as tf\n",
    "from tensorflow.keras.models import Sequential\n",
    "from tensorflow.keras.layers import Dense, Dropout\n",
    "from tensorflow.keras.optimizers import Adam\n",
    "\n",
    "from sklearn.linear_model import LogisticRegression\n",
    "from sklearn.linear_model import LinearRegression\n",
    "from sklearn.preprocessing import OrdinalEncoder\n",
    "from sklearn.metrics import mean_absolute_error, accuracy_score\n",
    "\n",
    "\n",
    "\n",
    "RANDOM_STATE = 42\n",
    "\n",
    "np.random.seed(RANDOM_STATE)\n",
    "torch.manual_seed(RANDOM_STATE)\n",
    "\n",
    "DEVICE = torch.device(\"cuda\" if torch.cuda.is_available() else \"cpu\")\n",
    "print(\"Device:\", DEVICE)\n",
    "\n",
    "\n",
    "sns.set_theme(style=\"white\")\n",
    "\n",
    "pd.options.display.max_rows = 1024\n",
    "pd.options.display.max_columns = 1024\n",
    "pd.set_option(\"display.max_colwidth\", 128)\n",
    "\n",
    "\n",
    "# Warnings\n",
    "warnings.filterwarnings(\"ignore\")\n",
    "\n",
    "\n",
    "# bert_model = BertModel.from_pretrained(\n",
    "#     \"bert-base-cased\",\n",
    "#     output_hidden_states=True).to(DEVICE)\n",
    "# tokenizer = BertTokenizer.from_pretrained(\"bert-base-cased\")\n",
    "\n",
    "\n",
    "bert_model = BertModel.from_pretrained(\n",
    "    \"DeepPavlov/rubert-base-cased\",\n",
    "    output_hidden_states=True).to(DEVICE)\n",
    "tokenizer = BertTokenizer.from_pretrained(\"DeepPavlov/rubert-base-cased\")"
   ]
  },
  {
   "cell_type": "code",
   "execution_count": 3,
   "metadata": {},
   "outputs": [
    {
     "name": "stdout",
     "output_type": "stream",
     "text": [
      "Requirement already satisfied: certifi in c:\\users\\sumit\\appdata\\roaming\\python\\python311\\site-packages (2023.11.17)\n",
      "Note: you may need to restart the kernel to use updated packages.\n"
     ]
    },
    {
     "name": "stderr",
     "output_type": "stream",
     "text": [
      "DEPRECATION: textract 1.6.5 has a non-standard dependency specifier extract-msg<=0.29.*. pip 24.0 will enforce this behaviour change. A possible replacement is to upgrade to a newer version of textract or contact the author to suggest that they release a version with a conforming dependency specifiers. Discussion can be found at https://github.com/pypa/pip/issues/12063\n"
     ]
    }
   ],
   "source": [
    "pip install --upgrade certifi"
   ]
  },
  {
   "cell_type": "code",
   "execution_count": 4,
   "metadata": {},
   "outputs": [
    {
     "name": "stdout",
     "output_type": "stream",
     "text": [
      "Requirement already satisfied: requests in c:\\users\\sumit\\appdata\\roaming\\python\\python311\\site-packages (2.31.0)\n",
      "Requirement already satisfied: charset-normalizer<4,>=2 in c:\\users\\sumit\\appdata\\roaming\\python\\python311\\site-packages (from requests) (3.3.0)\n",
      "Requirement already satisfied: idna<4,>=2.5 in c:\\users\\sumit\\appdata\\roaming\\python\\python311\\site-packages (from requests) (3.4)\n",
      "Requirement already satisfied: urllib3<3,>=1.21.1 in c:\\users\\sumit\\appdata\\roaming\\python\\python311\\site-packages (from requests) (2.0.6)\n",
      "Requirement already satisfied: certifi>=2017.4.17 in c:\\users\\sumit\\appdata\\roaming\\python\\python311\\site-packages (from requests) (2023.11.17)\n",
      "Note: you may need to restart the kernel to use updated packages.\n"
     ]
    },
    {
     "name": "stderr",
     "output_type": "stream",
     "text": [
      "DEPRECATION: textract 1.6.5 has a non-standard dependency specifier extract-msg<=0.29.*. pip 24.0 will enforce this behaviour change. A possible replacement is to upgrade to a newer version of textract or contact the author to suggest that they release a version with a conforming dependency specifiers. Discussion can be found at https://github.com/pypa/pip/issues/12063\n"
     ]
    }
   ],
   "source": [
    "pip install --upgrade requests"
   ]
  },
  {
   "cell_type": "code",
   "execution_count": 5,
   "metadata": {},
   "outputs": [
    {
     "name": "stdout",
     "output_type": "stream",
     "text": [
      "Requirement already satisfied: numpy==1.24 in c:\\users\\sumit\\anaconda3\\lib\\site-packages (1.24.0)Note: you may need to restart the kernel to use updated packages.\n",
      "\n"
     ]
    },
    {
     "name": "stderr",
     "output_type": "stream",
     "text": [
      "DEPRECATION: textract 1.6.5 has a non-standard dependency specifier extract-msg<=0.29.*. pip 24.0 will enforce this behaviour change. A possible replacement is to upgrade to a newer version of textract or contact the author to suggest that they release a version with a conforming dependency specifiers. Discussion can be found at https://github.com/pypa/pip/issues/12063\n"
     ]
    }
   ],
   "source": [
    "pip install numpy==1.24"
   ]
  },
  {
   "cell_type": "code",
   "execution_count": 6,
   "metadata": {},
   "outputs": [
    {
     "name": "stdout",
     "output_type": "stream",
     "text": [
      "Requirement already satisfied: umap-learn in c:\\users\\sumit\\anaconda3\\lib\\site-packages (0.5.5)\n",
      "Requirement already satisfied: numpy>=1.17 in c:\\users\\sumit\\anaconda3\\lib\\site-packages (from umap-learn) (1.24.0)\n",
      "Requirement already satisfied: scipy>=1.3.1 in c:\\users\\sumit\\appdata\\roaming\\python\\python311\\site-packages (from umap-learn) (1.11.3)\n",
      "Requirement already satisfied: scikit-learn>=0.22 in c:\\users\\sumit\\appdata\\roaming\\python\\python311\\site-packages (from umap-learn) (1.3.1)\n",
      "Requirement already satisfied: numba>=0.51.2 in c:\\users\\sumit\\anaconda3\\lib\\site-packages (from umap-learn) (0.57.1)\n",
      "Requirement already satisfied: pynndescent>=0.5 in c:\\users\\sumit\\anaconda3\\lib\\site-packages (from umap-learn) (0.5.11)\n",
      "Requirement already satisfied: tqdm in c:\\users\\sumit\\appdata\\roaming\\python\\python311\\site-packages (from umap-learn) (4.66.1)\n",
      "Requirement already satisfied: llvmlite<0.41,>=0.40.0dev0 in c:\\users\\sumit\\anaconda3\\lib\\site-packages (from numba>=0.51.2->umap-learn) (0.40.0)\n",
      "Requirement already satisfied: joblib>=0.11 in c:\\users\\sumit\\appdata\\roaming\\python\\python311\\site-packages (from pynndescent>=0.5->umap-learn) (1.3.2)\n",
      "Requirement already satisfied: threadpoolctl>=2.0.0 in c:\\users\\sumit\\appdata\\roaming\\python\\python311\\site-packages (from scikit-learn>=0.22->umap-learn) (3.2.0)\n",
      "Requirement already satisfied: colorama in c:\\users\\sumit\\appdata\\roaming\\python\\python311\\site-packages (from tqdm->umap-learn) (0.4.6)\n",
      "Note: you may need to restart the kernel to use updated packages.\n"
     ]
    },
    {
     "name": "stderr",
     "output_type": "stream",
     "text": [
      "DEPRECATION: textract 1.6.5 has a non-standard dependency specifier extract-msg<=0.29.*. pip 24.0 will enforce this behaviour change. A possible replacement is to upgrade to a newer version of textract or contact the author to suggest that they release a version with a conforming dependency specifiers. Discussion can be found at https://github.com/pypa/pip/issues/12063\n"
     ]
    }
   ],
   "source": [
    "pip install umap-learn"
   ]
  },
  {
   "cell_type": "code",
   "execution_count": 7,
   "id": "53181db8",
   "metadata": {
    "execution": {
     "iopub.execute_input": "2023-11-20T06:07:11.640380Z",
     "iopub.status.busy": "2023-11-20T06:07:11.640063Z",
     "iopub.status.idle": "2023-11-20T06:07:11.649002Z",
     "shell.execute_reply": "2023-11-20T06:07:11.648073Z"
    },
    "papermill": {
     "duration": 0.023088,
     "end_time": "2023-11-20T06:07:11.650981",
     "exception": false,
     "start_time": "2023-11-20T06:07:11.627893",
     "status": "completed"
    },
    "tags": []
   },
   "outputs": [
    {
     "data": {
      "text/plain": [
       "BertModel(\n",
       "  (embeddings): BertEmbeddings(\n",
       "    (word_embeddings): Embedding(119547, 768, padding_idx=0)\n",
       "    (position_embeddings): Embedding(512, 768)\n",
       "    (token_type_embeddings): Embedding(2, 768)\n",
       "    (LayerNorm): LayerNorm((768,), eps=1e-12, elementwise_affine=True)\n",
       "    (dropout): Dropout(p=0.1, inplace=False)\n",
       "  )\n",
       "  (encoder): BertEncoder(\n",
       "    (layer): ModuleList(\n",
       "      (0-11): 12 x BertLayer(\n",
       "        (attention): BertAttention(\n",
       "          (self): BertSelfAttention(\n",
       "            (query): Linear(in_features=768, out_features=768, bias=True)\n",
       "            (key): Linear(in_features=768, out_features=768, bias=True)\n",
       "            (value): Linear(in_features=768, out_features=768, bias=True)\n",
       "            (dropout): Dropout(p=0.1, inplace=False)\n",
       "          )\n",
       "          (output): BertSelfOutput(\n",
       "            (dense): Linear(in_features=768, out_features=768, bias=True)\n",
       "            (LayerNorm): LayerNorm((768,), eps=1e-12, elementwise_affine=True)\n",
       "            (dropout): Dropout(p=0.1, inplace=False)\n",
       "          )\n",
       "        )\n",
       "        (intermediate): BertIntermediate(\n",
       "          (dense): Linear(in_features=768, out_features=3072, bias=True)\n",
       "          (intermediate_act_fn): GELUActivation()\n",
       "        )\n",
       "        (output): BertOutput(\n",
       "          (dense): Linear(in_features=3072, out_features=768, bias=True)\n",
       "          (LayerNorm): LayerNorm((768,), eps=1e-12, elementwise_affine=True)\n",
       "          (dropout): Dropout(p=0.1, inplace=False)\n",
       "        )\n",
       "      )\n",
       "    )\n",
       "  )\n",
       "  (pooler): BertPooler(\n",
       "    (dense): Linear(in_features=768, out_features=768, bias=True)\n",
       "    (activation): Tanh()\n",
       "  )\n",
       ")"
      ]
     },
     "execution_count": 7,
     "metadata": {},
     "output_type": "execute_result"
    }
   ],
   "source": [
    "bert_model"
   ]
  },
  {
   "cell_type": "code",
   "execution_count": 8,
   "id": "8e029c9e",
   "metadata": {
    "execution": {
     "iopub.execute_input": "2023-11-20T06:07:11.731086Z",
     "iopub.status.busy": "2023-11-20T06:07:11.730819Z",
     "iopub.status.idle": "2023-11-20T06:07:11.734620Z",
     "shell.execute_reply": "2023-11-20T06:07:11.733754Z"
    },
    "papermill": {
     "duration": 0.017321,
     "end_time": "2023-11-20T06:07:11.736541",
     "exception": false,
     "start_time": "2023-11-20T06:07:11.719220",
     "status": "completed"
    },
    "tags": []
   },
   "outputs": [
    {
     "name": "stdout",
     "output_type": "stream",
     "text": [
      "Requirement already satisfied: kaleido in c:\\users\\sumit\\anaconda3\\lib\\site-packages (0.2.1)\n",
      "Note: you may need to restart the kernel to use updated packages.\n"
     ]
    },
    {
     "name": "stderr",
     "output_type": "stream",
     "text": [
      "DEPRECATION: textract 1.6.5 has a non-standard dependency specifier extract-msg<=0.29.*. pip 24.0 will enforce this behaviour change. A possible replacement is to upgrade to a newer version of textract or contact the author to suggest that they release a version with a conforming dependency specifiers. Discussion can be found at https://github.com/pypa/pip/issues/12063\n"
     ]
    }
   ],
   "source": [
    "pip install -U kaleido"
   ]
  },
  {
   "cell_type": "code",
   "execution_count": 9,
   "id": "2922560c",
   "metadata": {
    "execution": {
     "iopub.execute_input": "2023-11-20T06:07:11.759296Z",
     "iopub.status.busy": "2023-11-20T06:07:11.759060Z",
     "iopub.status.idle": "2023-11-20T06:07:11.762962Z",
     "shell.execute_reply": "2023-11-20T06:07:11.762062Z"
    },
    "papermill": {
     "duration": 0.01788,
     "end_time": "2023-11-20T06:07:11.765062",
     "exception": false,
     "start_time": "2023-11-20T06:07:11.747182",
     "status": "completed"
    },
    "tags": []
   },
   "outputs": [],
   "source": [
    "import kaleido"
   ]
  },
  {
   "cell_type": "code",
   "execution_count": 10,
   "id": "f3fef543",
   "metadata": {
    "execution": {
     "iopub.execute_input": "2023-11-20T06:07:11.788016Z",
     "iopub.status.busy": "2023-11-20T06:07:11.787721Z",
     "iopub.status.idle": "2023-11-20T06:07:11.814496Z",
     "shell.execute_reply": "2023-11-20T06:07:11.813769Z"
    },
    "papermill": {
     "duration": 0.040649,
     "end_time": "2023-11-20T06:07:11.816581",
     "exception": false,
     "start_time": "2023-11-20T06:07:11.775932",
     "status": "completed"
    },
    "tags": []
   },
   "outputs": [],
   "source": [
    "def plot_continious_hist(data, feature, hue=None, bins=100, figsize=(800, 500)):\n",
    "    if hue is not None:\n",
    "        data = data.sort_values(by=hue)\n",
    "        \n",
    "    hist_fig = px.histogram(\n",
    "        data,\n",
    "        x=feature,\n",
    "        color=hue if hue is not None else None,\n",
    "        nbins=bins,\n",
    "        marginal=\"box\",\n",
    "        opacity=0.8)\n",
    "    hist_fig.update_layout(\n",
    "        title=f\"{feature} distribution\",\n",
    "        plot_bgcolor='white',\n",
    "        bargap=0.2,\n",
    "        width=figsize[0],\n",
    "        height=figsize[1],\n",
    "        yaxis_title='Amount')\n",
    "    \n",
    "    hist_fig.show()\n",
    "    \n",
    "    \n",
    "def plot_continious_ecdf(data, feature, hue=None, bins=100, figsize=(800, 500)):\n",
    "    if hue is not None:\n",
    "        data = data.sort_values(by=hue)\n",
    "        \n",
    "    ecdf_fig = px.ecdf(\n",
    "        data,\n",
    "        x=feature,\n",
    "        color=hue if hue is not None else None,\n",
    "        opacity=0.8)\n",
    "    ecdf_fig.update_layout(\n",
    "        title=f\"{feature} ECDF\",\n",
    "        plot_bgcolor='white',\n",
    "        bargap=0.2,\n",
    "        width=figsize[0],\n",
    "        height=figsize[1],\n",
    "        yaxis_title='Probability')\n",
    "    \n",
    "    ecdf_fig.show()\n",
    "    \n",
    "    \n",
    "def plot_continious_agg_dinamics(data, feature, date, hue=None,\n",
    "                                 aggfunc=\"mean\", figsize=(800, 500)):\n",
    "    index = [date] if hue is None else [date, hue]\n",
    "    tmp = data.pivot_table(index=index, values=feature, aggfunc=aggfunc).reset_index()\n",
    "    tmp[date] = tmp[date].astype(\"string\")\n",
    "\n",
    "    fig = px.line(\n",
    "        tmp,\n",
    "        x=date,\n",
    "        y=feature,\n",
    "        color=hue if hue is not None else None,\n",
    "        markers=True)\n",
    "    fig.update_layout(\n",
    "        title=f'Average dinamics - Feature: {feature}',\n",
    "        xaxis_title=date,\n",
    "        yaxis_title=feature,\n",
    "        showlegend=True,\n",
    "        width=figsize[0],\n",
    "        height=figsize[1],\n",
    "        plot_bgcolor='white'\n",
    "    )\n",
    "    \n",
    "    fig.show()\n",
    "    \n",
    "    \n",
    "def exec_time(start, end):\n",
    "    diff_time = end - start\n",
    "    m, s = divmod(diff_time, 60)\n",
    "    h, m = divmod(m, 60)\n",
    "    s,m,h = int(round(s, 0)), int(round(m, 0)), int(round(h, 0))\n",
    "\n",
    "    return \"Completed for {0:02d}:{1:02d}:{2:02d}\".format(h, m, s)\n",
    "\n",
    "\n",
    "def extract_text_vectors(df, column, model, tokenizer,\n",
    "                         device, verbose=True, verbose_interval=100):\n",
    "    df = df.copy()\n",
    "    model = model.to(device)\n",
    "    if verbose:\n",
    "        start = time.time()\n",
    "        total_images = df.shape[0]\n",
    "        _ = 0\n",
    "\n",
    "    vectors = []\n",
    "    for index, row in df.reset_index(drop=True).iterrows():\n",
    "        index += 1\n",
    "        text = row[column]\n",
    "        input_ids = torch.tensor(\n",
    "            [tokenizer.encode(text, add_special_tokens=True)]).to(device)\n",
    "        with torch.no_grad():\n",
    "            model_output = model(input_ids)\n",
    "        vectors.append(\n",
    "            model_output.last_hidden_state.mean(dim=1).squeeze().tolist())\n",
    "\n",
    "        if verbose and (index % verbose_interval == 0 or index == total_images - 1):\n",
    "            print(f\"{_}. Processed text {index}/{total_images}.\")\n",
    "            _ += 1\n",
    "\n",
    "    assert all(len(vector) == len(vectors[0]) for vector in vectors), \"Text vectors have different dimensions\"\n",
    "\n",
    "    vectors_np = np.array(vectors)\n",
    "    df[[f\"text_vector_el{x}\"\n",
    "        for x in range(len(vectors_np[0]))]] = vectors_np\n",
    "\n",
    "    if verbose:\n",
    "        end = time.time()\n",
    "        print(f\"Extraction completed successfully. {exec_time(start, end)}\\n\")\n",
    "\n",
    "    return df\n",
    "\n",
    "\n",
    "def plot_reduced_ds(data, hue, n_components):\n",
    "    if n_components == 2:\n",
    "        fig = px.scatter(\n",
    "            data,\n",
    "            x=0,\n",
    "            y=1,\n",
    "            color=hue,\n",
    "            # text=\"utterance\",\n",
    "            title='Dataset 2D projection',\n",
    "#             width=3200, # 3840×2160\n",
    "#             height=1800\n",
    "        )\n",
    "    else:\n",
    "        fig = px.scatter_3d(\n",
    "            data,\n",
    "            x=0,\n",
    "            y=1,\n",
    "            z=2,\n",
    "            color=hue,\n",
    "            # text=\"utterance\",\n",
    "            title='Dataset 3D projection',\n",
    "            width=1280,\n",
    "            height=720\n",
    "        )\n",
    "\n",
    "    fig.update_layout(plot_bgcolor='white')\n",
    "    fig.show()"
   ]
  },
  {
   "cell_type": "code",
   "execution_count": 11,
   "id": "adf1cd78",
   "metadata": {
    "execution": {
     "iopub.execute_input": "2023-11-20T06:07:11.839862Z",
     "iopub.status.busy": "2023-11-20T06:07:11.839597Z",
     "iopub.status.idle": "2023-11-20T06:07:12.020875Z",
     "shell.execute_reply": "2023-11-20T06:07:12.019801Z"
    },
    "papermill": {
     "duration": 0.19521,
     "end_time": "2023-11-20T06:07:12.022931",
     "exception": false,
     "start_time": "2023-11-20T06:07:11.827721",
     "status": "completed"
    },
    "tags": []
   },
   "outputs": [
    {
     "name": "stdout",
     "output_type": "stream",
     "text": [
      "<class 'pandas.core.frame.DataFrame'>\n",
      "RangeIndex: 78 entries, 0 to 77\n",
      "Data columns (total 3 columns):\n",
      " #   Column           Non-Null Count  Dtype \n",
      "---  ------           --------------  ----- \n",
      " 0   query            78 non-null     object\n",
      " 1   response         78 non-null     object\n",
      " 2   response_length  78 non-null     int64 \n",
      "dtypes: int64(1), object(2)\n",
      "memory usage: 2.0+ KB\n",
      "None\n",
      "\n"
     ]
    },
    {
     "data": {
      "text/html": [
       "<div>\n",
       "<style scoped>\n",
       "    .dataframe tbody tr th:only-of-type {\n",
       "        vertical-align: middle;\n",
       "    }\n",
       "\n",
       "    .dataframe tbody tr th {\n",
       "        vertical-align: top;\n",
       "    }\n",
       "\n",
       "    .dataframe thead th {\n",
       "        text-align: right;\n",
       "    }\n",
       "</style>\n",
       "<table border=\"1\" class=\"dataframe\">\n",
       "  <thead>\n",
       "    <tr style=\"text-align: right;\">\n",
       "      <th></th>\n",
       "      <th>query</th>\n",
       "      <th>response</th>\n",
       "      <th>response_length</th>\n",
       "    </tr>\n",
       "  </thead>\n",
       "  <tbody>\n",
       "    <tr>\n",
       "      <th>0</th>\n",
       "      <td>My order hasn't arrived yet.</td>\n",
       "      <td>We apologize for the inconvenience. Can you please provide your order number so we can investigate?</td>\n",
       "      <td>99</td>\n",
       "    </tr>\n",
       "    <tr>\n",
       "      <th>1</th>\n",
       "      <td>I received a damaged product.</td>\n",
       "      <td>We apologize for the inconvenience. Can you please provide a photo of the damaged product so we can assist you further?</td>\n",
       "      <td>119</td>\n",
       "    </tr>\n",
       "    <tr>\n",
       "      <th>2</th>\n",
       "      <td>I need to return an item.</td>\n",
       "      <td>Certainly. Please provide your order number and reason for return, and we will provide you with instructions on how to proceed.</td>\n",
       "      <td>127</td>\n",
       "    </tr>\n",
       "  </tbody>\n",
       "</table>\n",
       "</div>"
      ],
      "text/plain": [
       "                           query  \\\n",
       "0   My order hasn't arrived yet.   \n",
       "1  I received a damaged product.   \n",
       "2      I need to return an item.   \n",
       "\n",
       "                                                                                                                          response  \\\n",
       "0                              We apologize for the inconvenience. Can you please provide your order number so we can investigate?   \n",
       "1          We apologize for the inconvenience. Can you please provide a photo of the damaged product so we can assist you further?   \n",
       "2  Certainly. Please provide your order number and reason for return, and we will provide you with instructions on how to proceed.   \n",
       "\n",
       "   response_length  \n",
       "0               99  \n",
       "1              119  \n",
       "2              127  "
      ]
     },
     "execution_count": 11,
     "metadata": {},
     "output_type": "execute_result"
    }
   ],
   "source": [
    "import pandas as pd\n",
    "\n",
    "data = pd.read_csv(r'C:\\Users\\sumit\\OneDrive\\Documents\\mp_project\\customer_support.csv.')\n",
    "\n",
    "data[\"response_length\"] = data[\"response\"].replace(\" \", \"\").apply(lambda x: len(x))\n",
    "\n",
    "print(data.info())\n",
    "print()\n",
    "data.head(3)\n"
   ]
  },
  {
   "cell_type": "code",
   "execution_count": 12,
   "id": "3d202798",
   "metadata": {
    "execution": {
     "iopub.execute_input": "2023-11-20T06:07:12.167357Z",
     "iopub.status.busy": "2023-11-20T06:07:12.167078Z",
     "iopub.status.idle": "2023-11-20T06:07:13.806555Z",
     "shell.execute_reply": "2023-11-20T06:07:13.805569Z"
    },
    "papermill": {
     "duration": 1.655958,
     "end_time": "2023-11-20T06:07:13.810825",
     "exception": false,
     "start_time": "2023-11-20T06:07:12.154867",
     "status": "completed"
    },
    "tags": []
   },
   "outputs": [
    {
     "data": {
      "application/vnd.plotly.v1+json": {
       "config": {
        "plotlyServerURL": "https://plot.ly"
       },
       "data": [
        {
         "alignmentgroup": "True",
         "bingroup": "x",
         "hovertemplate": "response_length=%{x}<br>count=%{y}<extra></extra>",
         "legendgroup": "",
         "marker": {
          "color": "#636efa",
          "opacity": 0.8,
          "pattern": {
           "shape": ""
          }
         },
         "name": "",
         "nbinsx": 100,
         "offsetgroup": "",
         "orientation": "v",
         "showlegend": false,
         "type": "histogram",
         "x": [
          99,
          119,
          127,
          100,
          107,
          122,
          129,
          95,
          111,
          125,
          133,
          127,
          123,
          101,
          104,
          91,
          146,
          120,
          137,
          118,
          114,
          115,
          121,
          123,
          135,
          103,
          118,
          104,
          120,
          139,
          97,
          112,
          155,
          133,
          168,
          132,
          125,
          121,
          151,
          120,
          157,
          120,
          138,
          138,
          120,
          143,
          143,
          134,
          140,
          106,
          128,
          157,
          132,
          163,
          146,
          152,
          151,
          158,
          118,
          138,
          125,
          148,
          129,
          114,
          161,
          127,
          151,
          165,
          130,
          144,
          119,
          155,
          132,
          137,
          79,
          75,
          79,
          79
         ],
         "xaxis": "x",
         "yaxis": "y"
        },
        {
         "alignmentgroup": "True",
         "hovertemplate": "response_length=%{x}<extra></extra>",
         "legendgroup": "",
         "marker": {
          "color": "#636efa"
         },
         "name": "",
         "notched": true,
         "offsetgroup": "",
         "showlegend": false,
         "type": "box",
         "x": [
          99,
          119,
          127,
          100,
          107,
          122,
          129,
          95,
          111,
          125,
          133,
          127,
          123,
          101,
          104,
          91,
          146,
          120,
          137,
          118,
          114,
          115,
          121,
          123,
          135,
          103,
          118,
          104,
          120,
          139,
          97,
          112,
          155,
          133,
          168,
          132,
          125,
          121,
          151,
          120,
          157,
          120,
          138,
          138,
          120,
          143,
          143,
          134,
          140,
          106,
          128,
          157,
          132,
          163,
          146,
          152,
          151,
          158,
          118,
          138,
          125,
          148,
          129,
          114,
          161,
          127,
          151,
          165,
          130,
          144,
          119,
          155,
          132,
          137,
          79,
          75,
          79,
          79
         ],
         "xaxis": "x2",
         "yaxis": "y2"
        }
       ],
       "layout": {
        "bargap": 0.2,
        "barmode": "relative",
        "height": 500,
        "legend": {
         "tracegroupgap": 0
        },
        "margin": {
         "t": 60
        },
        "plot_bgcolor": "white",
        "template": {
         "data": {
          "bar": [
           {
            "error_x": {
             "color": "#2a3f5f"
            },
            "error_y": {
             "color": "#2a3f5f"
            },
            "marker": {
             "line": {
              "color": "#E5ECF6",
              "width": 0.5
             },
             "pattern": {
              "fillmode": "overlay",
              "size": 10,
              "solidity": 0.2
             }
            },
            "type": "bar"
           }
          ],
          "barpolar": [
           {
            "marker": {
             "line": {
              "color": "#E5ECF6",
              "width": 0.5
             },
             "pattern": {
              "fillmode": "overlay",
              "size": 10,
              "solidity": 0.2
             }
            },
            "type": "barpolar"
           }
          ],
          "carpet": [
           {
            "aaxis": {
             "endlinecolor": "#2a3f5f",
             "gridcolor": "white",
             "linecolor": "white",
             "minorgridcolor": "white",
             "startlinecolor": "#2a3f5f"
            },
            "baxis": {
             "endlinecolor": "#2a3f5f",
             "gridcolor": "white",
             "linecolor": "white",
             "minorgridcolor": "white",
             "startlinecolor": "#2a3f5f"
            },
            "type": "carpet"
           }
          ],
          "choropleth": [
           {
            "colorbar": {
             "outlinewidth": 0,
             "ticks": ""
            },
            "type": "choropleth"
           }
          ],
          "contour": [
           {
            "colorbar": {
             "outlinewidth": 0,
             "ticks": ""
            },
            "colorscale": [
             [
              0,
              "#0d0887"
             ],
             [
              0.1111111111111111,
              "#46039f"
             ],
             [
              0.2222222222222222,
              "#7201a8"
             ],
             [
              0.3333333333333333,
              "#9c179e"
             ],
             [
              0.4444444444444444,
              "#bd3786"
             ],
             [
              0.5555555555555556,
              "#d8576b"
             ],
             [
              0.6666666666666666,
              "#ed7953"
             ],
             [
              0.7777777777777778,
              "#fb9f3a"
             ],
             [
              0.8888888888888888,
              "#fdca26"
             ],
             [
              1,
              "#f0f921"
             ]
            ],
            "type": "contour"
           }
          ],
          "contourcarpet": [
           {
            "colorbar": {
             "outlinewidth": 0,
             "ticks": ""
            },
            "type": "contourcarpet"
           }
          ],
          "heatmap": [
           {
            "colorbar": {
             "outlinewidth": 0,
             "ticks": ""
            },
            "colorscale": [
             [
              0,
              "#0d0887"
             ],
             [
              0.1111111111111111,
              "#46039f"
             ],
             [
              0.2222222222222222,
              "#7201a8"
             ],
             [
              0.3333333333333333,
              "#9c179e"
             ],
             [
              0.4444444444444444,
              "#bd3786"
             ],
             [
              0.5555555555555556,
              "#d8576b"
             ],
             [
              0.6666666666666666,
              "#ed7953"
             ],
             [
              0.7777777777777778,
              "#fb9f3a"
             ],
             [
              0.8888888888888888,
              "#fdca26"
             ],
             [
              1,
              "#f0f921"
             ]
            ],
            "type": "heatmap"
           }
          ],
          "heatmapgl": [
           {
            "colorbar": {
             "outlinewidth": 0,
             "ticks": ""
            },
            "colorscale": [
             [
              0,
              "#0d0887"
             ],
             [
              0.1111111111111111,
              "#46039f"
             ],
             [
              0.2222222222222222,
              "#7201a8"
             ],
             [
              0.3333333333333333,
              "#9c179e"
             ],
             [
              0.4444444444444444,
              "#bd3786"
             ],
             [
              0.5555555555555556,
              "#d8576b"
             ],
             [
              0.6666666666666666,
              "#ed7953"
             ],
             [
              0.7777777777777778,
              "#fb9f3a"
             ],
             [
              0.8888888888888888,
              "#fdca26"
             ],
             [
              1,
              "#f0f921"
             ]
            ],
            "type": "heatmapgl"
           }
          ],
          "histogram": [
           {
            "marker": {
             "pattern": {
              "fillmode": "overlay",
              "size": 10,
              "solidity": 0.2
             }
            },
            "type": "histogram"
           }
          ],
          "histogram2d": [
           {
            "colorbar": {
             "outlinewidth": 0,
             "ticks": ""
            },
            "colorscale": [
             [
              0,
              "#0d0887"
             ],
             [
              0.1111111111111111,
              "#46039f"
             ],
             [
              0.2222222222222222,
              "#7201a8"
             ],
             [
              0.3333333333333333,
              "#9c179e"
             ],
             [
              0.4444444444444444,
              "#bd3786"
             ],
             [
              0.5555555555555556,
              "#d8576b"
             ],
             [
              0.6666666666666666,
              "#ed7953"
             ],
             [
              0.7777777777777778,
              "#fb9f3a"
             ],
             [
              0.8888888888888888,
              "#fdca26"
             ],
             [
              1,
              "#f0f921"
             ]
            ],
            "type": "histogram2d"
           }
          ],
          "histogram2dcontour": [
           {
            "colorbar": {
             "outlinewidth": 0,
             "ticks": ""
            },
            "colorscale": [
             [
              0,
              "#0d0887"
             ],
             [
              0.1111111111111111,
              "#46039f"
             ],
             [
              0.2222222222222222,
              "#7201a8"
             ],
             [
              0.3333333333333333,
              "#9c179e"
             ],
             [
              0.4444444444444444,
              "#bd3786"
             ],
             [
              0.5555555555555556,
              "#d8576b"
             ],
             [
              0.6666666666666666,
              "#ed7953"
             ],
             [
              0.7777777777777778,
              "#fb9f3a"
             ],
             [
              0.8888888888888888,
              "#fdca26"
             ],
             [
              1,
              "#f0f921"
             ]
            ],
            "type": "histogram2dcontour"
           }
          ],
          "mesh3d": [
           {
            "colorbar": {
             "outlinewidth": 0,
             "ticks": ""
            },
            "type": "mesh3d"
           }
          ],
          "parcoords": [
           {
            "line": {
             "colorbar": {
              "outlinewidth": 0,
              "ticks": ""
             }
            },
            "type": "parcoords"
           }
          ],
          "pie": [
           {
            "automargin": true,
            "type": "pie"
           }
          ],
          "scatter": [
           {
            "fillpattern": {
             "fillmode": "overlay",
             "size": 10,
             "solidity": 0.2
            },
            "type": "scatter"
           }
          ],
          "scatter3d": [
           {
            "line": {
             "colorbar": {
              "outlinewidth": 0,
              "ticks": ""
             }
            },
            "marker": {
             "colorbar": {
              "outlinewidth": 0,
              "ticks": ""
             }
            },
            "type": "scatter3d"
           }
          ],
          "scattercarpet": [
           {
            "marker": {
             "colorbar": {
              "outlinewidth": 0,
              "ticks": ""
             }
            },
            "type": "scattercarpet"
           }
          ],
          "scattergeo": [
           {
            "marker": {
             "colorbar": {
              "outlinewidth": 0,
              "ticks": ""
             }
            },
            "type": "scattergeo"
           }
          ],
          "scattergl": [
           {
            "marker": {
             "colorbar": {
              "outlinewidth": 0,
              "ticks": ""
             }
            },
            "type": "scattergl"
           }
          ],
          "scattermapbox": [
           {
            "marker": {
             "colorbar": {
              "outlinewidth": 0,
              "ticks": ""
             }
            },
            "type": "scattermapbox"
           }
          ],
          "scatterpolar": [
           {
            "marker": {
             "colorbar": {
              "outlinewidth": 0,
              "ticks": ""
             }
            },
            "type": "scatterpolar"
           }
          ],
          "scatterpolargl": [
           {
            "marker": {
             "colorbar": {
              "outlinewidth": 0,
              "ticks": ""
             }
            },
            "type": "scatterpolargl"
           }
          ],
          "scatterternary": [
           {
            "marker": {
             "colorbar": {
              "outlinewidth": 0,
              "ticks": ""
             }
            },
            "type": "scatterternary"
           }
          ],
          "surface": [
           {
            "colorbar": {
             "outlinewidth": 0,
             "ticks": ""
            },
            "colorscale": [
             [
              0,
              "#0d0887"
             ],
             [
              0.1111111111111111,
              "#46039f"
             ],
             [
              0.2222222222222222,
              "#7201a8"
             ],
             [
              0.3333333333333333,
              "#9c179e"
             ],
             [
              0.4444444444444444,
              "#bd3786"
             ],
             [
              0.5555555555555556,
              "#d8576b"
             ],
             [
              0.6666666666666666,
              "#ed7953"
             ],
             [
              0.7777777777777778,
              "#fb9f3a"
             ],
             [
              0.8888888888888888,
              "#fdca26"
             ],
             [
              1,
              "#f0f921"
             ]
            ],
            "type": "surface"
           }
          ],
          "table": [
           {
            "cells": {
             "fill": {
              "color": "#EBF0F8"
             },
             "line": {
              "color": "white"
             }
            },
            "header": {
             "fill": {
              "color": "#C8D4E3"
             },
             "line": {
              "color": "white"
             }
            },
            "type": "table"
           }
          ]
         },
         "layout": {
          "annotationdefaults": {
           "arrowcolor": "#2a3f5f",
           "arrowhead": 0,
           "arrowwidth": 1
          },
          "autotypenumbers": "strict",
          "coloraxis": {
           "colorbar": {
            "outlinewidth": 0,
            "ticks": ""
           }
          },
          "colorscale": {
           "diverging": [
            [
             0,
             "#8e0152"
            ],
            [
             0.1,
             "#c51b7d"
            ],
            [
             0.2,
             "#de77ae"
            ],
            [
             0.3,
             "#f1b6da"
            ],
            [
             0.4,
             "#fde0ef"
            ],
            [
             0.5,
             "#f7f7f7"
            ],
            [
             0.6,
             "#e6f5d0"
            ],
            [
             0.7,
             "#b8e186"
            ],
            [
             0.8,
             "#7fbc41"
            ],
            [
             0.9,
             "#4d9221"
            ],
            [
             1,
             "#276419"
            ]
           ],
           "sequential": [
            [
             0,
             "#0d0887"
            ],
            [
             0.1111111111111111,
             "#46039f"
            ],
            [
             0.2222222222222222,
             "#7201a8"
            ],
            [
             0.3333333333333333,
             "#9c179e"
            ],
            [
             0.4444444444444444,
             "#bd3786"
            ],
            [
             0.5555555555555556,
             "#d8576b"
            ],
            [
             0.6666666666666666,
             "#ed7953"
            ],
            [
             0.7777777777777778,
             "#fb9f3a"
            ],
            [
             0.8888888888888888,
             "#fdca26"
            ],
            [
             1,
             "#f0f921"
            ]
           ],
           "sequentialminus": [
            [
             0,
             "#0d0887"
            ],
            [
             0.1111111111111111,
             "#46039f"
            ],
            [
             0.2222222222222222,
             "#7201a8"
            ],
            [
             0.3333333333333333,
             "#9c179e"
            ],
            [
             0.4444444444444444,
             "#bd3786"
            ],
            [
             0.5555555555555556,
             "#d8576b"
            ],
            [
             0.6666666666666666,
             "#ed7953"
            ],
            [
             0.7777777777777778,
             "#fb9f3a"
            ],
            [
             0.8888888888888888,
             "#fdca26"
            ],
            [
             1,
             "#f0f921"
            ]
           ]
          },
          "colorway": [
           "#636efa",
           "#EF553B",
           "#00cc96",
           "#ab63fa",
           "#FFA15A",
           "#19d3f3",
           "#FF6692",
           "#B6E880",
           "#FF97FF",
           "#FECB52"
          ],
          "font": {
           "color": "#2a3f5f"
          },
          "geo": {
           "bgcolor": "white",
           "lakecolor": "white",
           "landcolor": "#E5ECF6",
           "showlakes": true,
           "showland": true,
           "subunitcolor": "white"
          },
          "hoverlabel": {
           "align": "left"
          },
          "hovermode": "closest",
          "mapbox": {
           "style": "light"
          },
          "paper_bgcolor": "white",
          "plot_bgcolor": "#E5ECF6",
          "polar": {
           "angularaxis": {
            "gridcolor": "white",
            "linecolor": "white",
            "ticks": ""
           },
           "bgcolor": "#E5ECF6",
           "radialaxis": {
            "gridcolor": "white",
            "linecolor": "white",
            "ticks": ""
           }
          },
          "scene": {
           "xaxis": {
            "backgroundcolor": "#E5ECF6",
            "gridcolor": "white",
            "gridwidth": 2,
            "linecolor": "white",
            "showbackground": true,
            "ticks": "",
            "zerolinecolor": "white"
           },
           "yaxis": {
            "backgroundcolor": "#E5ECF6",
            "gridcolor": "white",
            "gridwidth": 2,
            "linecolor": "white",
            "showbackground": true,
            "ticks": "",
            "zerolinecolor": "white"
           },
           "zaxis": {
            "backgroundcolor": "#E5ECF6",
            "gridcolor": "white",
            "gridwidth": 2,
            "linecolor": "white",
            "showbackground": true,
            "ticks": "",
            "zerolinecolor": "white"
           }
          },
          "shapedefaults": {
           "line": {
            "color": "#2a3f5f"
           }
          },
          "ternary": {
           "aaxis": {
            "gridcolor": "white",
            "linecolor": "white",
            "ticks": ""
           },
           "baxis": {
            "gridcolor": "white",
            "linecolor": "white",
            "ticks": ""
           },
           "bgcolor": "#E5ECF6",
           "caxis": {
            "gridcolor": "white",
            "linecolor": "white",
            "ticks": ""
           }
          },
          "title": {
           "x": 0.05
          },
          "xaxis": {
           "automargin": true,
           "gridcolor": "white",
           "linecolor": "white",
           "ticks": "",
           "title": {
            "standoff": 15
           },
           "zerolinecolor": "white",
           "zerolinewidth": 2
          },
          "yaxis": {
           "automargin": true,
           "gridcolor": "white",
           "linecolor": "white",
           "ticks": "",
           "title": {
            "standoff": 15
           },
           "zerolinecolor": "white",
           "zerolinewidth": 2
          }
         }
        },
        "title": {
         "text": "response_length distribution"
        },
        "width": 800,
        "xaxis": {
         "anchor": "y",
         "domain": [
          0,
          1
         ],
         "title": {
          "text": "response_length"
         }
        },
        "xaxis2": {
         "anchor": "y2",
         "domain": [
          0,
          1
         ],
         "matches": "x",
         "showgrid": true,
         "showticklabels": false
        },
        "yaxis": {
         "anchor": "x",
         "domain": [
          0,
          0.8316
         ],
         "title": {
          "text": "Amount"
         }
        },
        "yaxis2": {
         "anchor": "x2",
         "domain": [
          0.8416,
          1
         ],
         "matches": "y2",
         "showgrid": false,
         "showline": false,
         "showticklabels": false,
         "ticks": ""
        }
       }
      }
     },
     "metadata": {},
     "output_type": "display_data"
    },
    {
     "data": {
      "text/plain": [
       "count     78.000000\n",
       "mean     126.551282\n",
       "std       21.192162\n",
       "min       75.000000\n",
       "25%      115.750000\n",
       "50%      127.000000\n",
       "75%      139.750000\n",
       "max      168.000000\n",
       "Name: response_length, dtype: float64"
      ]
     },
     "execution_count": 12,
     "metadata": {},
     "output_type": "execute_result"
    }
   ],
   "source": [
    "plot_continious_hist(data, \"response_length\")\n",
    "data[\"response_length\"].describe()"
   ]
  },
  {
   "cell_type": "code",
   "execution_count": 13,
   "id": "db5a6e2c",
   "metadata": {
    "execution": {
     "iopub.execute_input": "2023-11-20T06:07:13.843356Z",
     "iopub.status.busy": "2023-11-20T06:07:13.842505Z",
     "iopub.status.idle": "2023-11-20T06:07:13.847249Z",
     "shell.execute_reply": "2023-11-20T06:07:13.846227Z"
    },
    "papermill": {
     "duration": 0.025273,
     "end_time": "2023-11-20T06:07:13.849818",
     "exception": false,
     "start_time": "2023-11-20T06:07:13.824545",
     "status": "completed"
    },
    "tags": []
   },
   "outputs": [
    {
     "name": "stdout",
     "output_type": "stream",
     "text": [
      "Requirement already satisfied: pymorphy2 in c:\\users\\sumit\\anaconda3\\lib\\site-packages (0.9.1)\n",
      "Requirement already satisfied: dawg-python>=0.7.1 in c:\\users\\sumit\\anaconda3\\lib\\site-packages (from pymorphy2) (0.7.2)\n",
      "Requirement already satisfied: pymorphy2-dicts-ru<3.0,>=2.4 in c:\\users\\sumit\\anaconda3\\lib\\site-packages (from pymorphy2) (2.4.417127.4579844)\n",
      "Requirement already satisfied: docopt>=0.6 in c:\\users\\sumit\\anaconda3\\lib\\site-packages (from pymorphy2) (0.6.2)\n",
      "Note: you may need to restart the kernel to use updated packages.\n"
     ]
    },
    {
     "name": "stderr",
     "output_type": "stream",
     "text": [
      "DEPRECATION: textract 1.6.5 has a non-standard dependency specifier extract-msg<=0.29.*. pip 24.0 will enforce this behaviour change. A possible replacement is to upgrade to a newer version of textract or contact the author to suggest that they release a version with a conforming dependency specifiers. Discussion can be found at https://github.com/pypa/pip/issues/12063\n"
     ]
    }
   ],
   "source": [
    "pip install pymorphy2"
   ]
  },
  {
   "cell_type": "code",
   "execution_count": 14,
   "id": "fe2c4417",
   "metadata": {
    "execution": {
     "iopub.execute_input": "2023-11-20T06:07:13.887310Z",
     "iopub.status.busy": "2023-11-20T06:07:13.886984Z",
     "iopub.status.idle": "2023-11-20T06:07:13.892324Z",
     "shell.execute_reply": "2023-11-20T06:07:13.891405Z"
    },
    "papermill": {
     "duration": 0.026822,
     "end_time": "2023-11-20T06:07:13.894390",
     "exception": false,
     "start_time": "2023-11-20T06:07:13.867568",
     "status": "completed"
    },
    "tags": []
   },
   "outputs": [],
   "source": [
    "# from sklearn.feature_extraction.text import TfidfVectorizer\n",
    "\n",
    "# import nltk\n",
    "# from nltk.corpus import stopwords\n",
    "# from nltk.tokenize import sent_tokenize, word_tokenize\n",
    "# from nltk.stem import WordNetLemmatizer\n",
    "\n",
    "# import pymorphy2\n",
    "\n",
    "# nltk.download('punkt')\n",
    "# nltk.download('stopwords')\n",
    "\n",
    "# morph = pymorphy2.MorphAnalyzer()\n",
    "# STOP_WORDS = set(stopwords.words('english'))\n",
    "\n",
    "# def get_wordnet_pos(treebank_tag):\n",
    "#     if treebank_tag.startswith('J'):\n",
    "#         return 'a'  # adjective\n",
    "#     elif treebank_tag.startswith('V'):\n",
    "#         return 'v'  # verb\n",
    "#     elif treebank_tag.startswith('N'):\n",
    "#         return 'n'  # noun\n",
    "#     elif treebank_tag.startswith('R'):\n",
    "#         return 'r'  # adverb\n",
    "#     else:\n",
    "#         return 'n'  # set noun by default\n",
    "\n",
    "\n",
    "# def tokenize_text(text):\n",
    "#     sentences = sent_tokenize(text)\n",
    "#     tokens = []\n",
    "#     for sentence in sentences:\n",
    "#         sentence_tokens = word_tokenize(sentence)\n",
    "#         sentence_tokens = [token for token in sentence_tokens if token not in STOP_WORDS]\n",
    "#         lemmas = [morph.parse(token)[0].normal_form for token in sentence_tokens]\n",
    "#         tokens.extend(lemmas)\n",
    "#     return ' '.join(tokens)"
   ]
  },
  {
   "cell_type": "code",
   "execution_count": 15,
   "id": "cdf3e2e6",
   "metadata": {
    "execution": {
     "iopub.execute_input": "2023-11-20T06:07:13.924224Z",
     "iopub.status.busy": "2023-11-20T06:07:13.923953Z",
     "iopub.status.idle": "2023-11-20T06:14:02.531534Z",
     "shell.execute_reply": "2023-11-20T06:14:02.530547Z"
    },
    "papermill": {
     "duration": 408.629525,
     "end_time": "2023-11-20T06:14:02.539215",
     "exception": false,
     "start_time": "2023-11-20T06:07:13.909690",
     "status": "completed"
    },
    "tags": []
   },
   "outputs": [
    {
     "name": "stdout",
     "output_type": "stream",
     "text": [
      "0. Processed text 77/78.\n",
      "Extraction completed successfully. Completed for 00:00:22\n",
      "\n"
     ]
    },
    {
     "name": "stderr",
     "output_type": "stream",
     "text": [
      "UsageError: Line magic function `%%time` not found.\n"
     ]
    }
   ],
   "source": [
    "import pandas as pd\n",
    "\n",
    "data[\"response\"].fillna(\"\", inplace=True)\n",
    "\n",
    "texts = data[\"response\"]\n",
    "\n",
    "texts = (pd.DataFrame(texts))\n",
    "vectors = extract_text_vectors(\n",
    "    texts,\n",
    "    \"response\",\n",
    "    bert_model,\n",
    "    tokenizer,\n",
    "    DEVICE,\n",
    "    verbose_interval=1000\n",
    ")\n",
    "\n",
    "\n",
    "%%time\n",
    "\n",
    "texts = data[\"response\"]\n",
    "\n",
    "texts = (pd.DataFrame(texts))\n",
    "vectors = extract_text_vectors(\n",
    "    texts,\n",
    "    \"response\",\n",
    "    bert_model,\n",
    "    tokenizer,\n",
    "    DEVICE,\n",
    "    verbose_interval=1000\n",
    ")\n",
    "\n",
    "# tokens = texts.apply(tokenize_text)\n",
    "# vectors = TfidfVectorizer().fit_transform(tokens)\n",
    "\n",
    "# display(tokens.head())\n",
    "# print()\n",
    "vectors.head()"
   ]
  },
  {
   "cell_type": "code",
   "execution_count": 16,
   "id": "0fab1404",
   "metadata": {
    "execution": {
     "iopub.execute_input": "2023-11-20T06:14:02.585863Z",
     "iopub.status.busy": "2023-11-20T06:14:02.585559Z",
     "iopub.status.idle": "2023-11-20T06:14:02.680951Z",
     "shell.execute_reply": "2023-11-20T06:14:02.680153Z"
    },
    "papermill": {
     "duration": 0.121733,
     "end_time": "2023-11-20T06:14:02.682979",
     "exception": false,
     "start_time": "2023-11-20T06:14:02.561246",
     "status": "completed"
    },
    "tags": []
   },
   "outputs": [],
   "source": [
    "from sklearn.mixture import GaussianMixture\n",
    "from sklearn.cluster import KMeans"
   ]
  },
  {
   "cell_type": "code",
   "execution_count": 17,
   "id": "eef30386",
   "metadata": {
    "execution": {
     "iopub.execute_input": "2023-11-20T06:14:02.730690Z",
     "iopub.status.busy": "2023-11-20T06:14:02.730163Z",
     "iopub.status.idle": "2023-11-20T06:14:07.252852Z",
     "shell.execute_reply": "2023-11-20T06:14:07.251839Z"
    },
    "papermill": {
     "duration": 4.548854,
     "end_time": "2023-11-20T06:14:07.255151",
     "exception": false,
     "start_time": "2023-11-20T06:14:02.706297",
     "status": "completed"
    },
    "tags": []
   },
   "outputs": [
    {
     "name": "stdout",
     "output_type": "stream",
     "text": [
      "CPU times: total: 328 ms\n",
      "Wall time: 505 ms\n"
     ]
    }
   ],
   "source": [
    "%%time\n",
    "\n",
    "vectors[\"Preference\"] = KMeans(\n",
    "    n_clusters=3, random_state=42).fit_predict(vectors.drop(\"response\", axis=1))"
   ]
  },
  {
   "cell_type": "code",
   "execution_count": 18,
   "id": "9df6793a",
   "metadata": {
    "execution": {
     "iopub.execute_input": "2023-11-20T06:14:07.303291Z",
     "iopub.status.busy": "2023-11-20T06:14:07.303003Z",
     "iopub.status.idle": "2023-11-20T06:14:07.307537Z",
     "shell.execute_reply": "2023-11-20T06:14:07.306575Z"
    },
    "papermill": {
     "duration": 0.030264,
     "end_time": "2023-11-20T06:14:07.309449",
     "exception": false,
     "start_time": "2023-11-20T06:14:07.279185",
     "status": "completed"
    },
    "tags": []
   },
   "outputs": [],
   "source": [
    "n_components = 2\n",
    "reducer = UMAP(n_components=n_components, n_neighbors=400)\n",
    "# UMAP, TSNE, PCA, KernelPCA, LocallyLinearEmbedding, Isomap\n",
    "\n",
    "scaler = MinMaxScaler()"
   ]
  },
  {
   "cell_type": "code",
   "execution_count": 19,
   "id": "c67d8c6b",
   "metadata": {
    "execution": {
     "iopub.execute_input": "2023-11-20T06:14:07.354437Z",
     "iopub.status.busy": "2023-11-20T06:14:07.354148Z",
     "iopub.status.idle": "2023-11-20T06:17:01.359389Z",
     "shell.execute_reply": "2023-11-20T06:17:01.358244Z"
    },
    "papermill": {
     "duration": 174.052662,
     "end_time": "2023-11-20T06:17:01.383742",
     "exception": false,
     "start_time": "2023-11-20T06:14:07.331080",
     "status": "completed"
    },
    "tags": []
   },
   "outputs": [
    {
     "name": "stdout",
     "output_type": "stream",
     "text": [
      "CPU times: total: 4.77 s\n",
      "Wall time: 12.6 s\n"
     ]
    },
    {
     "data": {
      "text/html": [
       "<div>\n",
       "<style scoped>\n",
       "    .dataframe tbody tr th:only-of-type {\n",
       "        vertical-align: middle;\n",
       "    }\n",
       "\n",
       "    .dataframe tbody tr th {\n",
       "        vertical-align: top;\n",
       "    }\n",
       "\n",
       "    .dataframe thead th {\n",
       "        text-align: right;\n",
       "    }\n",
       "</style>\n",
       "<table border=\"1\" class=\"dataframe\">\n",
       "  <thead>\n",
       "    <tr style=\"text-align: right;\">\n",
       "      <th></th>\n",
       "      <th>0</th>\n",
       "      <th>1</th>\n",
       "      <th>query</th>\n",
       "      <th>response</th>\n",
       "      <th>Preference</th>\n",
       "    </tr>\n",
       "  </thead>\n",
       "  <tbody>\n",
       "    <tr>\n",
       "      <th>0</th>\n",
       "      <td>-1.909342</td>\n",
       "      <td>12.287382</td>\n",
       "      <td>My order hasn't arrived yet.</td>\n",
       "      <td>We apologize for the inconvenience. Can you please provide your order number so we can investigate?</td>\n",
       "      <td>1</td>\n",
       "    </tr>\n",
       "    <tr>\n",
       "      <th>1</th>\n",
       "      <td>-1.085459</td>\n",
       "      <td>11.410000</td>\n",
       "      <td>I received a damaged product.</td>\n",
       "      <td>We apologize for the inconvenience. Can you please provide a photo of the damaged product so we can assist you further?</td>\n",
       "      <td>1</td>\n",
       "    </tr>\n",
       "    <tr>\n",
       "      <th>2</th>\n",
       "      <td>0.285225</td>\n",
       "      <td>10.568338</td>\n",
       "      <td>I need to return an item.</td>\n",
       "      <td>Certainly. Please provide your order number and reason for return, and we will provide you with instructions on how to proceed.</td>\n",
       "      <td>0</td>\n",
       "    </tr>\n",
       "    <tr>\n",
       "      <th>3</th>\n",
       "      <td>-2.119059</td>\n",
       "      <td>12.587050</td>\n",
       "      <td>I want to change my shipping address.</td>\n",
       "      <td>No problem. Can you please provide your order number and the new shipping address you'd like to use?</td>\n",
       "      <td>1</td>\n",
       "    </tr>\n",
       "    <tr>\n",
       "      <th>4</th>\n",
       "      <td>-2.743788</td>\n",
       "      <td>12.350836</td>\n",
       "      <td>I have a question about my bill.</td>\n",
       "      <td>We'd be happy to help. Can you please provide your account number and a brief description of your question?</td>\n",
       "      <td>1</td>\n",
       "    </tr>\n",
       "    <tr>\n",
       "      <th>5</th>\n",
       "      <td>-2.567775</td>\n",
       "      <td>11.088795</td>\n",
       "      <td>How do I cancel my subscription?</td>\n",
       "      <td>We're sorry to hear that. Can you please provide your account email and the name of the subscription you'd like to cancel?</td>\n",
       "      <td>1</td>\n",
       "    </tr>\n",
       "    <tr>\n",
       "      <th>6</th>\n",
       "      <td>0.375237</td>\n",
       "      <td>10.297904</td>\n",
       "      <td>Can I get a refund for my purchase?</td>\n",
       "      <td>We understand your concern. Please provide your order number and the reason for your refund request so we can assist you fur...</td>\n",
       "      <td>0</td>\n",
       "    </tr>\n",
       "    <tr>\n",
       "      <th>7</th>\n",
       "      <td>-1.826753</td>\n",
       "      <td>12.787419</td>\n",
       "      <td>I'd like to track my order.</td>\n",
       "      <td>Of course. Can you please provide your order number so we can check the current status for you?</td>\n",
       "      <td>1</td>\n",
       "    </tr>\n",
       "    <tr>\n",
       "      <th>8</th>\n",
       "      <td>-1.550835</td>\n",
       "      <td>11.213137</td>\n",
       "      <td>My account has been locked.</td>\n",
       "      <td>We apologize for the inconvenience. Can you please provide your account email so we can help you regain access?</td>\n",
       "      <td>1</td>\n",
       "    </tr>\n",
       "    <tr>\n",
       "      <th>9</th>\n",
       "      <td>-2.463039</td>\n",
       "      <td>11.039510</td>\n",
       "      <td>I can't find the item I'm looking for.</td>\n",
       "      <td>We're here to help. Can you please provide a description or product name of the item you're looking for so we can assist you?</td>\n",
       "      <td>1</td>\n",
       "    </tr>\n",
       "    <tr>\n",
       "      <th>10</th>\n",
       "      <td>-0.643618</td>\n",
       "      <td>11.040521</td>\n",
       "      <td>I'm having trouble applying a promo code.</td>\n",
       "      <td>We apologize for the inconvenience. Can you please provide the promo code you're trying to use, and we'll help you resolve t...</td>\n",
       "      <td>1</td>\n",
       "    </tr>\n",
       "    <tr>\n",
       "      <th>11</th>\n",
       "      <td>-2.452752</td>\n",
       "      <td>11.664198</td>\n",
       "      <td>How do I update my payment information?</td>\n",
       "      <td>We can help with that. Can you please provide your account email so we can guide you through updating your payment information?</td>\n",
       "      <td>1</td>\n",
       "    </tr>\n",
       "    <tr>\n",
       "      <th>12</th>\n",
       "      <td>-3.194896</td>\n",
       "      <td>11.800018</td>\n",
       "      <td>I haven't received a response to my email inquiry.</td>\n",
       "      <td>We apologize for the delay. Can you please provide your ticket number or account email so we can follow up on your inquiry?</td>\n",
       "      <td>1</td>\n",
       "    </tr>\n",
       "    <tr>\n",
       "      <th>13</th>\n",
       "      <td>-1.990438</td>\n",
       "      <td>13.253983</td>\n",
       "      <td>Can I change the size of an item in my order?</td>\n",
       "      <td>Certainly. Can you please provide your order number and the details of the item you'd like to change?</td>\n",
       "      <td>1</td>\n",
       "    </tr>\n",
       "    <tr>\n",
       "      <th>14</th>\n",
       "      <td>-1.348861</td>\n",
       "      <td>11.864530</td>\n",
       "      <td>What is the status of my warranty claim?</td>\n",
       "      <td>We'd be happy to check for you. Can you please provide your claim number or the product's serial number?</td>\n",
       "      <td>1</td>\n",
       "    </tr>\n",
       "    <tr>\n",
       "      <th>15</th>\n",
       "      <td>-0.558034</td>\n",
       "      <td>12.284394</td>\n",
       "      <td>Is my item in stock?</td>\n",
       "      <td>To check availability, can you please provide the product name or SKU so we can assist you?</td>\n",
       "      <td>1</td>\n",
       "    </tr>\n",
       "    <tr>\n",
       "      <th>16</th>\n",
       "      <td>0.575536</td>\n",
       "      <td>10.553819</td>\n",
       "      <td>My promo code has expired. Can I still use it?</td>\n",
       "      <td>Unfortunately, expired promo codes cannot be used. However, please provide the code, and we'll see if there's a similar offe...</td>\n",
       "      <td>0</td>\n",
       "    </tr>\n",
       "    <tr>\n",
       "      <th>17</th>\n",
       "      <td>0.459153</td>\n",
       "      <td>10.291372</td>\n",
       "      <td>How do I reset my password?</td>\n",
       "      <td>We can help with that. Please provide your account email, and we'll send you instructions on how to reset your password.</td>\n",
       "      <td>0</td>\n",
       "    </tr>\n",
       "    <tr>\n",
       "      <th>18</th>\n",
       "      <td>-0.422762</td>\n",
       "      <td>13.319692</td>\n",
       "      <td>Can I place a bulk order?</td>\n",
       "      <td>Certainly. Can you please provide the product name or SKU, and the quantity you'd like to order so we can check availability...</td>\n",
       "      <td>1</td>\n",
       "    </tr>\n",
       "    <tr>\n",
       "      <th>19</th>\n",
       "      <td>-3.390660</td>\n",
       "      <td>11.297032</td>\n",
       "      <td>How do I apply for a job at your company?</td>\n",
       "      <td>Thank you for your interest. Can you please provide your email address so we can send you information on how to apply?</td>\n",
       "      <td>1</td>\n",
       "    </tr>\n",
       "    <tr>\n",
       "      <th>20</th>\n",
       "      <td>-2.839597</td>\n",
       "      <td>12.729979</td>\n",
       "      <td>Can I add an item to an existing order?</td>\n",
       "      <td>We'll do our best to help. Can you please provide your order number and the details of the item you'd like to add?</td>\n",
       "      <td>1</td>\n",
       "    </tr>\n",
       "    <tr>\n",
       "      <th>21</th>\n",
       "      <td>-0.718580</td>\n",
       "      <td>12.373789</td>\n",
       "      <td>How long does shipping take?</td>\n",
       "      <td>We'd be happy to provide an estimate. Can you please provide your shipping destination and the product name or SKU?</td>\n",
       "      <td>1</td>\n",
       "    </tr>\n",
       "    <tr>\n",
       "      <th>22</th>\n",
       "      <td>-1.686388</td>\n",
       "      <td>12.189129</td>\n",
       "      <td>I was charged twice for my order.</td>\n",
       "      <td>We apologize for the inconvenience. Can you please provide your order number so we can investigate and resolve the issue?</td>\n",
       "      <td>1</td>\n",
       "    </tr>\n",
       "    <tr>\n",
       "      <th>23</th>\n",
       "      <td>-0.907330</td>\n",
       "      <td>12.185296</td>\n",
       "      <td>Where can I find your sizing chart?</td>\n",
       "      <td>We'd be happy to help. Can you please provide the product name or SKU so we can direct you to the appropriate sizing chart?</td>\n",
       "      <td>1</td>\n",
       "    </tr>\n",
       "    <tr>\n",
       "      <th>24</th>\n",
       "      <td>-0.124500</td>\n",
       "      <td>11.106372</td>\n",
       "      <td>I need technical support for a product.</td>\n",
       "      <td>We're here to help. Can you please provide the product name, SKU, or serial number, and a description of the issue you're ex...</td>\n",
       "      <td>1</td>\n",
       "    </tr>\n",
       "    <tr>\n",
       "      <th>25</th>\n",
       "      <td>-1.967033</td>\n",
       "      <td>13.584797</td>\n",
       "      <td>Can I exchange an item for a different color?</td>\n",
       "      <td>Certainly. Can you please provide your order number and the details of the item you'd like to exchange?</td>\n",
       "      <td>1</td>\n",
       "    </tr>\n",
       "    <tr>\n",
       "      <th>26</th>\n",
       "      <td>-3.655362</td>\n",
       "      <td>11.730578</td>\n",
       "      <td>How do I apply for a store credit card?</td>\n",
       "      <td>Thank you for your interest. Can you please provide your email address so we can send you information on how to apply?</td>\n",
       "      <td>1</td>\n",
       "    </tr>\n",
       "    <tr>\n",
       "      <th>27</th>\n",
       "      <td>-1.971606</td>\n",
       "      <td>10.564731</td>\n",
       "      <td>Where is your store located?</td>\n",
       "      <td>We'd be happy to help you find a store near you. Can you please provide your city and state or zip code?</td>\n",
       "      <td>1</td>\n",
       "    </tr>\n",
       "    <tr>\n",
       "      <th>28</th>\n",
       "      <td>-1.617918</td>\n",
       "      <td>11.422242</td>\n",
       "      <td>I can't log into my account.</td>\n",
       "      <td>We apologize for the inconvenience. Can you please provide your account email so we can help you troubleshoot the issue?</td>\n",
       "      <td>1</td>\n",
       "    </tr>\n",
       "    <tr>\n",
       "      <th>29</th>\n",
       "      <td>0.164242</td>\n",
       "      <td>12.219822</td>\n",
       "      <td>Do you offer gift wrapping?</td>\n",
       "      <td>We do offer gift wrapping for select items. Can you please provide the product name or SKU so we can confirm if gift wrappin...</td>\n",
       "      <td>1</td>\n",
       "    </tr>\n",
       "    <tr>\n",
       "      <th>30</th>\n",
       "      <td>-1.796784</td>\n",
       "      <td>13.398083</td>\n",
       "      <td>Can I schedule a delivery?</td>\n",
       "      <td>Certainly. Can you please provide your order number and the preferred date and time for delivery?</td>\n",
       "      <td>1</td>\n",
       "    </tr>\n",
       "    <tr>\n",
       "      <th>31</th>\n",
       "      <td>-3.450984</td>\n",
       "      <td>12.037665</td>\n",
       "      <td>How do I unsubscribe from your newsletter?</td>\n",
       "      <td>We're sorry to see you go. Can you please provide your email address so we can remove you from our mailing list?</td>\n",
       "      <td>1</td>\n",
       "    </tr>\n",
       "    <tr>\n",
       "      <th>32</th>\n",
       "      <td>-0.448519</td>\n",
       "      <td>11.865406</td>\n",
       "      <td>What is your return policy?</td>\n",
       "      <td>We'd be happy to provide information on our return policy. Can you please provide the product name or SKU so we can give you...</td>\n",
       "      <td>1</td>\n",
       "    </tr>\n",
       "    <tr>\n",
       "      <th>33</th>\n",
       "      <td>0.551581</td>\n",
       "      <td>11.988358</td>\n",
       "      <td>Do you offer price matching?</td>\n",
       "      <td>We do offer price matching in certain cases. Can you please provide the product name or SKU and the competitor's pricing inf...</td>\n",
       "      <td>1</td>\n",
       "    </tr>\n",
       "    <tr>\n",
       "      <th>34</th>\n",
       "      <td>-0.399842</td>\n",
       "      <td>10.803516</td>\n",
       "      <td>Are there any current promotions or sales?</td>\n",
       "      <td>We'd be happy to inform you of any current promotions. Can you please provide the product name or SKU you're interested in, ...</td>\n",
       "      <td>1</td>\n",
       "    </tr>\n",
       "    <tr>\n",
       "      <th>35</th>\n",
       "      <td>-0.075701</td>\n",
       "      <td>12.166500</td>\n",
       "      <td>My coupon isn't working.</td>\n",
       "      <td>We apologize for the inconvenience. Can you please provide the coupon code and the product name or SKU you're trying to appl...</td>\n",
       "      <td>1</td>\n",
       "    </tr>\n",
       "    <tr>\n",
       "      <th>36</th>\n",
       "      <td>-0.839116</td>\n",
       "      <td>10.533557</td>\n",
       "      <td>Can you help me with a product recommendation?</td>\n",
       "      <td>Of course! Can you please provide some details about what you're looking for, such as product type, features, or price range?</td>\n",
       "      <td>1</td>\n",
       "    </tr>\n",
       "    <tr>\n",
       "      <th>37</th>\n",
       "      <td>-1.200457</td>\n",
       "      <td>12.283605</td>\n",
       "      <td>Do you offer international shipping?</td>\n",
       "      <td>We'd be happy to help. Can you please provide your shipping destination and the product name or SKU you're interested in?</td>\n",
       "      <td>1</td>\n",
       "    </tr>\n",
       "    <tr>\n",
       "      <th>38</th>\n",
       "      <td>-1.550005</td>\n",
       "      <td>13.357388</td>\n",
       "      <td>Can I place an order over the phone?</td>\n",
       "      <td>Certainly. Can you please provide your phone number and the best time to reach you, and one of our representatives will cont...</td>\n",
       "      <td>1</td>\n",
       "    </tr>\n",
       "    <tr>\n",
       "      <th>39</th>\n",
       "      <td>-2.253681</td>\n",
       "      <td>11.453550</td>\n",
       "      <td>How do I know if my order went through?</td>\n",
       "      <td>We can help you with that. Can you please provide your account email or order number so we can check the status for you?</td>\n",
       "      <td>1</td>\n",
       "    </tr>\n",
       "    <tr>\n",
       "      <th>40</th>\n",
       "      <td>0.146514</td>\n",
       "      <td>10.641212</td>\n",
       "      <td>Can I use multiple promo codes on one order?</td>\n",
       "      <td>In most cases, only one promo code can be applied per order. Can you please provide the promo codes you're trying to use so ...</td>\n",
       "      <td>0</td>\n",
       "    </tr>\n",
       "    <tr>\n",
       "      <th>41</th>\n",
       "      <td>0.743223</td>\n",
       "      <td>10.798336</td>\n",
       "      <td>What are your customer service hours?</td>\n",
       "      <td>Our customer service team is available 24/7 to assist you. Please feel free to reach out with any questions or concerns.</td>\n",
       "      <td>0</td>\n",
       "    </tr>\n",
       "    <tr>\n",
       "      <th>42</th>\n",
       "      <td>-0.751132</td>\n",
       "      <td>11.670877</td>\n",
       "      <td>Where can I find the user manual for my product?</td>\n",
       "      <td>We'd be happy to help. Can you please provide the product name, SKU, or serial number so we can direct you to the appropriat...</td>\n",
       "      <td>1</td>\n",
       "    </tr>\n",
       "    <tr>\n",
       "      <th>43</th>\n",
       "      <td>0.326350</td>\n",
       "      <td>12.035923</td>\n",
       "      <td>Do you offer a warranty on your products?</td>\n",
       "      <td>We do offer warranties on select products. Can you please provide the product name or SKU so we can provide you with warrant...</td>\n",
       "      <td>1</td>\n",
       "    </tr>\n",
       "    <tr>\n",
       "      <th>44</th>\n",
       "      <td>-0.870491</td>\n",
       "      <td>13.324899</td>\n",
       "      <td>Can I place an order for in-store pickup?</td>\n",
       "      <td>Certainly. Can you please provide the product name or SKU and the store location where you'd like to pick up your order?</td>\n",
       "      <td>1</td>\n",
       "    </tr>\n",
       "    <tr>\n",
       "      <th>45</th>\n",
       "      <td>-3.568634</td>\n",
       "      <td>11.439777</td>\n",
       "      <td>How do I sign up for your rewards program?</td>\n",
       "      <td>Thank you for your interest in our rewards program. Can you please provide your email address so we can send you information...</td>\n",
       "      <td>1</td>\n",
       "    </tr>\n",
       "    <tr>\n",
       "      <th>46</th>\n",
       "      <td>0.405772</td>\n",
       "      <td>12.477261</td>\n",
       "      <td>Can I pay with a gift card online?</td>\n",
       "      <td>Yes, you can use gift cards for online purchases. Can you please provide the gift card number and the product name or SKU yo...</td>\n",
       "      <td>1</td>\n",
       "    </tr>\n",
       "    <tr>\n",
       "      <th>47</th>\n",
       "      <td>-1.312421</td>\n",
       "      <td>11.065191</td>\n",
       "      <td>I can't find my order confirmation email.</td>\n",
       "      <td>We apologize for the inconvenience. Can you please provide your account email or order number so we can resend the confirmat...</td>\n",
       "      <td>1</td>\n",
       "    </tr>\n",
       "    <tr>\n",
       "      <th>48</th>\n",
       "      <td>-1.672327</td>\n",
       "      <td>10.938740</td>\n",
       "      <td>Do you offer a military discount?</td>\n",
       "      <td>Yes, we do offer a military discount. Can you please provide your military ID or email address so we can apply the discount ...</td>\n",
       "      <td>1</td>\n",
       "    </tr>\n",
       "    <tr>\n",
       "      <th>49</th>\n",
       "      <td>-1.073903</td>\n",
       "      <td>12.692603</td>\n",
       "      <td>What is the processing time for my order?</td>\n",
       "      <td>We'd be happy to provide an estimate. Can you please provide your order number or the product name or SKU?</td>\n",
       "      <td>1</td>\n",
       "    </tr>\n",
       "    <tr>\n",
       "      <th>50</th>\n",
       "      <td>-1.883777</td>\n",
       "      <td>11.818121</td>\n",
       "      <td>How do I update my shipping preferences?</td>\n",
       "      <td>We can help with that. Can you please provide your account email so we can guide you through updating your shipping preferen...</td>\n",
       "      <td>1</td>\n",
       "    </tr>\n",
       "    <tr>\n",
       "      <th>51</th>\n",
       "      <td>-2.712308</td>\n",
       "      <td>11.941062</td>\n",
       "      <td>Is my payment information secure?</td>\n",
       "      <td>Yes, we take security very seriously. Can you please provide your account email so we can verify the security measures in pl...</td>\n",
       "      <td>1</td>\n",
       "    </tr>\n",
       "    <tr>\n",
       "      <th>52</th>\n",
       "      <td>-0.156117</td>\n",
       "      <td>13.130634</td>\n",
       "      <td>Can I pre-order an item?</td>\n",
       "      <td>Certainly. Can you please provide the product name or SKU and your email address so we can notify you when pre-orders are av...</td>\n",
       "      <td>1</td>\n",
       "    </tr>\n",
       "    <tr>\n",
       "      <th>53</th>\n",
       "      <td>-0.119912</td>\n",
       "      <td>11.598695</td>\n",
       "      <td>How do I use a gift card in-store?</td>\n",
       "      <td>To use a gift card in-store, simply present the gift card at the time of purchase. Can you please provide the gift card numb...</td>\n",
       "      <td>1</td>\n",
       "    </tr>\n",
       "    <tr>\n",
       "      <th>54</th>\n",
       "      <td>-3.513005</td>\n",
       "      <td>10.947596</td>\n",
       "      <td>Do you have a loyalty program?</td>\n",
       "      <td>Yes, we do have a loyalty program. Can you please provide your email address so we can send you information on how to join a...</td>\n",
       "      <td>1</td>\n",
       "    </tr>\n",
       "    <tr>\n",
       "      <th>55</th>\n",
       "      <td>-3.054647</td>\n",
       "      <td>11.015596</td>\n",
       "      <td>Is there a mobile app for your store?</td>\n",
       "      <td>Yes, we do have a mobile app. Can you please provide your email address so we can send you a link to download the app and in...</td>\n",
       "      <td>1</td>\n",
       "    </tr>\n",
       "    <tr>\n",
       "      <th>56</th>\n",
       "      <td>-0.022814</td>\n",
       "      <td>11.634058</td>\n",
       "      <td>I need help assembling my product.</td>\n",
       "      <td>We're here to help. Can you please provide the product name, SKU, or serial number, and a description of the issue you're ex...</td>\n",
       "      <td>1</td>\n",
       "    </tr>\n",
       "    <tr>\n",
       "      <th>57</th>\n",
       "      <td>0.362561</td>\n",
       "      <td>11.561534</td>\n",
       "      <td>Do you offer financing options?</td>\n",
       "      <td>We do offer financing options for select purchases. Can you please provide the product name or SKU and your email address so...</td>\n",
       "      <td>1</td>\n",
       "    </tr>\n",
       "    <tr>\n",
       "      <th>58</th>\n",
       "      <td>-0.686794</td>\n",
       "      <td>13.055794</td>\n",
       "      <td>Can I reserve an item in-store?</td>\n",
       "      <td>Certainly. Can you please provide the product name or SKU and the store location where you'd like to reserve the item?</td>\n",
       "      <td>1</td>\n",
       "    </tr>\n",
       "    <tr>\n",
       "      <th>59</th>\n",
       "      <td>-0.774124</td>\n",
       "      <td>12.774338</td>\n",
       "      <td>How do I get a price adjustment for a recent purchase?</td>\n",
       "      <td>We'd be happy to help. Can you please provide your order number and the product name or SKU for the item you'd like a price ...</td>\n",
       "      <td>1</td>\n",
       "    </tr>\n",
       "    <tr>\n",
       "      <th>60</th>\n",
       "      <td>-2.057670</td>\n",
       "      <td>11.893847</td>\n",
       "      <td>How do I change my email preferences?</td>\n",
       "      <td>We can help with that. Can you please provide your account email so we can guide you through updating your email preferences?</td>\n",
       "      <td>1</td>\n",
       "    </tr>\n",
       "    <tr>\n",
       "      <th>61</th>\n",
       "      <td>0.518095</td>\n",
       "      <td>12.637444</td>\n",
       "      <td>Can I use my store credit online?</td>\n",
       "      <td>Yes, you can use store credit for online purchases. Can you please provide the store credit number and the product name or S...</td>\n",
       "      <td>1</td>\n",
       "    </tr>\n",
       "    <tr>\n",
       "      <th>62</th>\n",
       "      <td>-0.723148</td>\n",
       "      <td>11.890553</td>\n",
       "      <td>What are the washing instructions for this item?</td>\n",
       "      <td>We'd be happy to help. Can you please provide the product name or SKU so we can provide you with the proper washing instruct...</td>\n",
       "      <td>1</td>\n",
       "    </tr>\n",
       "    <tr>\n",
       "      <th>63</th>\n",
       "      <td>0.019600</td>\n",
       "      <td>13.011440</td>\n",
       "      <td>Can I get a replacement part for my product?</td>\n",
       "      <td>Certainly. Can you please provide the product name, SKU, or serial number, and a description of the part you need?</td>\n",
       "      <td>1</td>\n",
       "    </tr>\n",
       "    <tr>\n",
       "      <th>64</th>\n",
       "      <td>0.760355</td>\n",
       "      <td>12.041329</td>\n",
       "      <td>Do you offer free shipping?</td>\n",
       "      <td>We do offer free shipping on select orders. Can you please provide the product name or SKU and your shipping destination so ...</td>\n",
       "      <td>1</td>\n",
       "    </tr>\n",
       "    <tr>\n",
       "      <th>65</th>\n",
       "      <td>-0.391754</td>\n",
       "      <td>12.206644</td>\n",
       "      <td>Can I place a custom order?</td>\n",
       "      <td>We'd be happy to assist you. Can you please provide the product name or SKU and a description of the customizations you'd like?</td>\n",
       "      <td>1</td>\n",
       "    </tr>\n",
       "    <tr>\n",
       "      <th>66</th>\n",
       "      <td>-2.688851</td>\n",
       "      <td>10.691846</td>\n",
       "      <td>How do I report a problem with your website?</td>\n",
       "      <td>We appreciate your feedback. Can you please provide a description of the issue you're experiencing and your email address so...</td>\n",
       "      <td>1</td>\n",
       "    </tr>\n",
       "    <tr>\n",
       "      <th>67</th>\n",
       "      <td>0.381651</td>\n",
       "      <td>10.918729</td>\n",
       "      <td>What is your policy on price adjustments?</td>\n",
       "      <td>We'd be happy to provide information on our price adjustment policy. Can you please provide the product name or SKU so we ca...</td>\n",
       "      <td>0</td>\n",
       "    </tr>\n",
       "    <tr>\n",
       "      <th>68</th>\n",
       "      <td>-2.983107</td>\n",
       "      <td>11.529675</td>\n",
       "      <td>Do you have any upcoming sales or events?</td>\n",
       "      <td>We'd be happy to inform you of any upcoming sales or events. Can you please provide your email address so we can keep you up...</td>\n",
       "      <td>1</td>\n",
       "    </tr>\n",
       "    <tr>\n",
       "      <th>69</th>\n",
       "      <td>-2.290452</td>\n",
       "      <td>10.545219</td>\n",
       "      <td>How do I schedule a consultation or appointment?</td>\n",
       "      <td>We'd be happy to help. Can you please provide your name, phone number, and the service you're interested in so we can schedu...</td>\n",
       "      <td>1</td>\n",
       "    </tr>\n",
       "    <tr>\n",
       "      <th>70</th>\n",
       "      <td>-2.303039</td>\n",
       "      <td>12.915442</td>\n",
       "      <td>Can I get a copy of my receipt?</td>\n",
       "      <td>Certainly. Can you please provide your order number or account email so we can locate your receipt and send you a copy?</td>\n",
       "      <td>1</td>\n",
       "    </tr>\n",
       "    <tr>\n",
       "      <th>71</th>\n",
       "      <td>-0.084136</td>\n",
       "      <td>12.595793</td>\n",
       "      <td>Can I use a competitor's coupon at your store?</td>\n",
       "      <td>In some cases, we may accept competitor coupons. Can you please provide the competitor's coupon code and the product name or...</td>\n",
       "      <td>1</td>\n",
       "    </tr>\n",
       "    <tr>\n",
       "      <th>72</th>\n",
       "      <td>-2.884268</td>\n",
       "      <td>11.266023</td>\n",
       "      <td>Do you have a recycling program?</td>\n",
       "      <td>Yes, we do have a recycling program. Can you please provide your email address so we can send you information on how to part...</td>\n",
       "      <td>1</td>\n",
       "    </tr>\n",
       "    <tr>\n",
       "      <th>73</th>\n",
       "      <td>-2.153362</td>\n",
       "      <td>10.926178</td>\n",
       "      <td>How do I report a lost or stolen gift card?</td>\n",
       "      <td>We're sorry to hear that. Can you please provide the gift card number, if available, and your email address so we can assist...</td>\n",
       "      <td>1</td>\n",
       "    </tr>\n",
       "    <tr>\n",
       "      <th>74</th>\n",
       "      <td>-4.000698</td>\n",
       "      <td>11.906281</td>\n",
       "      <td>who are you</td>\n",
       "      <td>Hi, I am your AI Support Agent, a revolution made in India, tell me your query!</td>\n",
       "      <td>2</td>\n",
       "    </tr>\n",
       "    <tr>\n",
       "      <th>75</th>\n",
       "      <td>-2.086420</td>\n",
       "      <td>11.031729</td>\n",
       "      <td>How are you</td>\n",
       "      <td>I am awesome and hope that you are also fit and fine, how can I assist you!</td>\n",
       "      <td>1</td>\n",
       "    </tr>\n",
       "    <tr>\n",
       "      <th>76</th>\n",
       "      <td>-4.031959</td>\n",
       "      <td>11.446364</td>\n",
       "      <td>hello</td>\n",
       "      <td>Hi, I am your AI Support Agent, a revolution made in India, tell me your query!</td>\n",
       "      <td>2</td>\n",
       "    </tr>\n",
       "    <tr>\n",
       "      <th>77</th>\n",
       "      <td>-3.946079</td>\n",
       "      <td>11.758756</td>\n",
       "      <td>hi</td>\n",
       "      <td>Hi, I am your AI Support Agent, a revolution made in India, tell me your query!</td>\n",
       "      <td>2</td>\n",
       "    </tr>\n",
       "  </tbody>\n",
       "</table>\n",
       "</div>"
      ],
      "text/plain": [
       "           0          1  \\\n",
       "0  -1.909342  12.287382   \n",
       "1  -1.085459  11.410000   \n",
       "2   0.285225  10.568338   \n",
       "3  -2.119059  12.587050   \n",
       "4  -2.743788  12.350836   \n",
       "5  -2.567775  11.088795   \n",
       "6   0.375237  10.297904   \n",
       "7  -1.826753  12.787419   \n",
       "8  -1.550835  11.213137   \n",
       "9  -2.463039  11.039510   \n",
       "10 -0.643618  11.040521   \n",
       "11 -2.452752  11.664198   \n",
       "12 -3.194896  11.800018   \n",
       "13 -1.990438  13.253983   \n",
       "14 -1.348861  11.864530   \n",
       "15 -0.558034  12.284394   \n",
       "16  0.575536  10.553819   \n",
       "17  0.459153  10.291372   \n",
       "18 -0.422762  13.319692   \n",
       "19 -3.390660  11.297032   \n",
       "20 -2.839597  12.729979   \n",
       "21 -0.718580  12.373789   \n",
       "22 -1.686388  12.189129   \n",
       "23 -0.907330  12.185296   \n",
       "24 -0.124500  11.106372   \n",
       "25 -1.967033  13.584797   \n",
       "26 -3.655362  11.730578   \n",
       "27 -1.971606  10.564731   \n",
       "28 -1.617918  11.422242   \n",
       "29  0.164242  12.219822   \n",
       "30 -1.796784  13.398083   \n",
       "31 -3.450984  12.037665   \n",
       "32 -0.448519  11.865406   \n",
       "33  0.551581  11.988358   \n",
       "34 -0.399842  10.803516   \n",
       "35 -0.075701  12.166500   \n",
       "36 -0.839116  10.533557   \n",
       "37 -1.200457  12.283605   \n",
       "38 -1.550005  13.357388   \n",
       "39 -2.253681  11.453550   \n",
       "40  0.146514  10.641212   \n",
       "41  0.743223  10.798336   \n",
       "42 -0.751132  11.670877   \n",
       "43  0.326350  12.035923   \n",
       "44 -0.870491  13.324899   \n",
       "45 -3.568634  11.439777   \n",
       "46  0.405772  12.477261   \n",
       "47 -1.312421  11.065191   \n",
       "48 -1.672327  10.938740   \n",
       "49 -1.073903  12.692603   \n",
       "50 -1.883777  11.818121   \n",
       "51 -2.712308  11.941062   \n",
       "52 -0.156117  13.130634   \n",
       "53 -0.119912  11.598695   \n",
       "54 -3.513005  10.947596   \n",
       "55 -3.054647  11.015596   \n",
       "56 -0.022814  11.634058   \n",
       "57  0.362561  11.561534   \n",
       "58 -0.686794  13.055794   \n",
       "59 -0.774124  12.774338   \n",
       "60 -2.057670  11.893847   \n",
       "61  0.518095  12.637444   \n",
       "62 -0.723148  11.890553   \n",
       "63  0.019600  13.011440   \n",
       "64  0.760355  12.041329   \n",
       "65 -0.391754  12.206644   \n",
       "66 -2.688851  10.691846   \n",
       "67  0.381651  10.918729   \n",
       "68 -2.983107  11.529675   \n",
       "69 -2.290452  10.545219   \n",
       "70 -2.303039  12.915442   \n",
       "71 -0.084136  12.595793   \n",
       "72 -2.884268  11.266023   \n",
       "73 -2.153362  10.926178   \n",
       "74 -4.000698  11.906281   \n",
       "75 -2.086420  11.031729   \n",
       "76 -4.031959  11.446364   \n",
       "77 -3.946079  11.758756   \n",
       "\n",
       "                                                     query  \\\n",
       "0                             My order hasn't arrived yet.   \n",
       "1                            I received a damaged product.   \n",
       "2                                I need to return an item.   \n",
       "3                    I want to change my shipping address.   \n",
       "4                         I have a question about my bill.   \n",
       "5                         How do I cancel my subscription?   \n",
       "6                      Can I get a refund for my purchase?   \n",
       "7                              I'd like to track my order.   \n",
       "8                              My account has been locked.   \n",
       "9                   I can't find the item I'm looking for.   \n",
       "10               I'm having trouble applying a promo code.   \n",
       "11                 How do I update my payment information?   \n",
       "12      I haven't received a response to my email inquiry.   \n",
       "13           Can I change the size of an item in my order?   \n",
       "14                What is the status of my warranty claim?   \n",
       "15                                    Is my item in stock?   \n",
       "16          My promo code has expired. Can I still use it?   \n",
       "17                             How do I reset my password?   \n",
       "18                               Can I place a bulk order?   \n",
       "19               How do I apply for a job at your company?   \n",
       "20                 Can I add an item to an existing order?   \n",
       "21                            How long does shipping take?   \n",
       "22                       I was charged twice for my order.   \n",
       "23                     Where can I find your sizing chart?   \n",
       "24                 I need technical support for a product.   \n",
       "25           Can I exchange an item for a different color?   \n",
       "26                 How do I apply for a store credit card?   \n",
       "27                            Where is your store located?   \n",
       "28                            I can't log into my account.   \n",
       "29                             Do you offer gift wrapping?   \n",
       "30                              Can I schedule a delivery?   \n",
       "31              How do I unsubscribe from your newsletter?   \n",
       "32                             What is your return policy?   \n",
       "33                            Do you offer price matching?   \n",
       "34              Are there any current promotions or sales?   \n",
       "35                                My coupon isn't working.   \n",
       "36          Can you help me with a product recommendation?   \n",
       "37                    Do you offer international shipping?   \n",
       "38                    Can I place an order over the phone?   \n",
       "39                 How do I know if my order went through?   \n",
       "40            Can I use multiple promo codes on one order?   \n",
       "41                   What are your customer service hours?   \n",
       "42        Where can I find the user manual for my product?   \n",
       "43               Do you offer a warranty on your products?   \n",
       "44               Can I place an order for in-store pickup?   \n",
       "45              How do I sign up for your rewards program?   \n",
       "46                      Can I pay with a gift card online?   \n",
       "47               I can't find my order confirmation email.   \n",
       "48                       Do you offer a military discount?   \n",
       "49               What is the processing time for my order?   \n",
       "50                How do I update my shipping preferences?   \n",
       "51                       Is my payment information secure?   \n",
       "52                                Can I pre-order an item?   \n",
       "53                      How do I use a gift card in-store?   \n",
       "54                          Do you have a loyalty program?   \n",
       "55                   Is there a mobile app for your store?   \n",
       "56                      I need help assembling my product.   \n",
       "57                         Do you offer financing options?   \n",
       "58                         Can I reserve an item in-store?   \n",
       "59  How do I get a price adjustment for a recent purchase?   \n",
       "60                   How do I change my email preferences?   \n",
       "61                       Can I use my store credit online?   \n",
       "62        What are the washing instructions for this item?   \n",
       "63            Can I get a replacement part for my product?   \n",
       "64                             Do you offer free shipping?   \n",
       "65                             Can I place a custom order?   \n",
       "66            How do I report a problem with your website?   \n",
       "67               What is your policy on price adjustments?   \n",
       "68               Do you have any upcoming sales or events?   \n",
       "69        How do I schedule a consultation or appointment?   \n",
       "70                         Can I get a copy of my receipt?   \n",
       "71          Can I use a competitor's coupon at your store?   \n",
       "72                        Do you have a recycling program?   \n",
       "73             How do I report a lost or stolen gift card?   \n",
       "74                                             who are you   \n",
       "75                                             How are you   \n",
       "76                                                   hello   \n",
       "77                                                      hi   \n",
       "\n",
       "                                                                                                                           response  \\\n",
       "0                               We apologize for the inconvenience. Can you please provide your order number so we can investigate?   \n",
       "1           We apologize for the inconvenience. Can you please provide a photo of the damaged product so we can assist you further?   \n",
       "2   Certainly. Please provide your order number and reason for return, and we will provide you with instructions on how to proceed.   \n",
       "3                              No problem. Can you please provide your order number and the new shipping address you'd like to use?   \n",
       "4                       We'd be happy to help. Can you please provide your account number and a brief description of your question?   \n",
       "5        We're sorry to hear that. Can you please provide your account email and the name of the subscription you'd like to cancel?   \n",
       "6   We understand your concern. Please provide your order number and the reason for your refund request so we can assist you fur...   \n",
       "7                                   Of course. Can you please provide your order number so we can check the current status for you?   \n",
       "8                   We apologize for the inconvenience. Can you please provide your account email so we can help you regain access?   \n",
       "9     We're here to help. Can you please provide a description or product name of the item you're looking for so we can assist you?   \n",
       "10  We apologize for the inconvenience. Can you please provide the promo code you're trying to use, and we'll help you resolve t...   \n",
       "11  We can help with that. Can you please provide your account email so we can guide you through updating your payment information?   \n",
       "12      We apologize for the delay. Can you please provide your ticket number or account email so we can follow up on your inquiry?   \n",
       "13                            Certainly. Can you please provide your order number and the details of the item you'd like to change?   \n",
       "14                         We'd be happy to check for you. Can you please provide your claim number or the product's serial number?   \n",
       "15                                      To check availability, can you please provide the product name or SKU so we can assist you?   \n",
       "16  Unfortunately, expired promo codes cannot be used. However, please provide the code, and we'll see if there's a similar offe...   \n",
       "17         We can help with that. Please provide your account email, and we'll send you instructions on how to reset your password.   \n",
       "18  Certainly. Can you please provide the product name or SKU, and the quantity you'd like to order so we can check availability...   \n",
       "19           Thank you for your interest. Can you please provide your email address so we can send you information on how to apply?   \n",
       "20               We'll do our best to help. Can you please provide your order number and the details of the item you'd like to add?   \n",
       "21              We'd be happy to provide an estimate. Can you please provide your shipping destination and the product name or SKU?   \n",
       "22        We apologize for the inconvenience. Can you please provide your order number so we can investigate and resolve the issue?   \n",
       "23      We'd be happy to help. Can you please provide the product name or SKU so we can direct you to the appropriate sizing chart?   \n",
       "24  We're here to help. Can you please provide the product name, SKU, or serial number, and a description of the issue you're ex...   \n",
       "25                          Certainly. Can you please provide your order number and the details of the item you'd like to exchange?   \n",
       "26           Thank you for your interest. Can you please provide your email address so we can send you information on how to apply?   \n",
       "27                         We'd be happy to help you find a store near you. Can you please provide your city and state or zip code?   \n",
       "28         We apologize for the inconvenience. Can you please provide your account email so we can help you troubleshoot the issue?   \n",
       "29  We do offer gift wrapping for select items. Can you please provide the product name or SKU so we can confirm if gift wrappin...   \n",
       "30                                Certainly. Can you please provide your order number and the preferred date and time for delivery?   \n",
       "31                 We're sorry to see you go. Can you please provide your email address so we can remove you from our mailing list?   \n",
       "32  We'd be happy to provide information on our return policy. Can you please provide the product name or SKU so we can give you...   \n",
       "33  We do offer price matching in certain cases. Can you please provide the product name or SKU and the competitor's pricing inf...   \n",
       "34  We'd be happy to inform you of any current promotions. Can you please provide the product name or SKU you're interested in, ...   \n",
       "35  We apologize for the inconvenience. Can you please provide the coupon code and the product name or SKU you're trying to appl...   \n",
       "36    Of course! Can you please provide some details about what you're looking for, such as product type, features, or price range?   \n",
       "37        We'd be happy to help. Can you please provide your shipping destination and the product name or SKU you're interested in?   \n",
       "38  Certainly. Can you please provide your phone number and the best time to reach you, and one of our representatives will cont...   \n",
       "39         We can help you with that. Can you please provide your account email or order number so we can check the status for you?   \n",
       "40  In most cases, only one promo code can be applied per order. Can you please provide the promo codes you're trying to use so ...   \n",
       "41         Our customer service team is available 24/7 to assist you. Please feel free to reach out with any questions or concerns.   \n",
       "42  We'd be happy to help. Can you please provide the product name, SKU, or serial number so we can direct you to the appropriat...   \n",
       "43  We do offer warranties on select products. Can you please provide the product name or SKU so we can provide you with warrant...   \n",
       "44         Certainly. Can you please provide the product name or SKU and the store location where you'd like to pick up your order?   \n",
       "45  Thank you for your interest in our rewards program. Can you please provide your email address so we can send you information...   \n",
       "46  Yes, you can use gift cards for online purchases. Can you please provide the gift card number and the product name or SKU yo...   \n",
       "47  We apologize for the inconvenience. Can you please provide your account email or order number so we can resend the confirmat...   \n",
       "48  Yes, we do offer a military discount. Can you please provide your military ID or email address so we can apply the discount ...   \n",
       "49                       We'd be happy to provide an estimate. Can you please provide your order number or the product name or SKU?   \n",
       "50  We can help with that. Can you please provide your account email so we can guide you through updating your shipping preferen...   \n",
       "51  Yes, we take security very seriously. Can you please provide your account email so we can verify the security measures in pl...   \n",
       "52  Certainly. Can you please provide the product name or SKU and your email address so we can notify you when pre-orders are av...   \n",
       "53  To use a gift card in-store, simply present the gift card at the time of purchase. Can you please provide the gift card numb...   \n",
       "54  Yes, we do have a loyalty program. Can you please provide your email address so we can send you information on how to join a...   \n",
       "55  Yes, we do have a mobile app. Can you please provide your email address so we can send you a link to download the app and in...   \n",
       "56  We're here to help. Can you please provide the product name, SKU, or serial number, and a description of the issue you're ex...   \n",
       "57  We do offer financing options for select purchases. Can you please provide the product name or SKU and your email address so...   \n",
       "58           Certainly. Can you please provide the product name or SKU and the store location where you'd like to reserve the item?   \n",
       "59  We'd be happy to help. Can you please provide your order number and the product name or SKU for the item you'd like a price ...   \n",
       "60    We can help with that. Can you please provide your account email so we can guide you through updating your email preferences?   \n",
       "61  Yes, you can use store credit for online purchases. Can you please provide the store credit number and the product name or S...   \n",
       "62  We'd be happy to help. Can you please provide the product name or SKU so we can provide you with the proper washing instruct...   \n",
       "63               Certainly. Can you please provide the product name, SKU, or serial number, and a description of the part you need?   \n",
       "64  We do offer free shipping on select orders. Can you please provide the product name or SKU and your shipping destination so ...   \n",
       "65  We'd be happy to assist you. Can you please provide the product name or SKU and a description of the customizations you'd like?   \n",
       "66  We appreciate your feedback. Can you please provide a description of the issue you're experiencing and your email address so...   \n",
       "67  We'd be happy to provide information on our price adjustment policy. Can you please provide the product name or SKU so we ca...   \n",
       "68  We'd be happy to inform you of any upcoming sales or events. Can you please provide your email address so we can keep you up...   \n",
       "69  We'd be happy to help. Can you please provide your name, phone number, and the service you're interested in so we can schedu...   \n",
       "70          Certainly. Can you please provide your order number or account email so we can locate your receipt and send you a copy?   \n",
       "71  In some cases, we may accept competitor coupons. Can you please provide the competitor's coupon code and the product name or...   \n",
       "72  Yes, we do have a recycling program. Can you please provide your email address so we can send you information on how to part...   \n",
       "73  We're sorry to hear that. Can you please provide the gift card number, if available, and your email address so we can assist...   \n",
       "74                                                  Hi, I am your AI Support Agent, a revolution made in India, tell me your query!   \n",
       "75                                                      I am awesome and hope that you are also fit and fine, how can I assist you!   \n",
       "76                                                  Hi, I am your AI Support Agent, a revolution made in India, tell me your query!   \n",
       "77                                                  Hi, I am your AI Support Agent, a revolution made in India, tell me your query!   \n",
       "\n",
       "   Preference  \n",
       "0           1  \n",
       "1           1  \n",
       "2           0  \n",
       "3           1  \n",
       "4           1  \n",
       "5           1  \n",
       "6           0  \n",
       "7           1  \n",
       "8           1  \n",
       "9           1  \n",
       "10          1  \n",
       "11          1  \n",
       "12          1  \n",
       "13          1  \n",
       "14          1  \n",
       "15          1  \n",
       "16          0  \n",
       "17          0  \n",
       "18          1  \n",
       "19          1  \n",
       "20          1  \n",
       "21          1  \n",
       "22          1  \n",
       "23          1  \n",
       "24          1  \n",
       "25          1  \n",
       "26          1  \n",
       "27          1  \n",
       "28          1  \n",
       "29          1  \n",
       "30          1  \n",
       "31          1  \n",
       "32          1  \n",
       "33          1  \n",
       "34          1  \n",
       "35          1  \n",
       "36          1  \n",
       "37          1  \n",
       "38          1  \n",
       "39          1  \n",
       "40          0  \n",
       "41          0  \n",
       "42          1  \n",
       "43          1  \n",
       "44          1  \n",
       "45          1  \n",
       "46          1  \n",
       "47          1  \n",
       "48          1  \n",
       "49          1  \n",
       "50          1  \n",
       "51          1  \n",
       "52          1  \n",
       "53          1  \n",
       "54          1  \n",
       "55          1  \n",
       "56          1  \n",
       "57          1  \n",
       "58          1  \n",
       "59          1  \n",
       "60          1  \n",
       "61          1  \n",
       "62          1  \n",
       "63          1  \n",
       "64          1  \n",
       "65          1  \n",
       "66          1  \n",
       "67          0  \n",
       "68          1  \n",
       "69          1  \n",
       "70          1  \n",
       "71          1  \n",
       "72          1  \n",
       "73          1  \n",
       "74          2  \n",
       "75          1  \n",
       "76          2  \n",
       "77          2  "
      ]
     },
     "execution_count": 19,
     "metadata": {},
     "output_type": "execute_result"
    }
   ],
   "source": [
    "%%time\n",
    "\n",
    "X = vectors.drop([\"response\", \"Preference\"], axis=1)\n",
    "y = data[\"query\"]\n",
    "y_2 = vectors[\"Preference\"]\n",
    "\n",
    "if scaler is not None:\n",
    "    X = scaler.fit_transform(X)\n",
    "\n",
    "\n",
    "reduced_ds = pd.DataFrame(reducer.fit_transform(X))\n",
    "reduced_ds = pd.concat([reduced_ds, y], axis=1)\n",
    "reduced_ds = pd.concat([reduced_ds, texts], axis=1)\n",
    "reduced_ds = pd.concat([reduced_ds, vectors[\"Preference\"]], axis=1)\n",
    "\n",
    "reduced_ds[\"Preference\"] = reduced_ds[\"Preference\"].astype(\"object\")\n",
    "\n",
    "reduced_ds"
   ]
  },
  {
   "cell_type": "code",
   "execution_count": 20,
   "id": "0bbdc5e4",
   "metadata": {
    "execution": {
     "iopub.execute_input": "2023-11-20T06:17:01.430925Z",
     "iopub.status.busy": "2023-11-20T06:17:01.430563Z",
     "iopub.status.idle": "2023-11-20T06:17:01.601407Z",
     "shell.execute_reply": "2023-11-20T06:17:01.600527Z"
    },
    "papermill": {
     "duration": 0.203284,
     "end_time": "2023-11-20T06:17:01.610038",
     "exception": false,
     "start_time": "2023-11-20T06:17:01.406754",
     "status": "completed"
    },
    "tags": []
   },
   "outputs": [
    {
     "data": {
      "application/vnd.plotly.v1+json": {
       "config": {
        "plotlyServerURL": "https://plot.ly"
       },
       "data": [
        {
         "hovertemplate": "query=My order hasn't arrived yet.<br>0=%{x}<br>1=%{y}<extra></extra>",
         "legendgroup": "My order hasn't arrived yet.",
         "marker": {
          "color": "#636efa",
          "symbol": "circle"
         },
         "mode": "markers",
         "name": "My order hasn't arrived yet.",
         "orientation": "v",
         "showlegend": true,
         "type": "scatter",
         "x": [
          -1.9093421697616577
         ],
         "xaxis": "x",
         "y": [
          12.287382125854492
         ],
         "yaxis": "y"
        },
        {
         "hovertemplate": "query=I received a damaged product.<br>0=%{x}<br>1=%{y}<extra></extra>",
         "legendgroup": "I received a damaged product.",
         "marker": {
          "color": "#EF553B",
          "symbol": "circle"
         },
         "mode": "markers",
         "name": "I received a damaged product.",
         "orientation": "v",
         "showlegend": true,
         "type": "scatter",
         "x": [
          -1.0854594707489014
         ],
         "xaxis": "x",
         "y": [
          11.40999984741211
         ],
         "yaxis": "y"
        },
        {
         "hovertemplate": "query=I need to return an item.<br>0=%{x}<br>1=%{y}<extra></extra>",
         "legendgroup": "I need to return an item.",
         "marker": {
          "color": "#00cc96",
          "symbol": "circle"
         },
         "mode": "markers",
         "name": "I need to return an item.",
         "orientation": "v",
         "showlegend": true,
         "type": "scatter",
         "x": [
          0.2852253019809723
         ],
         "xaxis": "x",
         "y": [
          10.568338394165039
         ],
         "yaxis": "y"
        },
        {
         "hovertemplate": "query=I want to change my shipping address.<br>0=%{x}<br>1=%{y}<extra></extra>",
         "legendgroup": "I want to change my shipping address.",
         "marker": {
          "color": "#ab63fa",
          "symbol": "circle"
         },
         "mode": "markers",
         "name": "I want to change my shipping address.",
         "orientation": "v",
         "showlegend": true,
         "type": "scatter",
         "x": [
          -2.119058847427368
         ],
         "xaxis": "x",
         "y": [
          12.587050437927246
         ],
         "yaxis": "y"
        },
        {
         "hovertemplate": "query=I have a question about my bill.<br>0=%{x}<br>1=%{y}<extra></extra>",
         "legendgroup": "I have a question about my bill.",
         "marker": {
          "color": "#FFA15A",
          "symbol": "circle"
         },
         "mode": "markers",
         "name": "I have a question about my bill.",
         "orientation": "v",
         "showlegend": true,
         "type": "scatter",
         "x": [
          -2.7437877655029297
         ],
         "xaxis": "x",
         "y": [
          12.350835800170898
         ],
         "yaxis": "y"
        },
        {
         "hovertemplate": "query=How do I cancel my subscription?<br>0=%{x}<br>1=%{y}<extra></extra>",
         "legendgroup": "How do I cancel my subscription?",
         "marker": {
          "color": "#19d3f3",
          "symbol": "circle"
         },
         "mode": "markers",
         "name": "How do I cancel my subscription?",
         "orientation": "v",
         "showlegend": true,
         "type": "scatter",
         "x": [
          -2.567775011062622
         ],
         "xaxis": "x",
         "y": [
          11.088794708251953
         ],
         "yaxis": "y"
        },
        {
         "hovertemplate": "query=Can I get a refund for my purchase?<br>0=%{x}<br>1=%{y}<extra></extra>",
         "legendgroup": "Can I get a refund for my purchase?",
         "marker": {
          "color": "#FF6692",
          "symbol": "circle"
         },
         "mode": "markers",
         "name": "Can I get a refund for my purchase?",
         "orientation": "v",
         "showlegend": true,
         "type": "scatter",
         "x": [
          0.37523654103279114
         ],
         "xaxis": "x",
         "y": [
          10.297904014587402
         ],
         "yaxis": "y"
        },
        {
         "hovertemplate": "query=I'd like to track my order.<br>0=%{x}<br>1=%{y}<extra></extra>",
         "legendgroup": "I'd like to track my order.",
         "marker": {
          "color": "#B6E880",
          "symbol": "circle"
         },
         "mode": "markers",
         "name": "I'd like to track my order.",
         "orientation": "v",
         "showlegend": true,
         "type": "scatter",
         "x": [
          -1.8267529010772705
         ],
         "xaxis": "x",
         "y": [
          12.787419319152832
         ],
         "yaxis": "y"
        },
        {
         "hovertemplate": "query=My account has been locked.<br>0=%{x}<br>1=%{y}<extra></extra>",
         "legendgroup": "My account has been locked.",
         "marker": {
          "color": "#FF97FF",
          "symbol": "circle"
         },
         "mode": "markers",
         "name": "My account has been locked.",
         "orientation": "v",
         "showlegend": true,
         "type": "scatter",
         "x": [
          -1.5508350133895874
         ],
         "xaxis": "x",
         "y": [
          11.213136672973633
         ],
         "yaxis": "y"
        },
        {
         "hovertemplate": "query=I can't find the item I'm looking for.<br>0=%{x}<br>1=%{y}<extra></extra>",
         "legendgroup": "I can't find the item I'm looking for.",
         "marker": {
          "color": "#FECB52",
          "symbol": "circle"
         },
         "mode": "markers",
         "name": "I can't find the item I'm looking for.",
         "orientation": "v",
         "showlegend": true,
         "type": "scatter",
         "x": [
          -2.463038921356201
         ],
         "xaxis": "x",
         "y": [
          11.039509773254395
         ],
         "yaxis": "y"
        },
        {
         "hovertemplate": "query=I'm having trouble applying a promo code.<br>0=%{x}<br>1=%{y}<extra></extra>",
         "legendgroup": "I'm having trouble applying a promo code.",
         "marker": {
          "color": "#636efa",
          "symbol": "circle"
         },
         "mode": "markers",
         "name": "I'm having trouble applying a promo code.",
         "orientation": "v",
         "showlegend": true,
         "type": "scatter",
         "x": [
          -0.6436179876327515
         ],
         "xaxis": "x",
         "y": [
          11.040520668029785
         ],
         "yaxis": "y"
        },
        {
         "hovertemplate": "query=How do I update my payment information?<br>0=%{x}<br>1=%{y}<extra></extra>",
         "legendgroup": "How do I update my payment information?",
         "marker": {
          "color": "#EF553B",
          "symbol": "circle"
         },
         "mode": "markers",
         "name": "How do I update my payment information?",
         "orientation": "v",
         "showlegend": true,
         "type": "scatter",
         "x": [
          -2.4527523517608643
         ],
         "xaxis": "x",
         "y": [
          11.66419792175293
         ],
         "yaxis": "y"
        },
        {
         "hovertemplate": "query=I haven't received a response to my email inquiry.<br>0=%{x}<br>1=%{y}<extra></extra>",
         "legendgroup": "I haven't received a response to my email inquiry.",
         "marker": {
          "color": "#00cc96",
          "symbol": "circle"
         },
         "mode": "markers",
         "name": "I haven't received a response to my email inquiry.",
         "orientation": "v",
         "showlegend": true,
         "type": "scatter",
         "x": [
          -3.1948957443237305
         ],
         "xaxis": "x",
         "y": [
          11.800018310546875
         ],
         "yaxis": "y"
        },
        {
         "hovertemplate": "query=Can I change the size of an item in my order?<br>0=%{x}<br>1=%{y}<extra></extra>",
         "legendgroup": "Can I change the size of an item in my order?",
         "marker": {
          "color": "#ab63fa",
          "symbol": "circle"
         },
         "mode": "markers",
         "name": "Can I change the size of an item in my order?",
         "orientation": "v",
         "showlegend": true,
         "type": "scatter",
         "x": [
          -1.9904381036758423
         ],
         "xaxis": "x",
         "y": [
          13.253982543945312
         ],
         "yaxis": "y"
        },
        {
         "hovertemplate": "query=What is the status of my warranty claim?<br>0=%{x}<br>1=%{y}<extra></extra>",
         "legendgroup": "What is the status of my warranty claim?",
         "marker": {
          "color": "#FFA15A",
          "symbol": "circle"
         },
         "mode": "markers",
         "name": "What is the status of my warranty claim?",
         "orientation": "v",
         "showlegend": true,
         "type": "scatter",
         "x": [
          -1.3488613367080688
         ],
         "xaxis": "x",
         "y": [
          11.864529609680176
         ],
         "yaxis": "y"
        },
        {
         "hovertemplate": "query=Is my item in stock?<br>0=%{x}<br>1=%{y}<extra></extra>",
         "legendgroup": "Is my item in stock?",
         "marker": {
          "color": "#19d3f3",
          "symbol": "circle"
         },
         "mode": "markers",
         "name": "Is my item in stock?",
         "orientation": "v",
         "showlegend": true,
         "type": "scatter",
         "x": [
          -0.5580344796180725
         ],
         "xaxis": "x",
         "y": [
          12.284394264221191
         ],
         "yaxis": "y"
        },
        {
         "hovertemplate": "query=My promo code has expired. Can I still use it?<br>0=%{x}<br>1=%{y}<extra></extra>",
         "legendgroup": "My promo code has expired. Can I still use it?",
         "marker": {
          "color": "#FF6692",
          "symbol": "circle"
         },
         "mode": "markers",
         "name": "My promo code has expired. Can I still use it?",
         "orientation": "v",
         "showlegend": true,
         "type": "scatter",
         "x": [
          0.57553631067276
         ],
         "xaxis": "x",
         "y": [
          10.553818702697754
         ],
         "yaxis": "y"
        },
        {
         "hovertemplate": "query=How do I reset my password?<br>0=%{x}<br>1=%{y}<extra></extra>",
         "legendgroup": "How do I reset my password?",
         "marker": {
          "color": "#B6E880",
          "symbol": "circle"
         },
         "mode": "markers",
         "name": "How do I reset my password?",
         "orientation": "v",
         "showlegend": true,
         "type": "scatter",
         "x": [
          0.45915260910987854
         ],
         "xaxis": "x",
         "y": [
          10.291372299194336
         ],
         "yaxis": "y"
        },
        {
         "hovertemplate": "query=Can I place a bulk order?<br>0=%{x}<br>1=%{y}<extra></extra>",
         "legendgroup": "Can I place a bulk order?",
         "marker": {
          "color": "#FF97FF",
          "symbol": "circle"
         },
         "mode": "markers",
         "name": "Can I place a bulk order?",
         "orientation": "v",
         "showlegend": true,
         "type": "scatter",
         "x": [
          -0.42276230454444885
         ],
         "xaxis": "x",
         "y": [
          13.31969165802002
         ],
         "yaxis": "y"
        },
        {
         "hovertemplate": "query=How do I apply for a job at your company?<br>0=%{x}<br>1=%{y}<extra></extra>",
         "legendgroup": "How do I apply for a job at your company?",
         "marker": {
          "color": "#FECB52",
          "symbol": "circle"
         },
         "mode": "markers",
         "name": "How do I apply for a job at your company?",
         "orientation": "v",
         "showlegend": true,
         "type": "scatter",
         "x": [
          -3.390659809112549
         ],
         "xaxis": "x",
         "y": [
          11.297032356262207
         ],
         "yaxis": "y"
        },
        {
         "hovertemplate": "query=Can I add an item to an existing order?<br>0=%{x}<br>1=%{y}<extra></extra>",
         "legendgroup": "Can I add an item to an existing order?",
         "marker": {
          "color": "#636efa",
          "symbol": "circle"
         },
         "mode": "markers",
         "name": "Can I add an item to an existing order?",
         "orientation": "v",
         "showlegend": true,
         "type": "scatter",
         "x": [
          -2.83959698677063
         ],
         "xaxis": "x",
         "y": [
          12.729978561401367
         ],
         "yaxis": "y"
        },
        {
         "hovertemplate": "query=How long does shipping take?<br>0=%{x}<br>1=%{y}<extra></extra>",
         "legendgroup": "How long does shipping take?",
         "marker": {
          "color": "#EF553B",
          "symbol": "circle"
         },
         "mode": "markers",
         "name": "How long does shipping take?",
         "orientation": "v",
         "showlegend": true,
         "type": "scatter",
         "x": [
          -0.7185796499252319
         ],
         "xaxis": "x",
         "y": [
          12.373788833618164
         ],
         "yaxis": "y"
        },
        {
         "hovertemplate": "query=I was charged twice for my order.<br>0=%{x}<br>1=%{y}<extra></extra>",
         "legendgroup": "I was charged twice for my order.",
         "marker": {
          "color": "#00cc96",
          "symbol": "circle"
         },
         "mode": "markers",
         "name": "I was charged twice for my order.",
         "orientation": "v",
         "showlegend": true,
         "type": "scatter",
         "x": [
          -1.6863878965377808
         ],
         "xaxis": "x",
         "y": [
          12.189128875732422
         ],
         "yaxis": "y"
        },
        {
         "hovertemplate": "query=Where can I find your sizing chart?<br>0=%{x}<br>1=%{y}<extra></extra>",
         "legendgroup": "Where can I find your sizing chart?",
         "marker": {
          "color": "#ab63fa",
          "symbol": "circle"
         },
         "mode": "markers",
         "name": "Where can I find your sizing chart?",
         "orientation": "v",
         "showlegend": true,
         "type": "scatter",
         "x": [
          -0.9073301553726196
         ],
         "xaxis": "x",
         "y": [
          12.185296058654785
         ],
         "yaxis": "y"
        },
        {
         "hovertemplate": "query=I need technical support for a product.<br>0=%{x}<br>1=%{y}<extra></extra>",
         "legendgroup": "I need technical support for a product.",
         "marker": {
          "color": "#FFA15A",
          "symbol": "circle"
         },
         "mode": "markers",
         "name": "I need technical support for a product.",
         "orientation": "v",
         "showlegend": true,
         "type": "scatter",
         "x": [
          -0.12449970841407776
         ],
         "xaxis": "x",
         "y": [
          11.106371879577637
         ],
         "yaxis": "y"
        },
        {
         "hovertemplate": "query=Can I exchange an item for a different color?<br>0=%{x}<br>1=%{y}<extra></extra>",
         "legendgroup": "Can I exchange an item for a different color?",
         "marker": {
          "color": "#19d3f3",
          "symbol": "circle"
         },
         "mode": "markers",
         "name": "Can I exchange an item for a different color?",
         "orientation": "v",
         "showlegend": true,
         "type": "scatter",
         "x": [
          -1.9670330286026
         ],
         "xaxis": "x",
         "y": [
          13.584796905517578
         ],
         "yaxis": "y"
        },
        {
         "hovertemplate": "query=How do I apply for a store credit card?<br>0=%{x}<br>1=%{y}<extra></extra>",
         "legendgroup": "How do I apply for a store credit card?",
         "marker": {
          "color": "#FF6692",
          "symbol": "circle"
         },
         "mode": "markers",
         "name": "How do I apply for a store credit card?",
         "orientation": "v",
         "showlegend": true,
         "type": "scatter",
         "x": [
          -3.6553618907928467
         ],
         "xaxis": "x",
         "y": [
          11.730578422546387
         ],
         "yaxis": "y"
        },
        {
         "hovertemplate": "query=Where is your store located?<br>0=%{x}<br>1=%{y}<extra></extra>",
         "legendgroup": "Where is your store located?",
         "marker": {
          "color": "#B6E880",
          "symbol": "circle"
         },
         "mode": "markers",
         "name": "Where is your store located?",
         "orientation": "v",
         "showlegend": true,
         "type": "scatter",
         "x": [
          -1.971605896949768
         ],
         "xaxis": "x",
         "y": [
          10.564730644226074
         ],
         "yaxis": "y"
        },
        {
         "hovertemplate": "query=I can't log into my account.<br>0=%{x}<br>1=%{y}<extra></extra>",
         "legendgroup": "I can't log into my account.",
         "marker": {
          "color": "#FF97FF",
          "symbol": "circle"
         },
         "mode": "markers",
         "name": "I can't log into my account.",
         "orientation": "v",
         "showlegend": true,
         "type": "scatter",
         "x": [
          -1.617917776107788
         ],
         "xaxis": "x",
         "y": [
          11.422242164611816
         ],
         "yaxis": "y"
        },
        {
         "hovertemplate": "query=Do you offer gift wrapping?<br>0=%{x}<br>1=%{y}<extra></extra>",
         "legendgroup": "Do you offer gift wrapping?",
         "marker": {
          "color": "#FECB52",
          "symbol": "circle"
         },
         "mode": "markers",
         "name": "Do you offer gift wrapping?",
         "orientation": "v",
         "showlegend": true,
         "type": "scatter",
         "x": [
          0.16424232721328735
         ],
         "xaxis": "x",
         "y": [
          12.21982192993164
         ],
         "yaxis": "y"
        },
        {
         "hovertemplate": "query=Can I schedule a delivery?<br>0=%{x}<br>1=%{y}<extra></extra>",
         "legendgroup": "Can I schedule a delivery?",
         "marker": {
          "color": "#636efa",
          "symbol": "circle"
         },
         "mode": "markers",
         "name": "Can I schedule a delivery?",
         "orientation": "v",
         "showlegend": true,
         "type": "scatter",
         "x": [
          -1.7967841625213623
         ],
         "xaxis": "x",
         "y": [
          13.398082733154297
         ],
         "yaxis": "y"
        },
        {
         "hovertemplate": "query=How do I unsubscribe from your newsletter?<br>0=%{x}<br>1=%{y}<extra></extra>",
         "legendgroup": "How do I unsubscribe from your newsletter?",
         "marker": {
          "color": "#EF553B",
          "symbol": "circle"
         },
         "mode": "markers",
         "name": "How do I unsubscribe from your newsletter?",
         "orientation": "v",
         "showlegend": true,
         "type": "scatter",
         "x": [
          -3.450984239578247
         ],
         "xaxis": "x",
         "y": [
          12.037665367126465
         ],
         "yaxis": "y"
        },
        {
         "hovertemplate": "query=What is your return policy?<br>0=%{x}<br>1=%{y}<extra></extra>",
         "legendgroup": "What is your return policy?",
         "marker": {
          "color": "#00cc96",
          "symbol": "circle"
         },
         "mode": "markers",
         "name": "What is your return policy?",
         "orientation": "v",
         "showlegend": true,
         "type": "scatter",
         "x": [
          -0.4485194683074951
         ],
         "xaxis": "x",
         "y": [
          11.865406036376953
         ],
         "yaxis": "y"
        },
        {
         "hovertemplate": "query=Do you offer price matching?<br>0=%{x}<br>1=%{y}<extra></extra>",
         "legendgroup": "Do you offer price matching?",
         "marker": {
          "color": "#ab63fa",
          "symbol": "circle"
         },
         "mode": "markers",
         "name": "Do you offer price matching?",
         "orientation": "v",
         "showlegend": true,
         "type": "scatter",
         "x": [
          0.5515813827514648
         ],
         "xaxis": "x",
         "y": [
          11.988358497619629
         ],
         "yaxis": "y"
        },
        {
         "hovertemplate": "query=Are there any current promotions or sales?<br>0=%{x}<br>1=%{y}<extra></extra>",
         "legendgroup": "Are there any current promotions or sales?",
         "marker": {
          "color": "#FFA15A",
          "symbol": "circle"
         },
         "mode": "markers",
         "name": "Are there any current promotions or sales?",
         "orientation": "v",
         "showlegend": true,
         "type": "scatter",
         "x": [
          -0.3998415172100067
         ],
         "xaxis": "x",
         "y": [
          10.803516387939453
         ],
         "yaxis": "y"
        },
        {
         "hovertemplate": "query=My coupon isn't working.<br>0=%{x}<br>1=%{y}<extra></extra>",
         "legendgroup": "My coupon isn't working.",
         "marker": {
          "color": "#19d3f3",
          "symbol": "circle"
         },
         "mode": "markers",
         "name": "My coupon isn't working.",
         "orientation": "v",
         "showlegend": true,
         "type": "scatter",
         "x": [
          -0.07570131868124008
         ],
         "xaxis": "x",
         "y": [
          12.166500091552734
         ],
         "yaxis": "y"
        },
        {
         "hovertemplate": "query=Can you help me with a product recommendation?<br>0=%{x}<br>1=%{y}<extra></extra>",
         "legendgroup": "Can you help me with a product recommendation?",
         "marker": {
          "color": "#FF6692",
          "symbol": "circle"
         },
         "mode": "markers",
         "name": "Can you help me with a product recommendation?",
         "orientation": "v",
         "showlegend": true,
         "type": "scatter",
         "x": [
          -0.8391161561012268
         ],
         "xaxis": "x",
         "y": [
          10.533556938171387
         ],
         "yaxis": "y"
        },
        {
         "hovertemplate": "query=Do you offer international shipping?<br>0=%{x}<br>1=%{y}<extra></extra>",
         "legendgroup": "Do you offer international shipping?",
         "marker": {
          "color": "#B6E880",
          "symbol": "circle"
         },
         "mode": "markers",
         "name": "Do you offer international shipping?",
         "orientation": "v",
         "showlegend": true,
         "type": "scatter",
         "x": [
          -1.2004573345184326
         ],
         "xaxis": "x",
         "y": [
          12.283604621887207
         ],
         "yaxis": "y"
        },
        {
         "hovertemplate": "query=Can I place an order over the phone?<br>0=%{x}<br>1=%{y}<extra></extra>",
         "legendgroup": "Can I place an order over the phone?",
         "marker": {
          "color": "#FF97FF",
          "symbol": "circle"
         },
         "mode": "markers",
         "name": "Can I place an order over the phone?",
         "orientation": "v",
         "showlegend": true,
         "type": "scatter",
         "x": [
          -1.550005316734314
         ],
         "xaxis": "x",
         "y": [
          13.35738754272461
         ],
         "yaxis": "y"
        },
        {
         "hovertemplate": "query=How do I know if my order went through?<br>0=%{x}<br>1=%{y}<extra></extra>",
         "legendgroup": "How do I know if my order went through?",
         "marker": {
          "color": "#FECB52",
          "symbol": "circle"
         },
         "mode": "markers",
         "name": "How do I know if my order went through?",
         "orientation": "v",
         "showlegend": true,
         "type": "scatter",
         "x": [
          -2.253680944442749
         ],
         "xaxis": "x",
         "y": [
          11.453550338745117
         ],
         "yaxis": "y"
        },
        {
         "hovertemplate": "query=Can I use multiple promo codes on one order?<br>0=%{x}<br>1=%{y}<extra></extra>",
         "legendgroup": "Can I use multiple promo codes on one order?",
         "marker": {
          "color": "#636efa",
          "symbol": "circle"
         },
         "mode": "markers",
         "name": "Can I use multiple promo codes on one order?",
         "orientation": "v",
         "showlegend": true,
         "type": "scatter",
         "x": [
          0.14651408791542053
         ],
         "xaxis": "x",
         "y": [
          10.64121150970459
         ],
         "yaxis": "y"
        },
        {
         "hovertemplate": "query=What are your customer service hours?<br>0=%{x}<br>1=%{y}<extra></extra>",
         "legendgroup": "What are your customer service hours?",
         "marker": {
          "color": "#EF553B",
          "symbol": "circle"
         },
         "mode": "markers",
         "name": "What are your customer service hours?",
         "orientation": "v",
         "showlegend": true,
         "type": "scatter",
         "x": [
          0.7432231307029724
         ],
         "xaxis": "x",
         "y": [
          10.798336029052734
         ],
         "yaxis": "y"
        },
        {
         "hovertemplate": "query=Where can I find the user manual for my product?<br>0=%{x}<br>1=%{y}<extra></extra>",
         "legendgroup": "Where can I find the user manual for my product?",
         "marker": {
          "color": "#00cc96",
          "symbol": "circle"
         },
         "mode": "markers",
         "name": "Where can I find the user manual for my product?",
         "orientation": "v",
         "showlegend": true,
         "type": "scatter",
         "x": [
          -0.7511320114135742
         ],
         "xaxis": "x",
         "y": [
          11.670877456665039
         ],
         "yaxis": "y"
        },
        {
         "hovertemplate": "query=Do you offer a warranty on your products?<br>0=%{x}<br>1=%{y}<extra></extra>",
         "legendgroup": "Do you offer a warranty on your products?",
         "marker": {
          "color": "#ab63fa",
          "symbol": "circle"
         },
         "mode": "markers",
         "name": "Do you offer a warranty on your products?",
         "orientation": "v",
         "showlegend": true,
         "type": "scatter",
         "x": [
          0.3263501524925232
         ],
         "xaxis": "x",
         "y": [
          12.03592300415039
         ],
         "yaxis": "y"
        },
        {
         "hovertemplate": "query=Can I place an order for in-store pickup?<br>0=%{x}<br>1=%{y}<extra></extra>",
         "legendgroup": "Can I place an order for in-store pickup?",
         "marker": {
          "color": "#FFA15A",
          "symbol": "circle"
         },
         "mode": "markers",
         "name": "Can I place an order for in-store pickup?",
         "orientation": "v",
         "showlegend": true,
         "type": "scatter",
         "x": [
          -0.8704912066459656
         ],
         "xaxis": "x",
         "y": [
          13.324898719787598
         ],
         "yaxis": "y"
        },
        {
         "hovertemplate": "query=How do I sign up for your rewards program?<br>0=%{x}<br>1=%{y}<extra></extra>",
         "legendgroup": "How do I sign up for your rewards program?",
         "marker": {
          "color": "#19d3f3",
          "symbol": "circle"
         },
         "mode": "markers",
         "name": "How do I sign up for your rewards program?",
         "orientation": "v",
         "showlegend": true,
         "type": "scatter",
         "x": [
          -3.568634271621704
         ],
         "xaxis": "x",
         "y": [
          11.439777374267578
         ],
         "yaxis": "y"
        },
        {
         "hovertemplate": "query=Can I pay with a gift card online?<br>0=%{x}<br>1=%{y}<extra></extra>",
         "legendgroup": "Can I pay with a gift card online?",
         "marker": {
          "color": "#FF6692",
          "symbol": "circle"
         },
         "mode": "markers",
         "name": "Can I pay with a gift card online?",
         "orientation": "v",
         "showlegend": true,
         "type": "scatter",
         "x": [
          0.40577182173728943
         ],
         "xaxis": "x",
         "y": [
          12.47726058959961
         ],
         "yaxis": "y"
        },
        {
         "hovertemplate": "query=I can't find my order confirmation email.<br>0=%{x}<br>1=%{y}<extra></extra>",
         "legendgroup": "I can't find my order confirmation email.",
         "marker": {
          "color": "#B6E880",
          "symbol": "circle"
         },
         "mode": "markers",
         "name": "I can't find my order confirmation email.",
         "orientation": "v",
         "showlegend": true,
         "type": "scatter",
         "x": [
          -1.3124209642410278
         ],
         "xaxis": "x",
         "y": [
          11.065191268920898
         ],
         "yaxis": "y"
        },
        {
         "hovertemplate": "query=Do you offer a military discount?<br>0=%{x}<br>1=%{y}<extra></extra>",
         "legendgroup": "Do you offer a military discount?",
         "marker": {
          "color": "#FF97FF",
          "symbol": "circle"
         },
         "mode": "markers",
         "name": "Do you offer a military discount?",
         "orientation": "v",
         "showlegend": true,
         "type": "scatter",
         "x": [
          -1.672326683998108
         ],
         "xaxis": "x",
         "y": [
          10.938739776611328
         ],
         "yaxis": "y"
        },
        {
         "hovertemplate": "query=What is the processing time for my order?<br>0=%{x}<br>1=%{y}<extra></extra>",
         "legendgroup": "What is the processing time for my order?",
         "marker": {
          "color": "#FECB52",
          "symbol": "circle"
         },
         "mode": "markers",
         "name": "What is the processing time for my order?",
         "orientation": "v",
         "showlegend": true,
         "type": "scatter",
         "x": [
          -1.0739027261734009
         ],
         "xaxis": "x",
         "y": [
          12.69260311126709
         ],
         "yaxis": "y"
        },
        {
         "hovertemplate": "query=How do I update my shipping preferences?<br>0=%{x}<br>1=%{y}<extra></extra>",
         "legendgroup": "How do I update my shipping preferences?",
         "marker": {
          "color": "#636efa",
          "symbol": "circle"
         },
         "mode": "markers",
         "name": "How do I update my shipping preferences?",
         "orientation": "v",
         "showlegend": true,
         "type": "scatter",
         "x": [
          -1.8837765455245972
         ],
         "xaxis": "x",
         "y": [
          11.818120956420898
         ],
         "yaxis": "y"
        },
        {
         "hovertemplate": "query=Is my payment information secure?<br>0=%{x}<br>1=%{y}<extra></extra>",
         "legendgroup": "Is my payment information secure?",
         "marker": {
          "color": "#EF553B",
          "symbol": "circle"
         },
         "mode": "markers",
         "name": "Is my payment information secure?",
         "orientation": "v",
         "showlegend": true,
         "type": "scatter",
         "x": [
          -2.712307929992676
         ],
         "xaxis": "x",
         "y": [
          11.941061973571777
         ],
         "yaxis": "y"
        },
        {
         "hovertemplate": "query=Can I pre-order an item?<br>0=%{x}<br>1=%{y}<extra></extra>",
         "legendgroup": "Can I pre-order an item?",
         "marker": {
          "color": "#00cc96",
          "symbol": "circle"
         },
         "mode": "markers",
         "name": "Can I pre-order an item?",
         "orientation": "v",
         "showlegend": true,
         "type": "scatter",
         "x": [
          -0.15611670911312103
         ],
         "xaxis": "x",
         "y": [
          13.130634307861328
         ],
         "yaxis": "y"
        },
        {
         "hovertemplate": "query=How do I use a gift card in-store?<br>0=%{x}<br>1=%{y}<extra></extra>",
         "legendgroup": "How do I use a gift card in-store?",
         "marker": {
          "color": "#ab63fa",
          "symbol": "circle"
         },
         "mode": "markers",
         "name": "How do I use a gift card in-store?",
         "orientation": "v",
         "showlegend": true,
         "type": "scatter",
         "x": [
          -0.11991170048713684
         ],
         "xaxis": "x",
         "y": [
          11.598694801330566
         ],
         "yaxis": "y"
        },
        {
         "hovertemplate": "query=Do you have a loyalty program?<br>0=%{x}<br>1=%{y}<extra></extra>",
         "legendgroup": "Do you have a loyalty program?",
         "marker": {
          "color": "#FFA15A",
          "symbol": "circle"
         },
         "mode": "markers",
         "name": "Do you have a loyalty program?",
         "orientation": "v",
         "showlegend": true,
         "type": "scatter",
         "x": [
          -3.513005495071411
         ],
         "xaxis": "x",
         "y": [
          10.947595596313477
         ],
         "yaxis": "y"
        },
        {
         "hovertemplate": "query=Is there a mobile app for your store?<br>0=%{x}<br>1=%{y}<extra></extra>",
         "legendgroup": "Is there a mobile app for your store?",
         "marker": {
          "color": "#19d3f3",
          "symbol": "circle"
         },
         "mode": "markers",
         "name": "Is there a mobile app for your store?",
         "orientation": "v",
         "showlegend": true,
         "type": "scatter",
         "x": [
          -3.054647207260132
         ],
         "xaxis": "x",
         "y": [
          11.015596389770508
         ],
         "yaxis": "y"
        },
        {
         "hovertemplate": "query=I need help assembling my product.<br>0=%{x}<br>1=%{y}<extra></extra>",
         "legendgroup": "I need help assembling my product.",
         "marker": {
          "color": "#FF6692",
          "symbol": "circle"
         },
         "mode": "markers",
         "name": "I need help assembling my product.",
         "orientation": "v",
         "showlegend": true,
         "type": "scatter",
         "x": [
          -0.022813888266682625
         ],
         "xaxis": "x",
         "y": [
          11.634057998657227
         ],
         "yaxis": "y"
        },
        {
         "hovertemplate": "query=Do you offer financing options?<br>0=%{x}<br>1=%{y}<extra></extra>",
         "legendgroup": "Do you offer financing options?",
         "marker": {
          "color": "#B6E880",
          "symbol": "circle"
         },
         "mode": "markers",
         "name": "Do you offer financing options?",
         "orientation": "v",
         "showlegend": true,
         "type": "scatter",
         "x": [
          0.36256128549575806
         ],
         "xaxis": "x",
         "y": [
          11.56153392791748
         ],
         "yaxis": "y"
        },
        {
         "hovertemplate": "query=Can I reserve an item in-store?<br>0=%{x}<br>1=%{y}<extra></extra>",
         "legendgroup": "Can I reserve an item in-store?",
         "marker": {
          "color": "#FF97FF",
          "symbol": "circle"
         },
         "mode": "markers",
         "name": "Can I reserve an item in-store?",
         "orientation": "v",
         "showlegend": true,
         "type": "scatter",
         "x": [
          -0.6867943406105042
         ],
         "xaxis": "x",
         "y": [
          13.055793762207031
         ],
         "yaxis": "y"
        },
        {
         "hovertemplate": "query=How do I get a price adjustment for a recent purchase?<br>0=%{x}<br>1=%{y}<extra></extra>",
         "legendgroup": "How do I get a price adjustment for a recent purchase?",
         "marker": {
          "color": "#FECB52",
          "symbol": "circle"
         },
         "mode": "markers",
         "name": "How do I get a price adjustment for a recent purchase?",
         "orientation": "v",
         "showlegend": true,
         "type": "scatter",
         "x": [
          -0.7741244435310364
         ],
         "xaxis": "x",
         "y": [
          12.774337768554688
         ],
         "yaxis": "y"
        },
        {
         "hovertemplate": "query=How do I change my email preferences?<br>0=%{x}<br>1=%{y}<extra></extra>",
         "legendgroup": "How do I change my email preferences?",
         "marker": {
          "color": "#636efa",
          "symbol": "circle"
         },
         "mode": "markers",
         "name": "How do I change my email preferences?",
         "orientation": "v",
         "showlegend": true,
         "type": "scatter",
         "x": [
          -2.0576698780059814
         ],
         "xaxis": "x",
         "y": [
          11.893847465515137
         ],
         "yaxis": "y"
        },
        {
         "hovertemplate": "query=Can I use my store credit online?<br>0=%{x}<br>1=%{y}<extra></extra>",
         "legendgroup": "Can I use my store credit online?",
         "marker": {
          "color": "#EF553B",
          "symbol": "circle"
         },
         "mode": "markers",
         "name": "Can I use my store credit online?",
         "orientation": "v",
         "showlegend": true,
         "type": "scatter",
         "x": [
          0.5180948972702026
         ],
         "xaxis": "x",
         "y": [
          12.637444496154785
         ],
         "yaxis": "y"
        },
        {
         "hovertemplate": "query=What are the washing instructions for this item?<br>0=%{x}<br>1=%{y}<extra></extra>",
         "legendgroup": "What are the washing instructions for this item?",
         "marker": {
          "color": "#00cc96",
          "symbol": "circle"
         },
         "mode": "markers",
         "name": "What are the washing instructions for this item?",
         "orientation": "v",
         "showlegend": true,
         "type": "scatter",
         "x": [
          -0.7231482863426208
         ],
         "xaxis": "x",
         "y": [
          11.89055347442627
         ],
         "yaxis": "y"
        },
        {
         "hovertemplate": "query=Can I get a replacement part for my product?<br>0=%{x}<br>1=%{y}<extra></extra>",
         "legendgroup": "Can I get a replacement part for my product?",
         "marker": {
          "color": "#ab63fa",
          "symbol": "circle"
         },
         "mode": "markers",
         "name": "Can I get a replacement part for my product?",
         "orientation": "v",
         "showlegend": true,
         "type": "scatter",
         "x": [
          0.019599923864006996
         ],
         "xaxis": "x",
         "y": [
          13.01144027709961
         ],
         "yaxis": "y"
        },
        {
         "hovertemplate": "query=Do you offer free shipping?<br>0=%{x}<br>1=%{y}<extra></extra>",
         "legendgroup": "Do you offer free shipping?",
         "marker": {
          "color": "#FFA15A",
          "symbol": "circle"
         },
         "mode": "markers",
         "name": "Do you offer free shipping?",
         "orientation": "v",
         "showlegend": true,
         "type": "scatter",
         "x": [
          0.7603550553321838
         ],
         "xaxis": "x",
         "y": [
          12.041329383850098
         ],
         "yaxis": "y"
        },
        {
         "hovertemplate": "query=Can I place a custom order?<br>0=%{x}<br>1=%{y}<extra></extra>",
         "legendgroup": "Can I place a custom order?",
         "marker": {
          "color": "#19d3f3",
          "symbol": "circle"
         },
         "mode": "markers",
         "name": "Can I place a custom order?",
         "orientation": "v",
         "showlegend": true,
         "type": "scatter",
         "x": [
          -0.3917543292045593
         ],
         "xaxis": "x",
         "y": [
          12.206644058227539
         ],
         "yaxis": "y"
        },
        {
         "hovertemplate": "query=How do I report a problem with your website?<br>0=%{x}<br>1=%{y}<extra></extra>",
         "legendgroup": "How do I report a problem with your website?",
         "marker": {
          "color": "#FF6692",
          "symbol": "circle"
         },
         "mode": "markers",
         "name": "How do I report a problem with your website?",
         "orientation": "v",
         "showlegend": true,
         "type": "scatter",
         "x": [
          -2.6888513565063477
         ],
         "xaxis": "x",
         "y": [
          10.691845893859863
         ],
         "yaxis": "y"
        },
        {
         "hovertemplate": "query=What is your policy on price adjustments?<br>0=%{x}<br>1=%{y}<extra></extra>",
         "legendgroup": "What is your policy on price adjustments?",
         "marker": {
          "color": "#B6E880",
          "symbol": "circle"
         },
         "mode": "markers",
         "name": "What is your policy on price adjustments?",
         "orientation": "v",
         "showlegend": true,
         "type": "scatter",
         "x": [
          0.3816511631011963
         ],
         "xaxis": "x",
         "y": [
          10.918728828430176
         ],
         "yaxis": "y"
        },
        {
         "hovertemplate": "query=Do you have any upcoming sales or events?<br>0=%{x}<br>1=%{y}<extra></extra>",
         "legendgroup": "Do you have any upcoming sales or events?",
         "marker": {
          "color": "#FF97FF",
          "symbol": "circle"
         },
         "mode": "markers",
         "name": "Do you have any upcoming sales or events?",
         "orientation": "v",
         "showlegend": true,
         "type": "scatter",
         "x": [
          -2.9831066131591797
         ],
         "xaxis": "x",
         "y": [
          11.529674530029297
         ],
         "yaxis": "y"
        },
        {
         "hovertemplate": "query=How do I schedule a consultation or appointment?<br>0=%{x}<br>1=%{y}<extra></extra>",
         "legendgroup": "How do I schedule a consultation or appointment?",
         "marker": {
          "color": "#FECB52",
          "symbol": "circle"
         },
         "mode": "markers",
         "name": "How do I schedule a consultation or appointment?",
         "orientation": "v",
         "showlegend": true,
         "type": "scatter",
         "x": [
          -2.290451765060425
         ],
         "xaxis": "x",
         "y": [
          10.545219421386719
         ],
         "yaxis": "y"
        },
        {
         "hovertemplate": "query=Can I get a copy of my receipt?<br>0=%{x}<br>1=%{y}<extra></extra>",
         "legendgroup": "Can I get a copy of my receipt?",
         "marker": {
          "color": "#636efa",
          "symbol": "circle"
         },
         "mode": "markers",
         "name": "Can I get a copy of my receipt?",
         "orientation": "v",
         "showlegend": true,
         "type": "scatter",
         "x": [
          -2.3030388355255127
         ],
         "xaxis": "x",
         "y": [
          12.915441513061523
         ],
         "yaxis": "y"
        },
        {
         "hovertemplate": "query=Can I use a competitor's coupon at your store?<br>0=%{x}<br>1=%{y}<extra></extra>",
         "legendgroup": "Can I use a competitor's coupon at your store?",
         "marker": {
          "color": "#EF553B",
          "symbol": "circle"
         },
         "mode": "markers",
         "name": "Can I use a competitor's coupon at your store?",
         "orientation": "v",
         "showlegend": true,
         "type": "scatter",
         "x": [
          -0.08413606882095337
         ],
         "xaxis": "x",
         "y": [
          12.595792770385742
         ],
         "yaxis": "y"
        },
        {
         "hovertemplate": "query=Do you have a recycling program?<br>0=%{x}<br>1=%{y}<extra></extra>",
         "legendgroup": "Do you have a recycling program?",
         "marker": {
          "color": "#00cc96",
          "symbol": "circle"
         },
         "mode": "markers",
         "name": "Do you have a recycling program?",
         "orientation": "v",
         "showlegend": true,
         "type": "scatter",
         "x": [
          -2.884267568588257
         ],
         "xaxis": "x",
         "y": [
          11.266022682189941
         ],
         "yaxis": "y"
        },
        {
         "hovertemplate": "query=How do I report a lost or stolen gift card?<br>0=%{x}<br>1=%{y}<extra></extra>",
         "legendgroup": "How do I report a lost or stolen gift card?",
         "marker": {
          "color": "#ab63fa",
          "symbol": "circle"
         },
         "mode": "markers",
         "name": "How do I report a lost or stolen gift card?",
         "orientation": "v",
         "showlegend": true,
         "type": "scatter",
         "x": [
          -2.153362274169922
         ],
         "xaxis": "x",
         "y": [
          10.926177978515625
         ],
         "yaxis": "y"
        },
        {
         "hovertemplate": "query=who are you<br>0=%{x}<br>1=%{y}<extra></extra>",
         "legendgroup": "who are you",
         "marker": {
          "color": "#FFA15A",
          "symbol": "circle"
         },
         "mode": "markers",
         "name": "who are you",
         "orientation": "v",
         "showlegend": true,
         "type": "scatter",
         "x": [
          -4.000698089599609
         ],
         "xaxis": "x",
         "y": [
          11.906280517578125
         ],
         "yaxis": "y"
        },
        {
         "hovertemplate": "query=How are you<br>0=%{x}<br>1=%{y}<extra></extra>",
         "legendgroup": "How are you",
         "marker": {
          "color": "#19d3f3",
          "symbol": "circle"
         },
         "mode": "markers",
         "name": "How are you",
         "orientation": "v",
         "showlegend": true,
         "type": "scatter",
         "x": [
          -2.0864195823669434
         ],
         "xaxis": "x",
         "y": [
          11.031728744506836
         ],
         "yaxis": "y"
        },
        {
         "hovertemplate": "query=hello<br>0=%{x}<br>1=%{y}<extra></extra>",
         "legendgroup": "hello",
         "marker": {
          "color": "#FF6692",
          "symbol": "circle"
         },
         "mode": "markers",
         "name": "hello",
         "orientation": "v",
         "showlegend": true,
         "type": "scatter",
         "x": [
          -4.03195858001709
         ],
         "xaxis": "x",
         "y": [
          11.446364402770996
         ],
         "yaxis": "y"
        },
        {
         "hovertemplate": "query=hi<br>0=%{x}<br>1=%{y}<extra></extra>",
         "legendgroup": "hi",
         "marker": {
          "color": "#B6E880",
          "symbol": "circle"
         },
         "mode": "markers",
         "name": "hi",
         "orientation": "v",
         "showlegend": true,
         "type": "scatter",
         "x": [
          -3.9460787773132324
         ],
         "xaxis": "x",
         "y": [
          11.758755683898926
         ],
         "yaxis": "y"
        }
       ],
       "layout": {
        "legend": {
         "title": {
          "text": "query"
         },
         "tracegroupgap": 0
        },
        "plot_bgcolor": "white",
        "template": {
         "data": {
          "bar": [
           {
            "error_x": {
             "color": "#2a3f5f"
            },
            "error_y": {
             "color": "#2a3f5f"
            },
            "marker": {
             "line": {
              "color": "#E5ECF6",
              "width": 0.5
             },
             "pattern": {
              "fillmode": "overlay",
              "size": 10,
              "solidity": 0.2
             }
            },
            "type": "bar"
           }
          ],
          "barpolar": [
           {
            "marker": {
             "line": {
              "color": "#E5ECF6",
              "width": 0.5
             },
             "pattern": {
              "fillmode": "overlay",
              "size": 10,
              "solidity": 0.2
             }
            },
            "type": "barpolar"
           }
          ],
          "carpet": [
           {
            "aaxis": {
             "endlinecolor": "#2a3f5f",
             "gridcolor": "white",
             "linecolor": "white",
             "minorgridcolor": "white",
             "startlinecolor": "#2a3f5f"
            },
            "baxis": {
             "endlinecolor": "#2a3f5f",
             "gridcolor": "white",
             "linecolor": "white",
             "minorgridcolor": "white",
             "startlinecolor": "#2a3f5f"
            },
            "type": "carpet"
           }
          ],
          "choropleth": [
           {
            "colorbar": {
             "outlinewidth": 0,
             "ticks": ""
            },
            "type": "choropleth"
           }
          ],
          "contour": [
           {
            "colorbar": {
             "outlinewidth": 0,
             "ticks": ""
            },
            "colorscale": [
             [
              0,
              "#0d0887"
             ],
             [
              0.1111111111111111,
              "#46039f"
             ],
             [
              0.2222222222222222,
              "#7201a8"
             ],
             [
              0.3333333333333333,
              "#9c179e"
             ],
             [
              0.4444444444444444,
              "#bd3786"
             ],
             [
              0.5555555555555556,
              "#d8576b"
             ],
             [
              0.6666666666666666,
              "#ed7953"
             ],
             [
              0.7777777777777778,
              "#fb9f3a"
             ],
             [
              0.8888888888888888,
              "#fdca26"
             ],
             [
              1,
              "#f0f921"
             ]
            ],
            "type": "contour"
           }
          ],
          "contourcarpet": [
           {
            "colorbar": {
             "outlinewidth": 0,
             "ticks": ""
            },
            "type": "contourcarpet"
           }
          ],
          "heatmap": [
           {
            "colorbar": {
             "outlinewidth": 0,
             "ticks": ""
            },
            "colorscale": [
             [
              0,
              "#0d0887"
             ],
             [
              0.1111111111111111,
              "#46039f"
             ],
             [
              0.2222222222222222,
              "#7201a8"
             ],
             [
              0.3333333333333333,
              "#9c179e"
             ],
             [
              0.4444444444444444,
              "#bd3786"
             ],
             [
              0.5555555555555556,
              "#d8576b"
             ],
             [
              0.6666666666666666,
              "#ed7953"
             ],
             [
              0.7777777777777778,
              "#fb9f3a"
             ],
             [
              0.8888888888888888,
              "#fdca26"
             ],
             [
              1,
              "#f0f921"
             ]
            ],
            "type": "heatmap"
           }
          ],
          "heatmapgl": [
           {
            "colorbar": {
             "outlinewidth": 0,
             "ticks": ""
            },
            "colorscale": [
             [
              0,
              "#0d0887"
             ],
             [
              0.1111111111111111,
              "#46039f"
             ],
             [
              0.2222222222222222,
              "#7201a8"
             ],
             [
              0.3333333333333333,
              "#9c179e"
             ],
             [
              0.4444444444444444,
              "#bd3786"
             ],
             [
              0.5555555555555556,
              "#d8576b"
             ],
             [
              0.6666666666666666,
              "#ed7953"
             ],
             [
              0.7777777777777778,
              "#fb9f3a"
             ],
             [
              0.8888888888888888,
              "#fdca26"
             ],
             [
              1,
              "#f0f921"
             ]
            ],
            "type": "heatmapgl"
           }
          ],
          "histogram": [
           {
            "marker": {
             "pattern": {
              "fillmode": "overlay",
              "size": 10,
              "solidity": 0.2
             }
            },
            "type": "histogram"
           }
          ],
          "histogram2d": [
           {
            "colorbar": {
             "outlinewidth": 0,
             "ticks": ""
            },
            "colorscale": [
             [
              0,
              "#0d0887"
             ],
             [
              0.1111111111111111,
              "#46039f"
             ],
             [
              0.2222222222222222,
              "#7201a8"
             ],
             [
              0.3333333333333333,
              "#9c179e"
             ],
             [
              0.4444444444444444,
              "#bd3786"
             ],
             [
              0.5555555555555556,
              "#d8576b"
             ],
             [
              0.6666666666666666,
              "#ed7953"
             ],
             [
              0.7777777777777778,
              "#fb9f3a"
             ],
             [
              0.8888888888888888,
              "#fdca26"
             ],
             [
              1,
              "#f0f921"
             ]
            ],
            "type": "histogram2d"
           }
          ],
          "histogram2dcontour": [
           {
            "colorbar": {
             "outlinewidth": 0,
             "ticks": ""
            },
            "colorscale": [
             [
              0,
              "#0d0887"
             ],
             [
              0.1111111111111111,
              "#46039f"
             ],
             [
              0.2222222222222222,
              "#7201a8"
             ],
             [
              0.3333333333333333,
              "#9c179e"
             ],
             [
              0.4444444444444444,
              "#bd3786"
             ],
             [
              0.5555555555555556,
              "#d8576b"
             ],
             [
              0.6666666666666666,
              "#ed7953"
             ],
             [
              0.7777777777777778,
              "#fb9f3a"
             ],
             [
              0.8888888888888888,
              "#fdca26"
             ],
             [
              1,
              "#f0f921"
             ]
            ],
            "type": "histogram2dcontour"
           }
          ],
          "mesh3d": [
           {
            "colorbar": {
             "outlinewidth": 0,
             "ticks": ""
            },
            "type": "mesh3d"
           }
          ],
          "parcoords": [
           {
            "line": {
             "colorbar": {
              "outlinewidth": 0,
              "ticks": ""
             }
            },
            "type": "parcoords"
           }
          ],
          "pie": [
           {
            "automargin": true,
            "type": "pie"
           }
          ],
          "scatter": [
           {
            "fillpattern": {
             "fillmode": "overlay",
             "size": 10,
             "solidity": 0.2
            },
            "type": "scatter"
           }
          ],
          "scatter3d": [
           {
            "line": {
             "colorbar": {
              "outlinewidth": 0,
              "ticks": ""
             }
            },
            "marker": {
             "colorbar": {
              "outlinewidth": 0,
              "ticks": ""
             }
            },
            "type": "scatter3d"
           }
          ],
          "scattercarpet": [
           {
            "marker": {
             "colorbar": {
              "outlinewidth": 0,
              "ticks": ""
             }
            },
            "type": "scattercarpet"
           }
          ],
          "scattergeo": [
           {
            "marker": {
             "colorbar": {
              "outlinewidth": 0,
              "ticks": ""
             }
            },
            "type": "scattergeo"
           }
          ],
          "scattergl": [
           {
            "marker": {
             "colorbar": {
              "outlinewidth": 0,
              "ticks": ""
             }
            },
            "type": "scattergl"
           }
          ],
          "scattermapbox": [
           {
            "marker": {
             "colorbar": {
              "outlinewidth": 0,
              "ticks": ""
             }
            },
            "type": "scattermapbox"
           }
          ],
          "scatterpolar": [
           {
            "marker": {
             "colorbar": {
              "outlinewidth": 0,
              "ticks": ""
             }
            },
            "type": "scatterpolar"
           }
          ],
          "scatterpolargl": [
           {
            "marker": {
             "colorbar": {
              "outlinewidth": 0,
              "ticks": ""
             }
            },
            "type": "scatterpolargl"
           }
          ],
          "scatterternary": [
           {
            "marker": {
             "colorbar": {
              "outlinewidth": 0,
              "ticks": ""
             }
            },
            "type": "scatterternary"
           }
          ],
          "surface": [
           {
            "colorbar": {
             "outlinewidth": 0,
             "ticks": ""
            },
            "colorscale": [
             [
              0,
              "#0d0887"
             ],
             [
              0.1111111111111111,
              "#46039f"
             ],
             [
              0.2222222222222222,
              "#7201a8"
             ],
             [
              0.3333333333333333,
              "#9c179e"
             ],
             [
              0.4444444444444444,
              "#bd3786"
             ],
             [
              0.5555555555555556,
              "#d8576b"
             ],
             [
              0.6666666666666666,
              "#ed7953"
             ],
             [
              0.7777777777777778,
              "#fb9f3a"
             ],
             [
              0.8888888888888888,
              "#fdca26"
             ],
             [
              1,
              "#f0f921"
             ]
            ],
            "type": "surface"
           }
          ],
          "table": [
           {
            "cells": {
             "fill": {
              "color": "#EBF0F8"
             },
             "line": {
              "color": "white"
             }
            },
            "header": {
             "fill": {
              "color": "#C8D4E3"
             },
             "line": {
              "color": "white"
             }
            },
            "type": "table"
           }
          ]
         },
         "layout": {
          "annotationdefaults": {
           "arrowcolor": "#2a3f5f",
           "arrowhead": 0,
           "arrowwidth": 1
          },
          "autotypenumbers": "strict",
          "coloraxis": {
           "colorbar": {
            "outlinewidth": 0,
            "ticks": ""
           }
          },
          "colorscale": {
           "diverging": [
            [
             0,
             "#8e0152"
            ],
            [
             0.1,
             "#c51b7d"
            ],
            [
             0.2,
             "#de77ae"
            ],
            [
             0.3,
             "#f1b6da"
            ],
            [
             0.4,
             "#fde0ef"
            ],
            [
             0.5,
             "#f7f7f7"
            ],
            [
             0.6,
             "#e6f5d0"
            ],
            [
             0.7,
             "#b8e186"
            ],
            [
             0.8,
             "#7fbc41"
            ],
            [
             0.9,
             "#4d9221"
            ],
            [
             1,
             "#276419"
            ]
           ],
           "sequential": [
            [
             0,
             "#0d0887"
            ],
            [
             0.1111111111111111,
             "#46039f"
            ],
            [
             0.2222222222222222,
             "#7201a8"
            ],
            [
             0.3333333333333333,
             "#9c179e"
            ],
            [
             0.4444444444444444,
             "#bd3786"
            ],
            [
             0.5555555555555556,
             "#d8576b"
            ],
            [
             0.6666666666666666,
             "#ed7953"
            ],
            [
             0.7777777777777778,
             "#fb9f3a"
            ],
            [
             0.8888888888888888,
             "#fdca26"
            ],
            [
             1,
             "#f0f921"
            ]
           ],
           "sequentialminus": [
            [
             0,
             "#0d0887"
            ],
            [
             0.1111111111111111,
             "#46039f"
            ],
            [
             0.2222222222222222,
             "#7201a8"
            ],
            [
             0.3333333333333333,
             "#9c179e"
            ],
            [
             0.4444444444444444,
             "#bd3786"
            ],
            [
             0.5555555555555556,
             "#d8576b"
            ],
            [
             0.6666666666666666,
             "#ed7953"
            ],
            [
             0.7777777777777778,
             "#fb9f3a"
            ],
            [
             0.8888888888888888,
             "#fdca26"
            ],
            [
             1,
             "#f0f921"
            ]
           ]
          },
          "colorway": [
           "#636efa",
           "#EF553B",
           "#00cc96",
           "#ab63fa",
           "#FFA15A",
           "#19d3f3",
           "#FF6692",
           "#B6E880",
           "#FF97FF",
           "#FECB52"
          ],
          "font": {
           "color": "#2a3f5f"
          },
          "geo": {
           "bgcolor": "white",
           "lakecolor": "white",
           "landcolor": "#E5ECF6",
           "showlakes": true,
           "showland": true,
           "subunitcolor": "white"
          },
          "hoverlabel": {
           "align": "left"
          },
          "hovermode": "closest",
          "mapbox": {
           "style": "light"
          },
          "paper_bgcolor": "white",
          "plot_bgcolor": "#E5ECF6",
          "polar": {
           "angularaxis": {
            "gridcolor": "white",
            "linecolor": "white",
            "ticks": ""
           },
           "bgcolor": "#E5ECF6",
           "radialaxis": {
            "gridcolor": "white",
            "linecolor": "white",
            "ticks": ""
           }
          },
          "scene": {
           "xaxis": {
            "backgroundcolor": "#E5ECF6",
            "gridcolor": "white",
            "gridwidth": 2,
            "linecolor": "white",
            "showbackground": true,
            "ticks": "",
            "zerolinecolor": "white"
           },
           "yaxis": {
            "backgroundcolor": "#E5ECF6",
            "gridcolor": "white",
            "gridwidth": 2,
            "linecolor": "white",
            "showbackground": true,
            "ticks": "",
            "zerolinecolor": "white"
           },
           "zaxis": {
            "backgroundcolor": "#E5ECF6",
            "gridcolor": "white",
            "gridwidth": 2,
            "linecolor": "white",
            "showbackground": true,
            "ticks": "",
            "zerolinecolor": "white"
           }
          },
          "shapedefaults": {
           "line": {
            "color": "#2a3f5f"
           }
          },
          "ternary": {
           "aaxis": {
            "gridcolor": "white",
            "linecolor": "white",
            "ticks": ""
           },
           "baxis": {
            "gridcolor": "white",
            "linecolor": "white",
            "ticks": ""
           },
           "bgcolor": "#E5ECF6",
           "caxis": {
            "gridcolor": "white",
            "linecolor": "white",
            "ticks": ""
           }
          },
          "title": {
           "x": 0.05
          },
          "xaxis": {
           "automargin": true,
           "gridcolor": "white",
           "linecolor": "white",
           "ticks": "",
           "title": {
            "standoff": 15
           },
           "zerolinecolor": "white",
           "zerolinewidth": 2
          },
          "yaxis": {
           "automargin": true,
           "gridcolor": "white",
           "linecolor": "white",
           "ticks": "",
           "title": {
            "standoff": 15
           },
           "zerolinecolor": "white",
           "zerolinewidth": 2
          }
         }
        },
        "title": {
         "text": "Dataset 2D projection"
        },
        "xaxis": {
         "anchor": "y",
         "domain": [
          0,
          1
         ],
         "title": {
          "text": "0"
         }
        },
        "yaxis": {
         "anchor": "x",
         "domain": [
          0,
          1
         ],
         "title": {
          "text": "1"
         }
        }
       }
      }
     },
     "metadata": {},
     "output_type": "display_data"
    }
   ],
   "source": [
    "plot_reduced_ds(reduced_ds, \"query\", n_components)"
   ]
  },
  {
   "cell_type": "code",
   "execution_count": 21,
   "id": "923222bf",
   "metadata": {
    "execution": {
     "iopub.execute_input": "2023-11-20T06:17:01.669161Z",
     "iopub.status.busy": "2023-11-20T06:17:01.668355Z",
     "iopub.status.idle": "2023-11-20T06:17:01.754305Z",
     "shell.execute_reply": "2023-11-20T06:17:01.753398Z"
    },
    "papermill": {
     "duration": 0.12396,
     "end_time": "2023-11-20T06:17:01.762541",
     "exception": false,
     "start_time": "2023-11-20T06:17:01.638581",
     "status": "completed"
    },
    "tags": []
   },
   "outputs": [
    {
     "data": {
      "application/vnd.plotly.v1+json": {
       "config": {
        "plotlyServerURL": "https://plot.ly"
       },
       "data": [
        {
         "hovertemplate": "Preference=1<br>0=%{x}<br>1=%{y}<extra></extra>",
         "legendgroup": "1",
         "marker": {
          "color": "#636efa",
          "symbol": "circle"
         },
         "mode": "markers",
         "name": "1",
         "orientation": "v",
         "showlegend": true,
         "type": "scatter",
         "x": [
          -1.9093421697616577,
          -1.0854594707489014,
          -2.119058847427368,
          -2.7437877655029297,
          -2.567775011062622,
          -1.8267529010772705,
          -1.5508350133895874,
          -2.463038921356201,
          -0.6436179876327515,
          -2.4527523517608643,
          -3.1948957443237305,
          -1.9904381036758423,
          -1.3488613367080688,
          -0.5580344796180725,
          -0.42276230454444885,
          -3.390659809112549,
          -2.83959698677063,
          -0.7185796499252319,
          -1.6863878965377808,
          -0.9073301553726196,
          -0.12449970841407776,
          -1.9670330286026,
          -3.6553618907928467,
          -1.971605896949768,
          -1.617917776107788,
          0.16424232721328735,
          -1.7967841625213623,
          -3.450984239578247,
          -0.4485194683074951,
          0.5515813827514648,
          -0.3998415172100067,
          -0.07570131868124008,
          -0.8391161561012268,
          -1.2004573345184326,
          -1.550005316734314,
          -2.253680944442749,
          -0.7511320114135742,
          0.3263501524925232,
          -0.8704912066459656,
          -3.568634271621704,
          0.40577182173728943,
          -1.3124209642410278,
          -1.672326683998108,
          -1.0739027261734009,
          -1.8837765455245972,
          -2.712307929992676,
          -0.15611670911312103,
          -0.11991170048713684,
          -3.513005495071411,
          -3.054647207260132,
          -0.022813888266682625,
          0.36256128549575806,
          -0.6867943406105042,
          -0.7741244435310364,
          -2.0576698780059814,
          0.5180948972702026,
          -0.7231482863426208,
          0.019599923864006996,
          0.7603550553321838,
          -0.3917543292045593,
          -2.6888513565063477,
          -2.9831066131591797,
          -2.290451765060425,
          -2.3030388355255127,
          -0.08413606882095337,
          -2.884267568588257,
          -2.153362274169922,
          -2.0864195823669434
         ],
         "xaxis": "x",
         "y": [
          12.287382125854492,
          11.40999984741211,
          12.587050437927246,
          12.350835800170898,
          11.088794708251953,
          12.787419319152832,
          11.213136672973633,
          11.039509773254395,
          11.040520668029785,
          11.66419792175293,
          11.800018310546875,
          13.253982543945312,
          11.864529609680176,
          12.284394264221191,
          13.31969165802002,
          11.297032356262207,
          12.729978561401367,
          12.373788833618164,
          12.189128875732422,
          12.185296058654785,
          11.106371879577637,
          13.584796905517578,
          11.730578422546387,
          10.564730644226074,
          11.422242164611816,
          12.21982192993164,
          13.398082733154297,
          12.037665367126465,
          11.865406036376953,
          11.988358497619629,
          10.803516387939453,
          12.166500091552734,
          10.533556938171387,
          12.283604621887207,
          13.35738754272461,
          11.453550338745117,
          11.670877456665039,
          12.03592300415039,
          13.324898719787598,
          11.439777374267578,
          12.47726058959961,
          11.065191268920898,
          10.938739776611328,
          12.69260311126709,
          11.818120956420898,
          11.941061973571777,
          13.130634307861328,
          11.598694801330566,
          10.947595596313477,
          11.015596389770508,
          11.634057998657227,
          11.56153392791748,
          13.055793762207031,
          12.774337768554688,
          11.893847465515137,
          12.637444496154785,
          11.89055347442627,
          13.01144027709961,
          12.041329383850098,
          12.206644058227539,
          10.691845893859863,
          11.529674530029297,
          10.545219421386719,
          12.915441513061523,
          12.595792770385742,
          11.266022682189941,
          10.926177978515625,
          11.031728744506836
         ],
         "yaxis": "y"
        },
        {
         "hovertemplate": "Preference=0<br>0=%{x}<br>1=%{y}<extra></extra>",
         "legendgroup": "0",
         "marker": {
          "color": "#EF553B",
          "symbol": "circle"
         },
         "mode": "markers",
         "name": "0",
         "orientation": "v",
         "showlegend": true,
         "type": "scatter",
         "x": [
          0.2852253019809723,
          0.37523654103279114,
          0.57553631067276,
          0.45915260910987854,
          0.14651408791542053,
          0.7432231307029724,
          0.3816511631011963
         ],
         "xaxis": "x",
         "y": [
          10.568338394165039,
          10.297904014587402,
          10.553818702697754,
          10.291372299194336,
          10.64121150970459,
          10.798336029052734,
          10.918728828430176
         ],
         "yaxis": "y"
        },
        {
         "hovertemplate": "Preference=2<br>0=%{x}<br>1=%{y}<extra></extra>",
         "legendgroup": "2",
         "marker": {
          "color": "#00cc96",
          "symbol": "circle"
         },
         "mode": "markers",
         "name": "2",
         "orientation": "v",
         "showlegend": true,
         "type": "scatter",
         "x": [
          -4.000698089599609,
          -4.03195858001709,
          -3.9460787773132324
         ],
         "xaxis": "x",
         "y": [
          11.906280517578125,
          11.446364402770996,
          11.758755683898926
         ],
         "yaxis": "y"
        }
       ],
       "layout": {
        "legend": {
         "title": {
          "text": "Preference"
         },
         "tracegroupgap": 0
        },
        "plot_bgcolor": "white",
        "template": {
         "data": {
          "bar": [
           {
            "error_x": {
             "color": "#2a3f5f"
            },
            "error_y": {
             "color": "#2a3f5f"
            },
            "marker": {
             "line": {
              "color": "#E5ECF6",
              "width": 0.5
             },
             "pattern": {
              "fillmode": "overlay",
              "size": 10,
              "solidity": 0.2
             }
            },
            "type": "bar"
           }
          ],
          "barpolar": [
           {
            "marker": {
             "line": {
              "color": "#E5ECF6",
              "width": 0.5
             },
             "pattern": {
              "fillmode": "overlay",
              "size": 10,
              "solidity": 0.2
             }
            },
            "type": "barpolar"
           }
          ],
          "carpet": [
           {
            "aaxis": {
             "endlinecolor": "#2a3f5f",
             "gridcolor": "white",
             "linecolor": "white",
             "minorgridcolor": "white",
             "startlinecolor": "#2a3f5f"
            },
            "baxis": {
             "endlinecolor": "#2a3f5f",
             "gridcolor": "white",
             "linecolor": "white",
             "minorgridcolor": "white",
             "startlinecolor": "#2a3f5f"
            },
            "type": "carpet"
           }
          ],
          "choropleth": [
           {
            "colorbar": {
             "outlinewidth": 0,
             "ticks": ""
            },
            "type": "choropleth"
           }
          ],
          "contour": [
           {
            "colorbar": {
             "outlinewidth": 0,
             "ticks": ""
            },
            "colorscale": [
             [
              0,
              "#0d0887"
             ],
             [
              0.1111111111111111,
              "#46039f"
             ],
             [
              0.2222222222222222,
              "#7201a8"
             ],
             [
              0.3333333333333333,
              "#9c179e"
             ],
             [
              0.4444444444444444,
              "#bd3786"
             ],
             [
              0.5555555555555556,
              "#d8576b"
             ],
             [
              0.6666666666666666,
              "#ed7953"
             ],
             [
              0.7777777777777778,
              "#fb9f3a"
             ],
             [
              0.8888888888888888,
              "#fdca26"
             ],
             [
              1,
              "#f0f921"
             ]
            ],
            "type": "contour"
           }
          ],
          "contourcarpet": [
           {
            "colorbar": {
             "outlinewidth": 0,
             "ticks": ""
            },
            "type": "contourcarpet"
           }
          ],
          "heatmap": [
           {
            "colorbar": {
             "outlinewidth": 0,
             "ticks": ""
            },
            "colorscale": [
             [
              0,
              "#0d0887"
             ],
             [
              0.1111111111111111,
              "#46039f"
             ],
             [
              0.2222222222222222,
              "#7201a8"
             ],
             [
              0.3333333333333333,
              "#9c179e"
             ],
             [
              0.4444444444444444,
              "#bd3786"
             ],
             [
              0.5555555555555556,
              "#d8576b"
             ],
             [
              0.6666666666666666,
              "#ed7953"
             ],
             [
              0.7777777777777778,
              "#fb9f3a"
             ],
             [
              0.8888888888888888,
              "#fdca26"
             ],
             [
              1,
              "#f0f921"
             ]
            ],
            "type": "heatmap"
           }
          ],
          "heatmapgl": [
           {
            "colorbar": {
             "outlinewidth": 0,
             "ticks": ""
            },
            "colorscale": [
             [
              0,
              "#0d0887"
             ],
             [
              0.1111111111111111,
              "#46039f"
             ],
             [
              0.2222222222222222,
              "#7201a8"
             ],
             [
              0.3333333333333333,
              "#9c179e"
             ],
             [
              0.4444444444444444,
              "#bd3786"
             ],
             [
              0.5555555555555556,
              "#d8576b"
             ],
             [
              0.6666666666666666,
              "#ed7953"
             ],
             [
              0.7777777777777778,
              "#fb9f3a"
             ],
             [
              0.8888888888888888,
              "#fdca26"
             ],
             [
              1,
              "#f0f921"
             ]
            ],
            "type": "heatmapgl"
           }
          ],
          "histogram": [
           {
            "marker": {
             "pattern": {
              "fillmode": "overlay",
              "size": 10,
              "solidity": 0.2
             }
            },
            "type": "histogram"
           }
          ],
          "histogram2d": [
           {
            "colorbar": {
             "outlinewidth": 0,
             "ticks": ""
            },
            "colorscale": [
             [
              0,
              "#0d0887"
             ],
             [
              0.1111111111111111,
              "#46039f"
             ],
             [
              0.2222222222222222,
              "#7201a8"
             ],
             [
              0.3333333333333333,
              "#9c179e"
             ],
             [
              0.4444444444444444,
              "#bd3786"
             ],
             [
              0.5555555555555556,
              "#d8576b"
             ],
             [
              0.6666666666666666,
              "#ed7953"
             ],
             [
              0.7777777777777778,
              "#fb9f3a"
             ],
             [
              0.8888888888888888,
              "#fdca26"
             ],
             [
              1,
              "#f0f921"
             ]
            ],
            "type": "histogram2d"
           }
          ],
          "histogram2dcontour": [
           {
            "colorbar": {
             "outlinewidth": 0,
             "ticks": ""
            },
            "colorscale": [
             [
              0,
              "#0d0887"
             ],
             [
              0.1111111111111111,
              "#46039f"
             ],
             [
              0.2222222222222222,
              "#7201a8"
             ],
             [
              0.3333333333333333,
              "#9c179e"
             ],
             [
              0.4444444444444444,
              "#bd3786"
             ],
             [
              0.5555555555555556,
              "#d8576b"
             ],
             [
              0.6666666666666666,
              "#ed7953"
             ],
             [
              0.7777777777777778,
              "#fb9f3a"
             ],
             [
              0.8888888888888888,
              "#fdca26"
             ],
             [
              1,
              "#f0f921"
             ]
            ],
            "type": "histogram2dcontour"
           }
          ],
          "mesh3d": [
           {
            "colorbar": {
             "outlinewidth": 0,
             "ticks": ""
            },
            "type": "mesh3d"
           }
          ],
          "parcoords": [
           {
            "line": {
             "colorbar": {
              "outlinewidth": 0,
              "ticks": ""
             }
            },
            "type": "parcoords"
           }
          ],
          "pie": [
           {
            "automargin": true,
            "type": "pie"
           }
          ],
          "scatter": [
           {
            "fillpattern": {
             "fillmode": "overlay",
             "size": 10,
             "solidity": 0.2
            },
            "type": "scatter"
           }
          ],
          "scatter3d": [
           {
            "line": {
             "colorbar": {
              "outlinewidth": 0,
              "ticks": ""
             }
            },
            "marker": {
             "colorbar": {
              "outlinewidth": 0,
              "ticks": ""
             }
            },
            "type": "scatter3d"
           }
          ],
          "scattercarpet": [
           {
            "marker": {
             "colorbar": {
              "outlinewidth": 0,
              "ticks": ""
             }
            },
            "type": "scattercarpet"
           }
          ],
          "scattergeo": [
           {
            "marker": {
             "colorbar": {
              "outlinewidth": 0,
              "ticks": ""
             }
            },
            "type": "scattergeo"
           }
          ],
          "scattergl": [
           {
            "marker": {
             "colorbar": {
              "outlinewidth": 0,
              "ticks": ""
             }
            },
            "type": "scattergl"
           }
          ],
          "scattermapbox": [
           {
            "marker": {
             "colorbar": {
              "outlinewidth": 0,
              "ticks": ""
             }
            },
            "type": "scattermapbox"
           }
          ],
          "scatterpolar": [
           {
            "marker": {
             "colorbar": {
              "outlinewidth": 0,
              "ticks": ""
             }
            },
            "type": "scatterpolar"
           }
          ],
          "scatterpolargl": [
           {
            "marker": {
             "colorbar": {
              "outlinewidth": 0,
              "ticks": ""
             }
            },
            "type": "scatterpolargl"
           }
          ],
          "scatterternary": [
           {
            "marker": {
             "colorbar": {
              "outlinewidth": 0,
              "ticks": ""
             }
            },
            "type": "scatterternary"
           }
          ],
          "surface": [
           {
            "colorbar": {
             "outlinewidth": 0,
             "ticks": ""
            },
            "colorscale": [
             [
              0,
              "#0d0887"
             ],
             [
              0.1111111111111111,
              "#46039f"
             ],
             [
              0.2222222222222222,
              "#7201a8"
             ],
             [
              0.3333333333333333,
              "#9c179e"
             ],
             [
              0.4444444444444444,
              "#bd3786"
             ],
             [
              0.5555555555555556,
              "#d8576b"
             ],
             [
              0.6666666666666666,
              "#ed7953"
             ],
             [
              0.7777777777777778,
              "#fb9f3a"
             ],
             [
              0.8888888888888888,
              "#fdca26"
             ],
             [
              1,
              "#f0f921"
             ]
            ],
            "type": "surface"
           }
          ],
          "table": [
           {
            "cells": {
             "fill": {
              "color": "#EBF0F8"
             },
             "line": {
              "color": "white"
             }
            },
            "header": {
             "fill": {
              "color": "#C8D4E3"
             },
             "line": {
              "color": "white"
             }
            },
            "type": "table"
           }
          ]
         },
         "layout": {
          "annotationdefaults": {
           "arrowcolor": "#2a3f5f",
           "arrowhead": 0,
           "arrowwidth": 1
          },
          "autotypenumbers": "strict",
          "coloraxis": {
           "colorbar": {
            "outlinewidth": 0,
            "ticks": ""
           }
          },
          "colorscale": {
           "diverging": [
            [
             0,
             "#8e0152"
            ],
            [
             0.1,
             "#c51b7d"
            ],
            [
             0.2,
             "#de77ae"
            ],
            [
             0.3,
             "#f1b6da"
            ],
            [
             0.4,
             "#fde0ef"
            ],
            [
             0.5,
             "#f7f7f7"
            ],
            [
             0.6,
             "#e6f5d0"
            ],
            [
             0.7,
             "#b8e186"
            ],
            [
             0.8,
             "#7fbc41"
            ],
            [
             0.9,
             "#4d9221"
            ],
            [
             1,
             "#276419"
            ]
           ],
           "sequential": [
            [
             0,
             "#0d0887"
            ],
            [
             0.1111111111111111,
             "#46039f"
            ],
            [
             0.2222222222222222,
             "#7201a8"
            ],
            [
             0.3333333333333333,
             "#9c179e"
            ],
            [
             0.4444444444444444,
             "#bd3786"
            ],
            [
             0.5555555555555556,
             "#d8576b"
            ],
            [
             0.6666666666666666,
             "#ed7953"
            ],
            [
             0.7777777777777778,
             "#fb9f3a"
            ],
            [
             0.8888888888888888,
             "#fdca26"
            ],
            [
             1,
             "#f0f921"
            ]
           ],
           "sequentialminus": [
            [
             0,
             "#0d0887"
            ],
            [
             0.1111111111111111,
             "#46039f"
            ],
            [
             0.2222222222222222,
             "#7201a8"
            ],
            [
             0.3333333333333333,
             "#9c179e"
            ],
            [
             0.4444444444444444,
             "#bd3786"
            ],
            [
             0.5555555555555556,
             "#d8576b"
            ],
            [
             0.6666666666666666,
             "#ed7953"
            ],
            [
             0.7777777777777778,
             "#fb9f3a"
            ],
            [
             0.8888888888888888,
             "#fdca26"
            ],
            [
             1,
             "#f0f921"
            ]
           ]
          },
          "colorway": [
           "#636efa",
           "#EF553B",
           "#00cc96",
           "#ab63fa",
           "#FFA15A",
           "#19d3f3",
           "#FF6692",
           "#B6E880",
           "#FF97FF",
           "#FECB52"
          ],
          "font": {
           "color": "#2a3f5f"
          },
          "geo": {
           "bgcolor": "white",
           "lakecolor": "white",
           "landcolor": "#E5ECF6",
           "showlakes": true,
           "showland": true,
           "subunitcolor": "white"
          },
          "hoverlabel": {
           "align": "left"
          },
          "hovermode": "closest",
          "mapbox": {
           "style": "light"
          },
          "paper_bgcolor": "white",
          "plot_bgcolor": "#E5ECF6",
          "polar": {
           "angularaxis": {
            "gridcolor": "white",
            "linecolor": "white",
            "ticks": ""
           },
           "bgcolor": "#E5ECF6",
           "radialaxis": {
            "gridcolor": "white",
            "linecolor": "white",
            "ticks": ""
           }
          },
          "scene": {
           "xaxis": {
            "backgroundcolor": "#E5ECF6",
            "gridcolor": "white",
            "gridwidth": 2,
            "linecolor": "white",
            "showbackground": true,
            "ticks": "",
            "zerolinecolor": "white"
           },
           "yaxis": {
            "backgroundcolor": "#E5ECF6",
            "gridcolor": "white",
            "gridwidth": 2,
            "linecolor": "white",
            "showbackground": true,
            "ticks": "",
            "zerolinecolor": "white"
           },
           "zaxis": {
            "backgroundcolor": "#E5ECF6",
            "gridcolor": "white",
            "gridwidth": 2,
            "linecolor": "white",
            "showbackground": true,
            "ticks": "",
            "zerolinecolor": "white"
           }
          },
          "shapedefaults": {
           "line": {
            "color": "#2a3f5f"
           }
          },
          "ternary": {
           "aaxis": {
            "gridcolor": "white",
            "linecolor": "white",
            "ticks": ""
           },
           "baxis": {
            "gridcolor": "white",
            "linecolor": "white",
            "ticks": ""
           },
           "bgcolor": "#E5ECF6",
           "caxis": {
            "gridcolor": "white",
            "linecolor": "white",
            "ticks": ""
           }
          },
          "title": {
           "x": 0.05
          },
          "xaxis": {
           "automargin": true,
           "gridcolor": "white",
           "linecolor": "white",
           "ticks": "",
           "title": {
            "standoff": 15
           },
           "zerolinecolor": "white",
           "zerolinewidth": 2
          },
          "yaxis": {
           "automargin": true,
           "gridcolor": "white",
           "linecolor": "white",
           "ticks": "",
           "title": {
            "standoff": 15
           },
           "zerolinecolor": "white",
           "zerolinewidth": 2
          }
         }
        },
        "title": {
         "text": "Dataset 2D projection"
        },
        "xaxis": {
         "anchor": "y",
         "domain": [
          0,
          1
         ],
         "title": {
          "text": "0"
         }
        },
        "yaxis": {
         "anchor": "x",
         "domain": [
          0,
          1
         ],
         "title": {
          "text": "1"
         }
        }
       }
      }
     },
     "metadata": {},
     "output_type": "display_data"
    }
   ],
   "source": [
    "plot_reduced_ds(reduced_ds, \"Preference\", n_components)"
   ]
  },
  {
   "cell_type": "code",
   "execution_count": 22,
   "id": "b73b75da",
   "metadata": {
    "execution": {
     "iopub.execute_input": "2023-11-20T06:17:01.836649Z",
     "iopub.status.busy": "2023-11-20T06:17:01.836043Z",
     "iopub.status.idle": "2023-11-20T06:17:02.266317Z",
     "shell.execute_reply": "2023-11-20T06:17:02.265314Z"
    },
    "papermill": {
     "duration": 0.46985,
     "end_time": "2023-11-20T06:17:02.268491",
     "exception": false,
     "start_time": "2023-11-20T06:17:01.798641",
     "status": "completed"
    },
    "tags": []
   },
   "outputs": [
    {
     "name": "stdout",
     "output_type": "stream",
     "text": [
      "The shape of the training set for independent features:   (58, 768)\n",
      "The shape of the training set for target:                 (58, 1)\n",
      "\n",
      "The shape of the test set for independent features:       (20, 768)\n",
      "The shape of the test set for target:                     (20, 1)\n"
     ]
    }
   ],
   "source": [
    "y_2 = OrdinalEncoder().fit_transform(pd.DataFrame(y_2)) # pd.get_dummies(y, drop_first=False)\n",
    "X_train, X_test, y_train, y_test = train_test_split(\n",
    "    X, y_2, test_size=0.25, random_state=RANDOM_STATE)\n",
    "\n",
    "if scaler is not None:\n",
    "    X_train = scaler.fit_transform(X_train)\n",
    "    X_test = scaler.transform(X_test)\n",
    "\n",
    "# X_train = tf.convert_to_tensor(X_train, dtype=tf.float32)\n",
    "# X_test = tf.convert_to_tensor(X_test, dtype=tf.float32)\n",
    "# y_train = tf.convert_to_tensor(y_train, dtype=tf.float32)\n",
    "# y_test = tf.convert_to_tensor(y_test, dtype=tf.float32)\n",
    "\n",
    "print('The shape of the training set for independent features:  ',\n",
    "      X_train.shape)\n",
    "print('The shape of the training set for target:                ',\n",
    "      y_train.shape)\n",
    "print()\n",
    "print('The shape of the test set for independent features:      ',\n",
    "      X_test.shape)\n",
    "print('The shape of the test set for target:                    ',\n",
    "      y_test.shape)"
   ]
  },
  {
   "cell_type": "code",
   "execution_count": 23,
   "metadata": {},
   "outputs": [
    {
     "name": "stdout",
     "output_type": "stream",
     "text": [
      "Requirement already satisfied: imbalanced-learn in c:\\users\\sumit\\anaconda3\\lib\\site-packages (0.10.1)\n",
      "Requirement already satisfied: numpy>=1.17.3 in c:\\users\\sumit\\anaconda3\\lib\\site-packages (from imbalanced-learn) (1.24.0)\n",
      "Requirement already satisfied: scipy>=1.3.2 in c:\\users\\sumit\\appdata\\roaming\\python\\python311\\site-packages (from imbalanced-learn) (1.11.3)\n",
      "Requirement already satisfied: scikit-learn>=1.0.2 in c:\\users\\sumit\\appdata\\roaming\\python\\python311\\site-packages (from imbalanced-learn) (1.3.1)\n",
      "Requirement already satisfied: joblib>=1.1.1 in c:\\users\\sumit\\appdata\\roaming\\python\\python311\\site-packages (from imbalanced-learn) (1.3.2)\n",
      "Requirement already satisfied: threadpoolctl>=2.0.0 in c:\\users\\sumit\\appdata\\roaming\\python\\python311\\site-packages (from imbalanced-learn) (3.2.0)\n",
      "Note: you may need to restart the kernel to use updated packages.\n"
     ]
    },
    {
     "name": "stderr",
     "output_type": "stream",
     "text": [
      "DEPRECATION: textract 1.6.5 has a non-standard dependency specifier extract-msg<=0.29.*. pip 24.0 will enforce this behaviour change. A possible replacement is to upgrade to a newer version of textract or contact the author to suggest that they release a version with a conforming dependency specifiers. Discussion can be found at https://github.com/pypa/pip/issues/12063\n"
     ]
    }
   ],
   "source": [
    "pip install imbalanced-learn"
   ]
  },
  {
   "cell_type": "code",
   "execution_count": 24,
   "id": "5ccaeae3",
   "metadata": {
    "execution": {
     "iopub.execute_input": "2023-11-20T06:17:02.336454Z",
     "iopub.status.busy": "2023-11-20T06:17:02.336151Z",
     "iopub.status.idle": "2023-11-20T06:17:02.340611Z",
     "shell.execute_reply": "2023-11-20T06:17:02.339767Z"
    },
    "papermill": {
     "duration": 0.040087,
     "end_time": "2023-11-20T06:17:02.342490",
     "exception": false,
     "start_time": "2023-11-20T06:17:02.302403",
     "status": "completed"
    },
    "tags": []
   },
   "outputs": [
    {
     "name": "stdout",
     "output_type": "stream",
     "text": [
      "WARNING:tensorflow:From C:\\Users\\sumit\\AppData\\Roaming\\Python\\Python311\\site-packages\\keras\\src\\backend.py:873: The name tf.get_default_graph is deprecated. Please use tf.compat.v1.get_default_graph instead.\n",
      "\n",
      "WARNING:tensorflow:From C:\\Users\\sumit\\AppData\\Roaming\\Python\\Python311\\site-packages\\keras\\src\\optimizers\\__init__.py:309: The name tf.train.Optimizer is deprecated. Please use tf.compat.v1.train.Optimizer instead.\n",
      "\n",
      "Model: \"sequential\"\n",
      "_________________________________________________________________\n",
      " Layer (type)                Output Shape              Param #   \n",
      "=================================================================\n",
      " dense (Dense)               (None, 149)               114581    \n",
      "                                                                 \n",
      " dense_1 (Dense)             (None, 55)                8250      \n",
      "                                                                 \n",
      " dense_2 (Dense)             (None, 1)                 56        \n",
      "                                                                 \n",
      "=================================================================\n",
      "Total params: 122887 (480.03 KB)\n",
      "Trainable params: 122887 (480.03 KB)\n",
      "Non-trainable params: 0 (0.00 Byte)\n",
      "_________________________________________________________________\n"
     ]
    }
   ],
   "source": [
    "model_ann = Sequential()\n",
    "\n",
    "model_ann.add(Dense(units=149, activation='relu', input_dim=X_train.shape[1]))\n",
    "model_ann.add(Dense(units=55, activation='relu'))\n",
    "model_ann.add(Dense(units=y_2.shape[1], activation='softmax'))\n",
    "\n",
    "model_ann.compile(loss='categorical_crossentropy', optimizer='adam', metrics=['accuracy'])\n",
    "model_ann.summary()\n",
    "\n",
    "\n",
    "model_ann = LogisticRegression(multi_class=\"multinomial\")"
   ]
  },
  {
   "cell_type": "code",
   "execution_count": 25,
   "id": "1d83583f",
   "metadata": {
    "execution": {
     "iopub.execute_input": "2023-11-20T06:17:02.410922Z",
     "iopub.status.busy": "2023-11-20T06:17:02.410599Z",
     "iopub.status.idle": "2023-11-20T06:17:06.604716Z",
     "shell.execute_reply": "2023-11-20T06:17:06.603302Z"
    },
    "papermill": {
     "duration": 4.232633,
     "end_time": "2023-11-20T06:17:06.608328",
     "exception": false,
     "start_time": "2023-11-20T06:17:02.375695",
     "status": "completed"
    },
    "tags": []
   },
   "outputs": [
    {
     "data": {
      "text/html": [
       "<style>#sk-container-id-1 {color: black;}#sk-container-id-1 pre{padding: 0;}#sk-container-id-1 div.sk-toggleable {background-color: white;}#sk-container-id-1 label.sk-toggleable__label {cursor: pointer;display: block;width: 100%;margin-bottom: 0;padding: 0.3em;box-sizing: border-box;text-align: center;}#sk-container-id-1 label.sk-toggleable__label-arrow:before {content: \"▸\";float: left;margin-right: 0.25em;color: #696969;}#sk-container-id-1 label.sk-toggleable__label-arrow:hover:before {color: black;}#sk-container-id-1 div.sk-estimator:hover label.sk-toggleable__label-arrow:before {color: black;}#sk-container-id-1 div.sk-toggleable__content {max-height: 0;max-width: 0;overflow: hidden;text-align: left;background-color: #f0f8ff;}#sk-container-id-1 div.sk-toggleable__content pre {margin: 0.2em;color: black;border-radius: 0.25em;background-color: #f0f8ff;}#sk-container-id-1 input.sk-toggleable__control:checked~div.sk-toggleable__content {max-height: 200px;max-width: 100%;overflow: auto;}#sk-container-id-1 input.sk-toggleable__control:checked~label.sk-toggleable__label-arrow:before {content: \"▾\";}#sk-container-id-1 div.sk-estimator input.sk-toggleable__control:checked~label.sk-toggleable__label {background-color: #d4ebff;}#sk-container-id-1 div.sk-label input.sk-toggleable__control:checked~label.sk-toggleable__label {background-color: #d4ebff;}#sk-container-id-1 input.sk-hidden--visually {border: 0;clip: rect(1px 1px 1px 1px);clip: rect(1px, 1px, 1px, 1px);height: 1px;margin: -1px;overflow: hidden;padding: 0;position: absolute;width: 1px;}#sk-container-id-1 div.sk-estimator {font-family: monospace;background-color: #f0f8ff;border: 1px dotted black;border-radius: 0.25em;box-sizing: border-box;margin-bottom: 0.5em;}#sk-container-id-1 div.sk-estimator:hover {background-color: #d4ebff;}#sk-container-id-1 div.sk-parallel-item::after {content: \"\";width: 100%;border-bottom: 1px solid gray;flex-grow: 1;}#sk-container-id-1 div.sk-label:hover label.sk-toggleable__label {background-color: #d4ebff;}#sk-container-id-1 div.sk-serial::before {content: \"\";position: absolute;border-left: 1px solid gray;box-sizing: border-box;top: 0;bottom: 0;left: 50%;z-index: 0;}#sk-container-id-1 div.sk-serial {display: flex;flex-direction: column;align-items: center;background-color: white;padding-right: 0.2em;padding-left: 0.2em;position: relative;}#sk-container-id-1 div.sk-item {position: relative;z-index: 1;}#sk-container-id-1 div.sk-parallel {display: flex;align-items: stretch;justify-content: center;background-color: white;position: relative;}#sk-container-id-1 div.sk-item::before, #sk-container-id-1 div.sk-parallel-item::before {content: \"\";position: absolute;border-left: 1px solid gray;box-sizing: border-box;top: 0;bottom: 0;left: 50%;z-index: -1;}#sk-container-id-1 div.sk-parallel-item {display: flex;flex-direction: column;z-index: 1;position: relative;background-color: white;}#sk-container-id-1 div.sk-parallel-item:first-child::after {align-self: flex-end;width: 50%;}#sk-container-id-1 div.sk-parallel-item:last-child::after {align-self: flex-start;width: 50%;}#sk-container-id-1 div.sk-parallel-item:only-child::after {width: 0;}#sk-container-id-1 div.sk-dashed-wrapped {border: 1px dashed gray;margin: 0 0.4em 0.5em 0.4em;box-sizing: border-box;padding-bottom: 0.4em;background-color: white;}#sk-container-id-1 div.sk-label label {font-family: monospace;font-weight: bold;display: inline-block;line-height: 1.2em;}#sk-container-id-1 div.sk-label-container {text-align: center;}#sk-container-id-1 div.sk-container {/* jupyter's `normalize.less` sets `[hidden] { display: none; }` but bootstrap.min.css set `[hidden] { display: none !important; }` so we also need the `!important` here to be able to override the default hidden behavior on the sphinx rendered scikit-learn.org. See: https://github.com/scikit-learn/scikit-learn/issues/21755 */display: inline-block !important;position: relative;}#sk-container-id-1 div.sk-text-repr-fallback {display: none;}</style><div id=\"sk-container-id-1\" class=\"sk-top-container\"><div class=\"sk-text-repr-fallback\"><pre>LogisticRegression(multi_class=&#x27;multinomial&#x27;)</pre><b>In a Jupyter environment, please rerun this cell to show the HTML representation or trust the notebook. <br />On GitHub, the HTML representation is unable to render, please try loading this page with nbviewer.org.</b></div><div class=\"sk-container\" hidden><div class=\"sk-item\"><div class=\"sk-estimator sk-toggleable\"><input class=\"sk-toggleable__control sk-hidden--visually\" id=\"sk-estimator-id-1\" type=\"checkbox\" checked><label for=\"sk-estimator-id-1\" class=\"sk-toggleable__label sk-toggleable__label-arrow\">LogisticRegression</label><div class=\"sk-toggleable__content\"><pre>LogisticRegression(multi_class=&#x27;multinomial&#x27;)</pre></div></div></div></div></div>"
      ],
      "text/plain": [
       "LogisticRegression(multi_class='multinomial')"
      ]
     },
     "execution_count": 25,
     "metadata": {},
     "output_type": "execute_result"
    }
   ],
   "source": [
    "model_ann.fit(\n",
    "    X_train, y_train#, epochs=10, batch_size=2048, validation_data=(X_test, y_test)\n",
    ")"
   ]
  },
  {
   "cell_type": "code",
   "execution_count": 26,
   "id": "44d37ea4",
   "metadata": {
    "execution": {
     "iopub.execute_input": "2023-11-20T06:17:06.746501Z",
     "iopub.status.busy": "2023-11-20T06:17:06.746177Z",
     "iopub.status.idle": "2023-11-20T06:17:06.777439Z",
     "shell.execute_reply": "2023-11-20T06:17:06.776350Z"
    },
    "papermill": {
     "duration": 0.081543,
     "end_time": "2023-11-20T06:17:06.780758",
     "exception": false,
     "start_time": "2023-11-20T06:17:06.699215",
     "status": "completed"
    },
    "tags": []
   },
   "outputs": [
    {
     "name": "stdout",
     "output_type": "stream",
     "text": [
      "Importance result:\n",
      "0.0\n"
     ]
    },
    {
     "data": {
      "text/plain": [
       "1.0"
      ]
     },
     "execution_count": 26,
     "metadata": {},
     "output_type": "execute_result"
    }
   ],
   "source": [
    "print(\"Importance result:\")\n",
    "print(mean_absolute_error(y_test, model_ann.predict(X_test)))\n",
    "accuracy_score(y_test, np.round(model_ann.predict(X_test)))"
   ]
  },
  {
   "cell_type": "code",
   "execution_count": 27,
   "id": "3e6e6745",
   "metadata": {
    "execution": {
     "iopub.execute_input": "2023-11-20T06:17:06.926881Z",
     "iopub.status.busy": "2023-11-20T06:17:06.926463Z",
     "iopub.status.idle": "2023-11-20T06:17:06.931371Z",
     "shell.execute_reply": "2023-11-20T06:17:06.930222Z"
    },
    "papermill": {
     "duration": 0.064213,
     "end_time": "2023-11-20T06:17:06.933421",
     "exception": false,
     "start_time": "2023-11-20T06:17:06.869208",
     "status": "completed"
    },
    "tags": []
   },
   "outputs": [],
   "source": [
    "import numpy as np\n",
    "import pandas as pd"
   ]
  },
  {
   "cell_type": "code",
   "execution_count": 28,
   "id": "8bfbfe52",
   "metadata": {
    "execution": {
     "iopub.execute_input": "2023-11-20T06:17:07.007191Z",
     "iopub.status.busy": "2023-11-20T06:17:07.006879Z",
     "iopub.status.idle": "2023-11-20T06:17:22.617138Z",
     "shell.execute_reply": "2023-11-20T06:17:22.615730Z"
    },
    "papermill": {
     "duration": 15.649693,
     "end_time": "2023-11-20T06:17:22.619814",
     "exception": false,
     "start_time": "2023-11-20T06:17:06.970121",
     "status": "completed"
    },
    "tags": []
   },
   "outputs": [
    {
     "name": "stdout",
     "output_type": "stream",
     "text": [
      "Requirement already satisfied: names in c:\\users\\sumit\\anaconda3\\lib\\site-packages (0.3.0)\n",
      "Note: you may need to restart the kernel to use updated packages.\n"
     ]
    },
    {
     "name": "stderr",
     "output_type": "stream",
     "text": [
      "DEPRECATION: textract 1.6.5 has a non-standard dependency specifier extract-msg<=0.29.*. pip 24.0 will enforce this behaviour change. A possible replacement is to upgrade to a newer version of textract or contact the author to suggest that they release a version with a conforming dependency specifiers. Discussion can be found at https://github.com/pypa/pip/issues/12063\n"
     ]
    }
   ],
   "source": [
    "pip install names"
   ]
  },
  {
   "cell_type": "code",
   "execution_count": 29,
   "metadata": {},
   "outputs": [],
   "source": [
    "import names"
   ]
  },
  {
   "cell_type": "code",
   "execution_count": 30,
   "id": "f9dee532",
   "metadata": {
    "execution": {
     "iopub.execute_input": "2023-11-20T06:17:22.694519Z",
     "iopub.status.busy": "2023-11-20T06:17:22.694070Z",
     "iopub.status.idle": "2023-11-20T06:17:22.789341Z",
     "shell.execute_reply": "2023-11-20T06:17:22.788544Z"
    },
    "papermill": {
     "duration": 0.134459,
     "end_time": "2023-11-20T06:17:22.791282",
     "exception": false,
     "start_time": "2023-11-20T06:17:22.656823",
     "status": "completed"
    },
    "tags": []
   },
   "outputs": [
    {
     "data": {
      "application/vnd.plotly.v1+json": {
       "config": {
        "plotlyServerURL": "https://plot.ly"
       },
       "data": [
        {
         "alignmentgroup": "True",
         "hovertemplate": "variable=count<br>query=%{x}<br>value=%{y}<extra></extra>",
         "legendgroup": "count",
         "marker": {
          "color": "#636efa",
          "pattern": {
           "shape": ""
          }
         },
         "name": "count",
         "offsetgroup": "count",
         "orientation": "v",
         "showlegend": true,
         "textposition": "auto",
         "type": "bar",
         "x": [
          "My order hasn't arrived yet.",
          "What is the processing time for my order?",
          "I need help assembling my product.",
          "Is there a mobile app for your store?",
          "Do you have a loyalty program?",
          "How do I use a gift card in-store?",
          "Can I pre-order an item?",
          "Is my payment information secure?",
          "How do I update my shipping preferences?",
          "Do you offer a military discount?",
          "Can I reserve an item in-store?",
          "I can't find my order confirmation email.",
          "Can I pay with a gift card online?",
          "How do I sign up for your rewards program?",
          "Can I place an order for in-store pickup?",
          "Do you offer a warranty on your products?",
          "Where can I find the user manual for my product?",
          "What are your customer service hours?",
          "Do you offer financing options?",
          "How do I get a price adjustment for a recent purchase?",
          "I received a damaged product.",
          "How do I schedule a consultation or appointment?",
          "hello",
          "How are you",
          "who are you",
          "How do I report a lost or stolen gift card?",
          "Do you have a recycling program?",
          "Can I use a competitor's coupon at your store?",
          "Can I get a copy of my receipt?",
          "Do you have any upcoming sales or events?",
          "How do I change my email preferences?",
          "What is your policy on price adjustments?",
          "How do I report a problem with your website?",
          "Can I place a custom order?",
          "Do you offer free shipping?",
          "Can I get a replacement part for my product?",
          "What are the washing instructions for this item?",
          "Can I use my store credit online?",
          "Can I use multiple promo codes on one order?",
          "How do I know if my order went through?",
          "Can I place an order over the phone?",
          "I'm having trouble applying a promo code.",
          "How do I reset my password?",
          "My promo code has expired. Can I still use it?",
          "Is my item in stock?",
          "What is the status of my warranty claim?",
          "Can I change the size of an item in my order?",
          "I haven't received a response to my email inquiry.",
          "How do I update my payment information?",
          "I can't find the item I'm looking for.",
          "Do you offer international shipping?",
          "My account has been locked.",
          "I'd like to track my order.",
          "Can I get a refund for my purchase?",
          "How do I cancel my subscription?",
          "I have a question about my bill.",
          "I want to change my shipping address.",
          "I need to return an item.",
          "Can I place a bulk order?",
          "How do I apply for a job at your company?",
          "Can I add an item to an existing order?",
          "How long does shipping take?",
          "Can you help me with a product recommendation?",
          "My coupon isn't working.",
          "Are there any current promotions or sales?",
          "Do you offer price matching?",
          "What is your return policy?",
          "How do I unsubscribe from your newsletter?",
          "Can I schedule a delivery?",
          "Do you offer gift wrapping?",
          "I can't log into my account.",
          "Where is your store located?",
          "How do I apply for a store credit card?",
          "Can I exchange an item for a different color?",
          "I need technical support for a product.",
          "Where can I find your sizing chart?",
          "I was charged twice for my order.",
          "hi"
         ],
         "xaxis": "x",
         "y": [
          1,
          1,
          1,
          1,
          1,
          1,
          1,
          1,
          1,
          1,
          1,
          1,
          1,
          1,
          1,
          1,
          1,
          1,
          1,
          1,
          1,
          1,
          1,
          1,
          1,
          1,
          1,
          1,
          1,
          1,
          1,
          1,
          1,
          1,
          1,
          1,
          1,
          1,
          1,
          1,
          1,
          1,
          1,
          1,
          1,
          1,
          1,
          1,
          1,
          1,
          1,
          1,
          1,
          1,
          1,
          1,
          1,
          1,
          1,
          1,
          1,
          1,
          1,
          1,
          1,
          1,
          1,
          1,
          1,
          1,
          1,
          1,
          1,
          1,
          1,
          1,
          1,
          1
         ],
         "yaxis": "y"
        }
       ],
       "layout": {
        "barmode": "relative",
        "legend": {
         "title": {
          "text": "variable"
         },
         "tracegroupgap": 0
        },
        "margin": {
         "t": 60
        },
        "template": {
         "data": {
          "bar": [
           {
            "error_x": {
             "color": "#2a3f5f"
            },
            "error_y": {
             "color": "#2a3f5f"
            },
            "marker": {
             "line": {
              "color": "#E5ECF6",
              "width": 0.5
             },
             "pattern": {
              "fillmode": "overlay",
              "size": 10,
              "solidity": 0.2
             }
            },
            "type": "bar"
           }
          ],
          "barpolar": [
           {
            "marker": {
             "line": {
              "color": "#E5ECF6",
              "width": 0.5
             },
             "pattern": {
              "fillmode": "overlay",
              "size": 10,
              "solidity": 0.2
             }
            },
            "type": "barpolar"
           }
          ],
          "carpet": [
           {
            "aaxis": {
             "endlinecolor": "#2a3f5f",
             "gridcolor": "white",
             "linecolor": "white",
             "minorgridcolor": "white",
             "startlinecolor": "#2a3f5f"
            },
            "baxis": {
             "endlinecolor": "#2a3f5f",
             "gridcolor": "white",
             "linecolor": "white",
             "minorgridcolor": "white",
             "startlinecolor": "#2a3f5f"
            },
            "type": "carpet"
           }
          ],
          "choropleth": [
           {
            "colorbar": {
             "outlinewidth": 0,
             "ticks": ""
            },
            "type": "choropleth"
           }
          ],
          "contour": [
           {
            "colorbar": {
             "outlinewidth": 0,
             "ticks": ""
            },
            "colorscale": [
             [
              0,
              "#0d0887"
             ],
             [
              0.1111111111111111,
              "#46039f"
             ],
             [
              0.2222222222222222,
              "#7201a8"
             ],
             [
              0.3333333333333333,
              "#9c179e"
             ],
             [
              0.4444444444444444,
              "#bd3786"
             ],
             [
              0.5555555555555556,
              "#d8576b"
             ],
             [
              0.6666666666666666,
              "#ed7953"
             ],
             [
              0.7777777777777778,
              "#fb9f3a"
             ],
             [
              0.8888888888888888,
              "#fdca26"
             ],
             [
              1,
              "#f0f921"
             ]
            ],
            "type": "contour"
           }
          ],
          "contourcarpet": [
           {
            "colorbar": {
             "outlinewidth": 0,
             "ticks": ""
            },
            "type": "contourcarpet"
           }
          ],
          "heatmap": [
           {
            "colorbar": {
             "outlinewidth": 0,
             "ticks": ""
            },
            "colorscale": [
             [
              0,
              "#0d0887"
             ],
             [
              0.1111111111111111,
              "#46039f"
             ],
             [
              0.2222222222222222,
              "#7201a8"
             ],
             [
              0.3333333333333333,
              "#9c179e"
             ],
             [
              0.4444444444444444,
              "#bd3786"
             ],
             [
              0.5555555555555556,
              "#d8576b"
             ],
             [
              0.6666666666666666,
              "#ed7953"
             ],
             [
              0.7777777777777778,
              "#fb9f3a"
             ],
             [
              0.8888888888888888,
              "#fdca26"
             ],
             [
              1,
              "#f0f921"
             ]
            ],
            "type": "heatmap"
           }
          ],
          "heatmapgl": [
           {
            "colorbar": {
             "outlinewidth": 0,
             "ticks": ""
            },
            "colorscale": [
             [
              0,
              "#0d0887"
             ],
             [
              0.1111111111111111,
              "#46039f"
             ],
             [
              0.2222222222222222,
              "#7201a8"
             ],
             [
              0.3333333333333333,
              "#9c179e"
             ],
             [
              0.4444444444444444,
              "#bd3786"
             ],
             [
              0.5555555555555556,
              "#d8576b"
             ],
             [
              0.6666666666666666,
              "#ed7953"
             ],
             [
              0.7777777777777778,
              "#fb9f3a"
             ],
             [
              0.8888888888888888,
              "#fdca26"
             ],
             [
              1,
              "#f0f921"
             ]
            ],
            "type": "heatmapgl"
           }
          ],
          "histogram": [
           {
            "marker": {
             "pattern": {
              "fillmode": "overlay",
              "size": 10,
              "solidity": 0.2
             }
            },
            "type": "histogram"
           }
          ],
          "histogram2d": [
           {
            "colorbar": {
             "outlinewidth": 0,
             "ticks": ""
            },
            "colorscale": [
             [
              0,
              "#0d0887"
             ],
             [
              0.1111111111111111,
              "#46039f"
             ],
             [
              0.2222222222222222,
              "#7201a8"
             ],
             [
              0.3333333333333333,
              "#9c179e"
             ],
             [
              0.4444444444444444,
              "#bd3786"
             ],
             [
              0.5555555555555556,
              "#d8576b"
             ],
             [
              0.6666666666666666,
              "#ed7953"
             ],
             [
              0.7777777777777778,
              "#fb9f3a"
             ],
             [
              0.8888888888888888,
              "#fdca26"
             ],
             [
              1,
              "#f0f921"
             ]
            ],
            "type": "histogram2d"
           }
          ],
          "histogram2dcontour": [
           {
            "colorbar": {
             "outlinewidth": 0,
             "ticks": ""
            },
            "colorscale": [
             [
              0,
              "#0d0887"
             ],
             [
              0.1111111111111111,
              "#46039f"
             ],
             [
              0.2222222222222222,
              "#7201a8"
             ],
             [
              0.3333333333333333,
              "#9c179e"
             ],
             [
              0.4444444444444444,
              "#bd3786"
             ],
             [
              0.5555555555555556,
              "#d8576b"
             ],
             [
              0.6666666666666666,
              "#ed7953"
             ],
             [
              0.7777777777777778,
              "#fb9f3a"
             ],
             [
              0.8888888888888888,
              "#fdca26"
             ],
             [
              1,
              "#f0f921"
             ]
            ],
            "type": "histogram2dcontour"
           }
          ],
          "mesh3d": [
           {
            "colorbar": {
             "outlinewidth": 0,
             "ticks": ""
            },
            "type": "mesh3d"
           }
          ],
          "parcoords": [
           {
            "line": {
             "colorbar": {
              "outlinewidth": 0,
              "ticks": ""
             }
            },
            "type": "parcoords"
           }
          ],
          "pie": [
           {
            "automargin": true,
            "type": "pie"
           }
          ],
          "scatter": [
           {
            "fillpattern": {
             "fillmode": "overlay",
             "size": 10,
             "solidity": 0.2
            },
            "type": "scatter"
           }
          ],
          "scatter3d": [
           {
            "line": {
             "colorbar": {
              "outlinewidth": 0,
              "ticks": ""
             }
            },
            "marker": {
             "colorbar": {
              "outlinewidth": 0,
              "ticks": ""
             }
            },
            "type": "scatter3d"
           }
          ],
          "scattercarpet": [
           {
            "marker": {
             "colorbar": {
              "outlinewidth": 0,
              "ticks": ""
             }
            },
            "type": "scattercarpet"
           }
          ],
          "scattergeo": [
           {
            "marker": {
             "colorbar": {
              "outlinewidth": 0,
              "ticks": ""
             }
            },
            "type": "scattergeo"
           }
          ],
          "scattergl": [
           {
            "marker": {
             "colorbar": {
              "outlinewidth": 0,
              "ticks": ""
             }
            },
            "type": "scattergl"
           }
          ],
          "scattermapbox": [
           {
            "marker": {
             "colorbar": {
              "outlinewidth": 0,
              "ticks": ""
             }
            },
            "type": "scattermapbox"
           }
          ],
          "scatterpolar": [
           {
            "marker": {
             "colorbar": {
              "outlinewidth": 0,
              "ticks": ""
             }
            },
            "type": "scatterpolar"
           }
          ],
          "scatterpolargl": [
           {
            "marker": {
             "colorbar": {
              "outlinewidth": 0,
              "ticks": ""
             }
            },
            "type": "scatterpolargl"
           }
          ],
          "scatterternary": [
           {
            "marker": {
             "colorbar": {
              "outlinewidth": 0,
              "ticks": ""
             }
            },
            "type": "scatterternary"
           }
          ],
          "surface": [
           {
            "colorbar": {
             "outlinewidth": 0,
             "ticks": ""
            },
            "colorscale": [
             [
              0,
              "#0d0887"
             ],
             [
              0.1111111111111111,
              "#46039f"
             ],
             [
              0.2222222222222222,
              "#7201a8"
             ],
             [
              0.3333333333333333,
              "#9c179e"
             ],
             [
              0.4444444444444444,
              "#bd3786"
             ],
             [
              0.5555555555555556,
              "#d8576b"
             ],
             [
              0.6666666666666666,
              "#ed7953"
             ],
             [
              0.7777777777777778,
              "#fb9f3a"
             ],
             [
              0.8888888888888888,
              "#fdca26"
             ],
             [
              1,
              "#f0f921"
             ]
            ],
            "type": "surface"
           }
          ],
          "table": [
           {
            "cells": {
             "fill": {
              "color": "#EBF0F8"
             },
             "line": {
              "color": "white"
             }
            },
            "header": {
             "fill": {
              "color": "#C8D4E3"
             },
             "line": {
              "color": "white"
             }
            },
            "type": "table"
           }
          ]
         },
         "layout": {
          "annotationdefaults": {
           "arrowcolor": "#2a3f5f",
           "arrowhead": 0,
           "arrowwidth": 1
          },
          "autotypenumbers": "strict",
          "coloraxis": {
           "colorbar": {
            "outlinewidth": 0,
            "ticks": ""
           }
          },
          "colorscale": {
           "diverging": [
            [
             0,
             "#8e0152"
            ],
            [
             0.1,
             "#c51b7d"
            ],
            [
             0.2,
             "#de77ae"
            ],
            [
             0.3,
             "#f1b6da"
            ],
            [
             0.4,
             "#fde0ef"
            ],
            [
             0.5,
             "#f7f7f7"
            ],
            [
             0.6,
             "#e6f5d0"
            ],
            [
             0.7,
             "#b8e186"
            ],
            [
             0.8,
             "#7fbc41"
            ],
            [
             0.9,
             "#4d9221"
            ],
            [
             1,
             "#276419"
            ]
           ],
           "sequential": [
            [
             0,
             "#0d0887"
            ],
            [
             0.1111111111111111,
             "#46039f"
            ],
            [
             0.2222222222222222,
             "#7201a8"
            ],
            [
             0.3333333333333333,
             "#9c179e"
            ],
            [
             0.4444444444444444,
             "#bd3786"
            ],
            [
             0.5555555555555556,
             "#d8576b"
            ],
            [
             0.6666666666666666,
             "#ed7953"
            ],
            [
             0.7777777777777778,
             "#fb9f3a"
            ],
            [
             0.8888888888888888,
             "#fdca26"
            ],
            [
             1,
             "#f0f921"
            ]
           ],
           "sequentialminus": [
            [
             0,
             "#0d0887"
            ],
            [
             0.1111111111111111,
             "#46039f"
            ],
            [
             0.2222222222222222,
             "#7201a8"
            ],
            [
             0.3333333333333333,
             "#9c179e"
            ],
            [
             0.4444444444444444,
             "#bd3786"
            ],
            [
             0.5555555555555556,
             "#d8576b"
            ],
            [
             0.6666666666666666,
             "#ed7953"
            ],
            [
             0.7777777777777778,
             "#fb9f3a"
            ],
            [
             0.8888888888888888,
             "#fdca26"
            ],
            [
             1,
             "#f0f921"
            ]
           ]
          },
          "colorway": [
           "#636efa",
           "#EF553B",
           "#00cc96",
           "#ab63fa",
           "#FFA15A",
           "#19d3f3",
           "#FF6692",
           "#B6E880",
           "#FF97FF",
           "#FECB52"
          ],
          "font": {
           "color": "#2a3f5f"
          },
          "geo": {
           "bgcolor": "white",
           "lakecolor": "white",
           "landcolor": "#E5ECF6",
           "showlakes": true,
           "showland": true,
           "subunitcolor": "white"
          },
          "hoverlabel": {
           "align": "left"
          },
          "hovermode": "closest",
          "mapbox": {
           "style": "light"
          },
          "paper_bgcolor": "white",
          "plot_bgcolor": "#E5ECF6",
          "polar": {
           "angularaxis": {
            "gridcolor": "white",
            "linecolor": "white",
            "ticks": ""
           },
           "bgcolor": "#E5ECF6",
           "radialaxis": {
            "gridcolor": "white",
            "linecolor": "white",
            "ticks": ""
           }
          },
          "scene": {
           "xaxis": {
            "backgroundcolor": "#E5ECF6",
            "gridcolor": "white",
            "gridwidth": 2,
            "linecolor": "white",
            "showbackground": true,
            "ticks": "",
            "zerolinecolor": "white"
           },
           "yaxis": {
            "backgroundcolor": "#E5ECF6",
            "gridcolor": "white",
            "gridwidth": 2,
            "linecolor": "white",
            "showbackground": true,
            "ticks": "",
            "zerolinecolor": "white"
           },
           "zaxis": {
            "backgroundcolor": "#E5ECF6",
            "gridcolor": "white",
            "gridwidth": 2,
            "linecolor": "white",
            "showbackground": true,
            "ticks": "",
            "zerolinecolor": "white"
           }
          },
          "shapedefaults": {
           "line": {
            "color": "#2a3f5f"
           }
          },
          "ternary": {
           "aaxis": {
            "gridcolor": "white",
            "linecolor": "white",
            "ticks": ""
           },
           "baxis": {
            "gridcolor": "white",
            "linecolor": "white",
            "ticks": ""
           },
           "bgcolor": "#E5ECF6",
           "caxis": {
            "gridcolor": "white",
            "linecolor": "white",
            "ticks": ""
           }
          },
          "title": {
           "x": 0.05
          },
          "xaxis": {
           "automargin": true,
           "gridcolor": "white",
           "linecolor": "white",
           "ticks": "",
           "title": {
            "standoff": 15
           },
           "zerolinecolor": "white",
           "zerolinewidth": 2
          },
          "yaxis": {
           "automargin": true,
           "gridcolor": "white",
           "linecolor": "white",
           "ticks": "",
           "title": {
            "standoff": 15
           },
           "zerolinecolor": "white",
           "zerolinewidth": 2
          }
         }
        },
        "xaxis": {
         "anchor": "y",
         "domain": [
          0,
          1
         ],
         "title": {
          "text": "query"
         }
        },
        "yaxis": {
         "anchor": "x",
         "domain": [
          0,
          1
         ],
         "title": {
          "text": "value"
         }
        }
       }
      }
     },
     "metadata": {},
     "output_type": "display_data"
    }
   ],
   "source": [
    "px.bar(data[\"query\"].value_counts())"
   ]
  },
  {
   "cell_type": "code",
   "execution_count": 286,
   "id": "2b5607d4",
   "metadata": {
    "papermill": {
     "duration": null,
     "end_time": null,
     "exception": null,
     "start_time": null,
     "status": "pending"
    },
    "tags": []
   },
   "outputs": [
    {
     "name": "stdout",
     "output_type": "stream",
     "text": [
      "Epoch 1/5\n",
      "1/1 [==============================] - 0s 470ms/step - loss: 1.3968 - accuracy: 0.0370 - val_loss: 0.8384 - val_accuracy: 0.9167\n",
      "Epoch 2/5\n",
      "1/1 [==============================] - 0s 26ms/step - loss: 0.8664 - accuracy: 0.8519 - val_loss: 0.5107 - val_accuracy: 0.9167\n",
      "Epoch 3/5\n",
      "1/1 [==============================] - 0s 26ms/step - loss: 0.5847 - accuracy: 0.8519 - val_loss: 0.3565 - val_accuracy: 0.9167\n",
      "Epoch 4/5\n",
      "1/1 [==============================] - 0s 28ms/step - loss: 0.4766 - accuracy: 0.8519 - val_loss: 0.3071 - val_accuracy: 0.9167\n",
      "Epoch 5/5\n",
      "1/1 [==============================] - 0s 26ms/step - loss: 0.4540 - accuracy: 0.8519 - val_loss: 0.2853 - val_accuracy: 0.9167\n",
      "Epoch 1/10\n",
      "1/1 [==============================] - 0s 56ms/step - loss: 0.4191 - accuracy: 0.8519 - val_loss: 0.2689 - val_accuracy: 0.9167\n",
      "Epoch 2/10\n",
      "1/1 [==============================] - 0s 27ms/step - loss: 0.3673 - accuracy: 0.8519 - val_loss: 0.2625 - val_accuracy: 0.9167\n",
      "Epoch 3/10\n",
      "1/1 [==============================] - 0s 31ms/step - loss: 0.3180 - accuracy: 0.8519 - val_loss: 0.2756 - val_accuracy: 0.9583\n",
      "Epoch 4/10\n",
      "1/1 [==============================] - 0s 28ms/step - loss: 0.2943 - accuracy: 0.9259 - val_loss: 0.2750 - val_accuracy: 0.9583\n",
      "Epoch 5/10\n",
      "1/1 [==============================] - 0s 26ms/step - loss: 0.2750 - accuracy: 0.9444 - val_loss: 0.2411 - val_accuracy: 0.9583\n",
      "Epoch 6/10\n",
      "1/1 [==============================] - 0s 30ms/step - loss: 0.2404 - accuracy: 0.9630 - val_loss: 0.1963 - val_accuracy: 0.9583\n",
      "Epoch 7/10\n",
      "1/1 [==============================] - 0s 24ms/step - loss: 0.2036 - accuracy: 0.9444 - val_loss: 0.1623 - val_accuracy: 0.9583\n",
      "Epoch 8/10\n",
      "1/1 [==============================] - 0s 33ms/step - loss: 0.1775 - accuracy: 0.9444 - val_loss: 0.1378 - val_accuracy: 0.9583\n",
      "Epoch 9/10\n",
      "1/1 [==============================] - 0s 28ms/step - loss: 0.1576 - accuracy: 0.9444 - val_loss: 0.1183 - val_accuracy: 0.9583\n",
      "Epoch 10/10\n",
      "1/1 [==============================] - 0s 26ms/step - loss: 0.1387 - accuracy: 0.9444 - val_loss: 0.1001 - val_accuracy: 0.9583\n",
      "Training Loss:  [1.3968002796173096, 0.8664071559906006, 0.5846968293190002, 0.47664350271224976, 0.454005628824234]\n",
      "Validation Loss:  [0.8384148478507996, 0.5106509327888489, 0.35649004578590393, 0.3071040213108063, 0.2853223979473114]\n",
      "Training Accuracy:  [0.03703703731298447, 0.8518518805503845, 0.8518518805503845, 0.8518518805503845, 0.8518518805503845]\n",
      "Validation Accuracy:  [0.9166666865348816, 0.9166666865348816, 0.9166666865348816, 0.9166666865348816, 0.9166666865348816]\n",
      "1/1 [==============================] - 0s 43ms/step\n",
      "Accuracy: 0.9583333333333334\n",
      "Confusion Matrix:\n",
      "[[ 1  0  0]\n",
      " [ 0 22  0]\n",
      " [ 0  1  0]]\n",
      "Classification Report:\n",
      "              precision    recall  f1-score   support\n",
      "\n",
      "           0       1.00      1.00      1.00         1\n",
      "           1       0.96      1.00      0.98        22\n",
      "           2       0.00      0.00      0.00         1\n",
      "\n",
      "    accuracy                           0.96        24\n",
      "   macro avg       0.65      0.67      0.66        24\n",
      "weighted avg       0.92      0.96      0.94        24\n",
      "\n"
     ]
    },
    {
     "data": {
      "image/png": "[encoded data removed]",
      "text/plain": [
       "<Figure size 1000x600 with 1 Axes>"
      ]
     },
     "metadata": {},
     "output_type": "display_data"
    },
    {
     "data": {
      "image/png": "[encoded data removed]",
      "text/plain": [
       "<Figure size 640x480 with 1 Axes>"
      ]
     },
     "metadata": {},
     "output_type": "display_data"
    },
    {
     "data": {
      "image/png": "[encoded data removed]",
      "text/plain": [
       "<Figure size 640x480 with 1 Axes>"
      ]
     },
     "metadata": {},
     "output_type": "display_data"
    }
   ],
   "source": [
    "from sklearn.preprocessing import label_binarize\n",
    "from sklearn.model_selection import train_test_split\n",
    "from sklearn.preprocessing import LabelEncoder\n",
    "from tensorflow.keras.utils import to_categorical\n",
    "from sklearn.metrics import accuracy_score, confusion_matrix, classification_report, roc_curve, auc\n",
    "import matplotlib.pyplot as plt\n",
    "import numpy as np\n",
    "from tensorflow.keras.models import Sequential\n",
    "from tensorflow.keras.layers import Dense\n",
    "\n",
    "# Assuming you have loaded your data and defined X, y_2, etc.\n",
    "# ...\n",
    "\n",
    "# Encoding the target variable\n",
    "label_encoder = LabelEncoder()\n",
    "y_2_encoded = label_encoder.fit_transform(y_2)\n",
    "\n",
    "# Check the number of unique classes\n",
    "num_classes = len(np.unique(y_2_encoded))\n",
    "\n",
    "# If there is only one class, handle it differently\n",
    "if num_classes == 1:\n",
    "    print(\"Only one class found. Cannot calculate ROC curve.\")\n",
    "\n",
    "else:\n",
    "    y_2_one_hot = to_categorical(y_2_encoded)\n",
    "\n",
    "    # Split the data\n",
    "    X_train, X_test, y_train, y_test = train_test_split(\n",
    "        X, y_2_one_hot, test_size=0.3, random_state=RANDOM_STATE\n",
    "    )\n",
    "\n",
    "   # Model definition\n",
    "    model_ann = Sequential()\n",
    "    model_ann.add(Dense(units=100, activation='relu', input_dim=X_train.shape[1]))\n",
    "    model_ann.add(Dense(units=24, activation='relu'))\n",
    "    model_ann.add(Dense(units=num_classes, activation='softmax'))\n",
    "\n",
    "\n",
    "    # Compile the model\n",
    "    model_ann.compile(loss='categorical_crossentropy', optimizer='adam', metrics=['accuracy'])\n",
    "    # Train the model and capture the history\n",
    "    history = model_ann.fit(X_train, y_train, epochs=5, batch_size=544, validation_data=(X_test, y_test))\n",
    "\n",
    "\n",
    "    # Train the model\n",
    "    model_ann.fit(X_train, y_train, epochs=10, batch_size=544, validation_data=(X_test, y_test))\n",
    "    print('Training Loss: ', history.history['loss'])\n",
    "    print('Validation Loss: ', history.history['val_loss'])\n",
    "    print('Training Accuracy: ', history.history['accuracy'])\n",
    "    print('Validation Accuracy: ', history.history['val_accuracy'])\n",
    "\n",
    "\n",
    "    # Predictions\n",
    "    y_pred = model_ann.predict(X_test)\n",
    "\n",
    "    # Accuracy\n",
    "    accuracy = accuracy_score(np.argmax(y_test, axis=1), np.argmax(y_pred, axis=1))\n",
    "    print(f\"Accuracy: {accuracy}\")\n",
    "\n",
    "    # Confusion Matrix\n",
    "    conf_matrix = confusion_matrix(np.argmax(y_test, axis=1), np.argmax(y_pred, axis=1))\n",
    "    print(\"Confusion Matrix:\")\n",
    "    print(conf_matrix)\n",
    "\n",
    "    # Classification Report\n",
    "    class_report = classification_report(np.argmax(y_test, axis=1), np.argmax(y_pred, axis=1))\n",
    "    print(\"Classification Report:\")\n",
    "    print(class_report)\n",
    "\n",
    "    # ROC Curve\n",
    "    fpr, tpr, _ = roc_curve(y_test.ravel(), y_pred.ravel())\n",
    "    roc_auc = auc(fpr, tpr)\n",
    "\n",
    "    # Plot ROC curve\n",
    "    plt.figure(figsize=(10, 6))\n",
    "    plt.plot(fpr, tpr, lw=2, label=f'Class 0 (AUC = {roc_auc:.2f})')\n",
    "\n",
    "    plt.plot([0, 1], [0, 1], color='navy', lw=2, linestyle='--')\n",
    "    plt.xlabel('False Positive Rate')\n",
    "    plt.ylabel('True Positive Rate')\n",
    "    plt.title('ROC Curve')\n",
    "    plt.legend(loc='best')\n",
    "    plt.show()\n",
    "import matplotlib.pyplot as plt\n",
    "\n",
    "# ... (Your existing code)\n",
    "\n",
    "# Plot Accuracy\n",
    "plt.plot(history.history['accuracy'], label='Training Accuracy')\n",
    "plt.plot(history.history['val_accuracy'], label='Validation Accuracy')\n",
    "plt.title('Training and Validation Accuracy')\n",
    "plt.xlabel('Epoch')\n",
    "plt.ylabel('Accuracy')\n",
    "plt.legend()\n",
    "plt.show()\n",
    "\n",
    "# Plot Validation Loss\n",
    "plt.plot(history.history['loss'], label='Training Loss')\n",
    "plt.plot(history.history['val_loss'], label='Validation Loss')\n",
    "plt.title('Training and Validation Loss')\n",
    "plt.xlabel('Epoch')\n",
    "plt.ylabel('Loss')\n",
    "plt.legend()\n",
    "plt.show()\n"
   ]
  },
  {
   "cell_type": "code",
   "execution_count": 191,
   "metadata": {},
   "outputs": [
    {
     "name": "stdout",
     "output_type": "stream",
     "text": [
      "Training Loss:  [1.0774441957473755, 0.8225783109664917, 0.75516676902771, 0.7156322002410889, 0.6594842076301575]\n",
      "Validation Loss:  [0.8232268691062927, 0.7773463129997253, 0.7596457600593567, 0.6677491664886475, 0.6300559639930725]\n",
      "Training Accuracy:  [0.14814814925193787, 0.2777777910232544, 0.7037037014961243, 0.7592592835426331, 0.9259259104728699]\n",
      "Validation Accuracy:  [0.25, 0.5, 0.5833333134651184, 0.9166666865348816, 0.9166666865348816]\n"
     ]
    }
   ],
   "source": [
    "epochs_trained = range(1, len(history.history['loss']) + 1)\n",
    "print('Training Loss: ', history.history['loss'])\n",
    "print('Validation Loss: ', history.history['val_loss'])\n",
    "print('Training Accuracy: ', history.history['accuracy'])\n",
    "print('Validation Accuracy: ', history.history['val_accuracy'])\n"
   ]
  }
 ],
 "metadata": {
  "kaggle": {
   "accelerator": "nvidiaTeslaT4",
   "dataSources": [
    {
     "datasetId": 1953751,
     "sourceId": 3314620,
     "sourceType": "datasetVersion"
    },
    {
     "datasetId": 4021777,
     "sourceId": 6996484,
     "sourceType": "datasetVersion"
    },
    {
     "isSourceIdPinned": true,
     "modelInstanceId": 1899,
     "sourceId": 2622,
     "sourceType": "modelInstanceVersion"
    }
   ],
   "dockerImageVersionId": 30529,
   "isGpuEnabled": true,
   "isInternetEnabled": true,
   "language": "python",
   "sourceType": "notebook"
  },
  "kernelspec": {
   "display_name": "Python 3",
   "language": "python",
   "name": "python3"
  },
  "language_info": {
   "codemirror_mode": {
    "name": "ipython",
    "version": 3
   },
   "file_extension": ".py",
   "mimetype": "text/x-python",
   "name": "python",
   "nbconvert_exporter": "python",
   "pygments_lexer": "ipython3",
   "version": "3.11.5"
  },
  "papermill": {
   "default_parameters": {},
   "duration": 685.21224,
   "end_time": "2023-11-20T06:17:42.697021",
   "environment_variables": {},
   "exception": true,
   "input_path": "__notebook__.ipynb",
   "output_path": "__notebook__.ipynb",
   "parameters": {},
   "start_time": "2023-11-20T06:06:17.484781",
   "version": "2.4.0"
  },
  "widgets": {
   "application/vnd.jupyter.widget-state+json": {
    "state": {
     "0109176c5b7a476a85f8404624a6b2ef": {
      "model_module": "@jupyter-widgets/controls",
      "model_module_version": "1.5.0",
      "model_name": "HTMLModel",
      "state": {
       "_dom_classes": [],
       "_model_module": "@jupyter-widgets/controls",
       "_model_module_version": "1.5.0",
       "_model_name": "HTMLModel",
       "_view_count": null,
       "_view_module": "@jupyter-widgets/controls",
       "_view_module_version": "1.5.0",
       "_view_name": "HTMLView",
       "description": "",
       "description_tooltip": null,
       "layout": "IPY_MODEL_27e35b8e19b449b088b144ba32ec7cdd",
       "placeholder": "​",
       "style": "IPY_MODEL_324f6b9a3dbb488191285b15ea8bbbd7",
       "value": "Downloading vocab.txt: 100%"
      }
     },
     "0366bb8be2a24798977610bed21b1147": {
      "model_module": "@jupyter-widgets/controls",
      "model_module_version": "1.5.0",
      "model_name": "ProgressStyleModel",
      "state": {
       "_model_module": "@jupyter-widgets/controls",
       "_model_module_version": "1.5.0",
       "_model_name": "ProgressStyleModel",
       "_view_count": null,
       "_view_module": "@jupyter-widgets/base",
       "_view_module_version": "1.2.0",
       "_view_name": "StyleView",
       "bar_color": null,
       "description_width": ""
      }
     },
     "03942a1478ec4ef5bed8d2ca9bea44b3": {
      "model_module": "@jupyter-widgets/controls",
      "model_module_version": "1.5.0",
      "model_name": "HTMLModel",
      "state": {
       "_dom_classes": [],
       "_model_module": "@jupyter-widgets/controls",
       "_model_module_version": "1.5.0",
       "_model_name": "HTMLModel",
       "_view_count": null,
       "_view_module": "@jupyter-widgets/controls",
       "_view_module_version": "1.5.0",
       "_view_name": "HTMLView",
       "description": "",
       "description_tooltip": null,
       "layout": "IPY_MODEL_f68529d5af164647813247212a70f67c",
       "placeholder": "​",
       "style": "IPY_MODEL_60783fbeaaae4444b1e63c54538e6202",
       "value": "Downloading pytorch_model.bin: 100%"
      }
     },
     "03cc5293759a4413be7d986b59862e71": {
      "model_module": "@jupyter-widgets/controls",
      "model_module_version": "1.5.0",
      "model_name": "DescriptionStyleModel",
      "state": {
       "_model_module": "@jupyter-widgets/controls",
       "_model_module_version": "1.5.0",
       "_model_name": "DescriptionStyleModel",
       "_view_count": null,
       "_view_module": "@jupyter-widgets/base",
       "_view_module_version": "1.2.0",
       "_view_name": "StyleView",
       "description_width": ""
      }
     },
     "057c0c242d964a469ba5f02141b0c3fb": {
      "model_module": "@jupyter-widgets/controls",
      "model_module_version": "1.5.0",
      "model_name": "DescriptionStyleModel",
      "state": {
       "_model_module": "@jupyter-widgets/controls",
       "_model_module_version": "1.5.0",
       "_model_name": "DescriptionStyleModel",
       "_view_count": null,
       "_view_module": "@jupyter-widgets/base",
       "_view_module_version": "1.2.0",
       "_view_name": "StyleView",
       "description_width": ""
      }
     },
     "066442db5358462fb315aea1180514ca": {
      "model_module": "@jupyter-widgets/controls",
      "model_module_version": "1.5.0",
      "model_name": "HBoxModel",
      "state": {
       "_dom_classes": [],
       "_model_module": "@jupyter-widgets/controls",
       "_model_module_version": "1.5.0",
       "_model_name": "HBoxModel",
       "_view_count": null,
       "_view_module": "@jupyter-widgets/controls",
       "_view_module_version": "1.5.0",
       "_view_name": "HBoxView",
       "box_style": "",
       "children": [
        "IPY_MODEL_e251e584556c4f9eaec3684d23c615d9",
        "IPY_MODEL_5231d831e81c4ca8ae91768c19f2c0c0",
        "IPY_MODEL_70cdb9e72a374976a0a967116b2eb81a"
       ],
       "layout": "IPY_MODEL_1479dc3f10a2429da7dac710b0e527cf"
      }
     },
     "0f938733a204485d957627e7bbd8e4c1": {
      "model_module": "@jupyter-widgets/controls",
      "model_module_version": "1.5.0",
      "model_name": "HTMLModel",
      "state": {
       "_dom_classes": [],
       "_model_module": "@jupyter-widgets/controls",
       "_model_module_version": "1.5.0",
       "_model_name": "HTMLModel",
       "_view_count": null,
       "_view_module": "@jupyter-widgets/controls",
       "_view_module_version": "1.5.0",
       "_view_name": "HTMLView",
       "description": "",
       "description_tooltip": null,
       "layout": "IPY_MODEL_c334b9f1d1b04877aa2d9646e2d8ae62",
       "placeholder": "​",
       "style": "IPY_MODEL_2b6ab760682248319ea804c7b0fd74b2",
       "value": "Downloading (…)cial_tokens_map.json: 100%"
      }
     },
     "13c7a1aeb3754975b7995839fc7af1f3": {
      "model_module": "@jupyter-widgets/base",
      "model_module_version": "1.2.0",
      "model_name": "LayoutModel",
      "state": {
       "_model_module": "@jupyter-widgets/base",
       "_model_module_version": "1.2.0",
       "_model_name": "LayoutModel",
       "_view_count": null,
       "_view_module": "@jupyter-widgets/base",
       "_view_module_version": "1.2.0",
       "_view_name": "LayoutView",
       "align_content": null,
       "align_items": null,
       "align_self": null,
       "border": null,
       "bottom": null,
       "display": null,
       "flex": null,
       "flex_flow": null,
       "grid_area": null,
       "grid_auto_columns": null,
       "grid_auto_flow": null,
       "grid_auto_rows": null,
       "grid_column": null,
       "grid_gap": null,
       "grid_row": null,
       "grid_template_areas": null,
       "grid_template_columns": null,
       "grid_template_rows": null,
       "height": null,
       "justify_content": null,
       "justify_items": null,
       "left": null,
       "margin": null,
       "max_height": null,
       "max_width": null,
       "min_height": null,
       "min_width": null,
       "object_fit": null,
       "object_position": null,
       "order": null,
       "overflow": null,
       "overflow_x": null,
       "overflow_y": null,
       "padding": null,
       "right": null,
       "top": null,
       "visibility": null,
       "width": null
      }
     },
     "1479dc3f10a2429da7dac710b0e527cf": {
      "model_module": "@jupyter-widgets/base",
      "model_module_version": "1.2.0",
      "model_name": "LayoutModel",
      "state": {
       "_model_module": "@jupyter-widgets/base",
       "_model_module_version": "1.2.0",
       "_model_name": "LayoutModel",
       "_view_count": null,
       "_view_module": "@jupyter-widgets/base",
       "_view_module_version": "1.2.0",
       "_view_name": "LayoutView",
       "align_content": null,
       "align_items": null,
       "align_self": null,
       "border": null,
       "bottom": null,
       "display": null,
       "flex": null,
       "flex_flow": null,
       "grid_area": null,
       "grid_auto_columns": null,
       "grid_auto_flow": null,
       "grid_auto_rows": null,
       "grid_column": null,
       "grid_gap": null,
       "grid_row": null,
       "grid_template_areas": null,
       "grid_template_columns": null,
       "grid_template_rows": null,
       "height": null,
       "justify_content": null,
       "justify_items": null,
       "left": null,
       "margin": null,
       "max_height": null,
       "max_width": null,
       "min_height": null,
       "min_width": null,
       "object_fit": null,
       "object_position": null,
       "order": null,
       "overflow": null,
       "overflow_x": null,
       "overflow_y": null,
       "padding": null,
       "right": null,
       "top": null,
       "visibility": null,
       "width": null
      }
     },
     "15223b1be42d4a3aad56543b01f084a6": {
      "model_module": "@jupyter-widgets/base",
      "model_module_version": "1.2.0",
      "model_name": "LayoutModel",
      "state": {
       "_model_module": "@jupyter-widgets/base",
       "_model_module_version": "1.2.0",
       "_model_name": "LayoutModel",
       "_view_count": null,
       "_view_module": "@jupyter-widgets/base",
       "_view_module_version": "1.2.0",
       "_view_name": "LayoutView",
       "align_content": null,
       "align_items": null,
       "align_self": null,
       "border": null,
       "bottom": null,
       "display": null,
       "flex": null,
       "flex_flow": null,
       "grid_area": null,
       "grid_auto_columns": null,
       "grid_auto_flow": null,
       "grid_auto_rows": null,
       "grid_column": null,
       "grid_gap": null,
       "grid_row": null,
       "grid_template_areas": null,
       "grid_template_columns": null,
       "grid_template_rows": null,
       "height": null,
       "justify_content": null,
       "justify_items": null,
       "left": null,
       "margin": null,
       "max_height": null,
       "max_width": null,
       "min_height": null,
       "min_width": null,
       "object_fit": null,
       "object_position": null,
       "order": null,
       "overflow": null,
       "overflow_x": null,
       "overflow_y": null,
       "padding": null,
       "right": null,
       "top": null,
       "visibility": null,
       "width": null
      }
     },
     "1675c057e54b48289208a0c7cc3919be": {
      "model_module": "@jupyter-widgets/controls",
      "model_module_version": "1.5.0",
      "model_name": "ProgressStyleModel",
      "state": {
       "_model_module": "@jupyter-widgets/controls",
       "_model_module_version": "1.5.0",
       "_model_name": "ProgressStyleModel",
       "_view_count": null,
       "_view_module": "@jupyter-widgets/base",
       "_view_module_version": "1.2.0",
       "_view_name": "StyleView",
       "bar_color": null,
       "description_width": ""
      }
     },
     "16af5d233c7d42fcbf2c74592e8a4c17": {
      "model_module": "@jupyter-widgets/controls",
      "model_module_version": "1.5.0",
      "model_name": "HBoxModel",
      "state": {
       "_dom_classes": [],
       "_model_module": "@jupyter-widgets/controls",
       "_model_module_version": "1.5.0",
       "_model_name": "HBoxModel",
       "_view_count": null,
       "_view_module": "@jupyter-widgets/controls",
       "_view_module_version": "1.5.0",
       "_view_name": "HBoxView",
       "box_style": "",
       "children": [
        "IPY_MODEL_03942a1478ec4ef5bed8d2ca9bea44b3",
        "IPY_MODEL_c65883907ec44c849cb1a9e9afd62b25",
        "IPY_MODEL_8b83323136b144b7a4fc51cae5a93de6"
       ],
       "layout": "IPY_MODEL_cd3964bbb83949d2b06674d06906312d"
      }
     },
     "18e7d93461644b849f7172cc1e6d8d48": {
      "model_module": "@jupyter-widgets/controls",
      "model_module_version": "1.5.0",
      "model_name": "HTMLModel",
      "state": {
       "_dom_classes": [],
       "_model_module": "@jupyter-widgets/controls",
       "_model_module_version": "1.5.0",
       "_model_name": "HTMLModel",
       "_view_count": null,
       "_view_module": "@jupyter-widgets/controls",
       "_view_module_version": "1.5.0",
       "_view_name": "HTMLView",
       "description": "",
       "description_tooltip": null,
       "layout": "IPY_MODEL_5efcb9199c2047df8ee8fe70fc95d263",
       "placeholder": "​",
       "style": "IPY_MODEL_382f60a106d746f4a12fd1b0e577e395",
       "value": " 112/112 [00:00&lt;00:00, 9.73kB/s]"
      }
     },
     "1d51d0a3e85e4d69b8f205b46a232ea3": {
      "model_module": "@jupyter-widgets/base",
      "model_module_version": "1.2.0",
      "model_name": "LayoutModel",
      "state": {
       "_model_module": "@jupyter-widgets/base",
       "_model_module_version": "1.2.0",
       "_model_name": "LayoutModel",
       "_view_count": null,
       "_view_module": "@jupyter-widgets/base",
       "_view_module_version": "1.2.0",
       "_view_name": "LayoutView",
       "align_content": null,
       "align_items": null,
       "align_self": null,
       "border": null,
       "bottom": null,
       "display": null,
       "flex": null,
       "flex_flow": null,
       "grid_area": null,
       "grid_auto_columns": null,
       "grid_auto_flow": null,
       "grid_auto_rows": null,
       "grid_column": null,
       "grid_gap": null,
       "grid_row": null,
       "grid_template_areas": null,
       "grid_template_columns": null,
       "grid_template_rows": null,
       "height": null,
       "justify_content": null,
       "justify_items": null,
       "left": null,
       "margin": null,
       "max_height": null,
       "max_width": null,
       "min_height": null,
       "min_width": null,
       "object_fit": null,
       "object_position": null,
       "order": null,
       "overflow": null,
       "overflow_x": null,
       "overflow_y": null,
       "padding": null,
       "right": null,
       "top": null,
       "visibility": null,
       "width": null
      }
     },
     "1f57a8dcd8ac4018869cfc84c223d46f": {
      "model_module": "@jupyter-widgets/base",
      "model_module_version": "1.2.0",
      "model_name": "LayoutModel",
      "state": {
       "_model_module": "@jupyter-widgets/base",
       "_model_module_version": "1.2.0",
       "_model_name": "LayoutModel",
       "_view_count": null,
       "_view_module": "@jupyter-widgets/base",
       "_view_module_version": "1.2.0",
       "_view_name": "LayoutView",
       "align_content": null,
       "align_items": null,
       "align_self": null,
       "border": null,
       "bottom": null,
       "display": null,
       "flex": null,
       "flex_flow": null,
       "grid_area": null,
       "grid_auto_columns": null,
       "grid_auto_flow": null,
       "grid_auto_rows": null,
       "grid_column": null,
       "grid_gap": null,
       "grid_row": null,
       "grid_template_areas": null,
       "grid_template_columns": null,
       "grid_template_rows": null,
       "height": null,
       "justify_content": null,
       "justify_items": null,
       "left": null,
       "margin": null,
       "max_height": null,
       "max_width": null,
       "min_height": null,
       "min_width": null,
       "object_fit": null,
       "object_position": null,
       "order": null,
       "overflow": null,
       "overflow_x": null,
       "overflow_y": null,
       "padding": null,
       "right": null,
       "top": null,
       "visibility": null,
       "width": null
      }
     },
     "27e35b8e19b449b088b144ba32ec7cdd": {
      "model_module": "@jupyter-widgets/base",
      "model_module_version": "1.2.0",
      "model_name": "LayoutModel",
      "state": {
       "_model_module": "@jupyter-widgets/base",
       "_model_module_version": "1.2.0",
       "_model_name": "LayoutModel",
       "_view_count": null,
       "_view_module": "@jupyter-widgets/base",
       "_view_module_version": "1.2.0",
       "_view_name": "LayoutView",
       "align_content": null,
       "align_items": null,
       "align_self": null,
       "border": null,
       "bottom": null,
       "display": null,
       "flex": null,
       "flex_flow": null,
       "grid_area": null,
       "grid_auto_columns": null,
       "grid_auto_flow": null,
       "grid_auto_rows": null,
       "grid_column": null,
       "grid_gap": null,
       "grid_row": null,
       "grid_template_areas": null,
       "grid_template_columns": null,
       "grid_template_rows": null,
       "height": null,
       "justify_content": null,
       "justify_items": null,
       "left": null,
       "margin": null,
       "max_height": null,
       "max_width": null,
       "min_height": null,
       "min_width": null,
       "object_fit": null,
       "object_position": null,
       "order": null,
       "overflow": null,
       "overflow_x": null,
       "overflow_y": null,
       "padding": null,
       "right": null,
       "top": null,
       "visibility": null,
       "width": null
      }
     },
     "2b5ae25450d448eb87eff6c0ad5eb289": {
      "model_module": "@jupyter-widgets/base",
      "model_module_version": "1.2.0",
      "model_name": "LayoutModel",
      "state": {
       "_model_module": "@jupyter-widgets/base",
       "_model_module_version": "1.2.0",
       "_model_name": "LayoutModel",
       "_view_count": null,
       "_view_module": "@jupyter-widgets/base",
       "_view_module_version": "1.2.0",
       "_view_name": "LayoutView",
       "align_content": null,
       "align_items": null,
       "align_self": null,
       "border": null,
       "bottom": null,
       "display": null,
       "flex": null,
       "flex_flow": null,
       "grid_area": null,
       "grid_auto_columns": null,
       "grid_auto_flow": null,
       "grid_auto_rows": null,
       "grid_column": null,
       "grid_gap": null,
       "grid_row": null,
       "grid_template_areas": null,
       "grid_template_columns": null,
       "grid_template_rows": null,
       "height": null,
       "justify_content": null,
       "justify_items": null,
       "left": null,
       "margin": null,
       "max_height": null,
       "max_width": null,
       "min_height": null,
       "min_width": null,
       "object_fit": null,
       "object_position": null,
       "order": null,
       "overflow": null,
       "overflow_x": null,
       "overflow_y": null,
       "padding": null,
       "right": null,
       "top": null,
       "visibility": null,
       "width": null
      }
     },
     "2b6ab760682248319ea804c7b0fd74b2": {
      "model_module": "@jupyter-widgets/controls",
      "model_module_version": "1.5.0",
      "model_name": "DescriptionStyleModel",
      "state": {
       "_model_module": "@jupyter-widgets/controls",
       "_model_module_version": "1.5.0",
       "_model_name": "DescriptionStyleModel",
       "_view_count": null,
       "_view_module": "@jupyter-widgets/base",
       "_view_module_version": "1.2.0",
       "_view_name": "StyleView",
       "description_width": ""
      }
     },
     "2d34e68f5b1a4753a53bd85a65d3ee8a": {
      "model_module": "@jupyter-widgets/controls",
      "model_module_version": "1.5.0",
      "model_name": "ProgressStyleModel",
      "state": {
       "_model_module": "@jupyter-widgets/controls",
       "_model_module_version": "1.5.0",
       "_model_name": "ProgressStyleModel",
       "_view_count": null,
       "_view_module": "@jupyter-widgets/base",
       "_view_module_version": "1.2.0",
       "_view_name": "StyleView",
       "bar_color": null,
       "description_width": ""
      }
     },
     "2f78646b6f684f34bbe54e2a38843831": {
      "model_module": "@jupyter-widgets/base",
      "model_module_version": "1.2.0",
      "model_name": "LayoutModel",
      "state": {
       "_model_module": "@jupyter-widgets/base",
       "_model_module_version": "1.2.0",
       "_model_name": "LayoutModel",
       "_view_count": null,
       "_view_module": "@jupyter-widgets/base",
       "_view_module_version": "1.2.0",
       "_view_name": "LayoutView",
       "align_content": null,
       "align_items": null,
       "align_self": null,
       "border": null,
       "bottom": null,
       "display": null,
       "flex": null,
       "flex_flow": null,
       "grid_area": null,
       "grid_auto_columns": null,
       "grid_auto_flow": null,
       "grid_auto_rows": null,
       "grid_column": null,
       "grid_gap": null,
       "grid_row": null,
       "grid_template_areas": null,
       "grid_template_columns": null,
       "grid_template_rows": null,
       "height": null,
       "justify_content": null,
       "justify_items": null,
       "left": null,
       "margin": null,
       "max_height": null,
       "max_width": null,
       "min_height": null,
       "min_width": null,
       "object_fit": null,
       "object_position": null,
       "order": null,
       "overflow": null,
       "overflow_x": null,
       "overflow_y": null,
       "padding": null,
       "right": null,
       "top": null,
       "visibility": null,
       "width": null
      }
     },
     "324f6b9a3dbb488191285b15ea8bbbd7": {
      "model_module": "@jupyter-widgets/controls",
      "model_module_version": "1.5.0",
      "model_name": "DescriptionStyleModel",
      "state": {
       "_model_module": "@jupyter-widgets/controls",
       "_model_module_version": "1.5.0",
       "_model_name": "DescriptionStyleModel",
       "_view_count": null,
       "_view_module": "@jupyter-widgets/base",
       "_view_module_version": "1.2.0",
       "_view_name": "StyleView",
       "description_width": ""
      }
     },
     "382f60a106d746f4a12fd1b0e577e395": {
      "model_module": "@jupyter-widgets/controls",
      "model_module_version": "1.5.0",
      "model_name": "DescriptionStyleModel",
      "state": {
       "_model_module": "@jupyter-widgets/controls",
       "_model_module_version": "1.5.0",
       "_model_name": "DescriptionStyleModel",
       "_view_count": null,
       "_view_module": "@jupyter-widgets/base",
       "_view_module_version": "1.2.0",
       "_view_name": "StyleView",
       "description_width": ""
      }
     },
     "40308ffcab9040ee857d6de3fddab9f6": {
      "model_module": "@jupyter-widgets/controls",
      "model_module_version": "1.5.0",
      "model_name": "HBoxModel",
      "state": {
       "_dom_classes": [],
       "_model_module": "@jupyter-widgets/controls",
       "_model_module_version": "1.5.0",
       "_model_name": "HBoxModel",
       "_view_count": null,
       "_view_module": "@jupyter-widgets/controls",
       "_view_module_version": "1.5.0",
       "_view_name": "HBoxView",
       "box_style": "",
       "children": [
        "IPY_MODEL_536b64f7637c4f7b9785e216217482cd",
        "IPY_MODEL_91f12be6e9444e379e2d60fd0f82f141",
        "IPY_MODEL_7412df8e69f9400b959b322b26fd3eff"
       ],
       "layout": "IPY_MODEL_f9128c1577ec43288b79cde8d8ad3997"
      }
     },
     "472a5a684feb42e6bbba9cb238c04829": {
      "model_module": "@jupyter-widgets/controls",
      "model_module_version": "1.5.0",
      "model_name": "DescriptionStyleModel",
      "state": {
       "_model_module": "@jupyter-widgets/controls",
       "_model_module_version": "1.5.0",
       "_model_name": "DescriptionStyleModel",
       "_view_count": null,
       "_view_module": "@jupyter-widgets/base",
       "_view_module_version": "1.2.0",
       "_view_name": "StyleView",
       "description_width": ""
      }
     },
     "518df0e6b9ce485ca1a18a29481210a7": {
      "model_module": "@jupyter-widgets/controls",
      "model_module_version": "1.5.0",
      "model_name": "ProgressStyleModel",
      "state": {
       "_model_module": "@jupyter-widgets/controls",
       "_model_module_version": "1.5.0",
       "_model_name": "ProgressStyleModel",
       "_view_count": null,
       "_view_module": "@jupyter-widgets/base",
       "_view_module_version": "1.2.0",
       "_view_name": "StyleView",
       "bar_color": null,
       "description_width": ""
      }
     },
     "51a2f19790394ca6ad5d03110c34e7e2": {
      "model_module": "@jupyter-widgets/base",
      "model_module_version": "1.2.0",
      "model_name": "LayoutModel",
      "state": {
       "_model_module": "@jupyter-widgets/base",
       "_model_module_version": "1.2.0",
       "_model_name": "LayoutModel",
       "_view_count": null,
       "_view_module": "@jupyter-widgets/base",
       "_view_module_version": "1.2.0",
       "_view_name": "LayoutView",
       "align_content": null,
       "align_items": null,
       "align_self": null,
       "border": null,
       "bottom": null,
       "display": null,
       "flex": null,
       "flex_flow": null,
       "grid_area": null,
       "grid_auto_columns": null,
       "grid_auto_flow": null,
       "grid_auto_rows": null,
       "grid_column": null,
       "grid_gap": null,
       "grid_row": null,
       "grid_template_areas": null,
       "grid_template_columns": null,
       "grid_template_rows": null,
       "height": null,
       "justify_content": null,
       "justify_items": null,
       "left": null,
       "margin": null,
       "max_height": null,
       "max_width": null,
       "min_height": null,
       "min_width": null,
       "object_fit": null,
       "object_position": null,
       "order": null,
       "overflow": null,
       "overflow_x": null,
       "overflow_y": null,
       "padding": null,
       "right": null,
       "top": null,
       "visibility": null,
       "width": null
      }
     },
     "5231d831e81c4ca8ae91768c19f2c0c0": {
      "model_module": "@jupyter-widgets/controls",
      "model_module_version": "1.5.0",
      "model_name": "FloatProgressModel",
      "state": {
       "_dom_classes": [],
       "_model_module": "@jupyter-widgets/controls",
       "_model_module_version": "1.5.0",
       "_model_name": "FloatProgressModel",
       "_view_count": null,
       "_view_module": "@jupyter-widgets/controls",
       "_view_module_version": "1.5.0",
       "_view_name": "ProgressView",
       "bar_style": "success",
       "description": "",
       "description_tooltip": null,
       "layout": "IPY_MODEL_732f37bbf8a3486ca281cda2af860b5f",
       "max": 24,
       "min": 0,
       "orientation": "horizontal",
       "style": "IPY_MODEL_c59b06d4c0ef421a8dd5826e587f312d",
       "value": 24
      }
     },
     "536b64f7637c4f7b9785e216217482cd": {
      "model_module": "@jupyter-widgets/controls",
      "model_module_version": "1.5.0",
      "model_name": "HTMLModel",
      "state": {
       "_dom_classes": [],
       "_model_module": "@jupyter-widgets/controls",
       "_model_module_version": "1.5.0",
       "_model_name": "HTMLModel",
       "_view_count": null,
       "_view_module": "@jupyter-widgets/controls",
       "_view_module_version": "1.5.0",
       "_view_name": "HTMLView",
       "description": "",
       "description_tooltip": null,
       "layout": "IPY_MODEL_969dbb30c15448bfaf975c9e3205e3a0",
       "placeholder": "​",
       "style": "IPY_MODEL_03cc5293759a4413be7d986b59862e71",
       "value": "Downloading config.json: 100%"
      }
     },
     "5efcb9199c2047df8ee8fe70fc95d263": {
      "model_module": "@jupyter-widgets/base",
      "model_module_version": "1.2.0",
      "model_name": "LayoutModel",
      "state": {
       "_model_module": "@jupyter-widgets/base",
       "_model_module_version": "1.2.0",
       "_model_name": "LayoutModel",
       "_view_count": null,
       "_view_module": "@jupyter-widgets/base",
       "_view_module_version": "1.2.0",
       "_view_name": "LayoutView",
       "align_content": null,
       "align_items": null,
       "align_self": null,
       "border": null,
       "bottom": null,
       "display": null,
       "flex": null,
       "flex_flow": null,
       "grid_area": null,
       "grid_auto_columns": null,
       "grid_auto_flow": null,
       "grid_auto_rows": null,
       "grid_column": null,
       "grid_gap": null,
       "grid_row": null,
       "grid_template_areas": null,
       "grid_template_columns": null,
       "grid_template_rows": null,
       "height": null,
       "justify_content": null,
       "justify_items": null,
       "left": null,
       "margin": null,
       "max_height": null,
       "max_width": null,
       "min_height": null,
       "min_width": null,
       "object_fit": null,
       "object_position": null,
       "order": null,
       "overflow": null,
       "overflow_x": null,
       "overflow_y": null,
       "padding": null,
       "right": null,
       "top": null,
       "visibility": null,
       "width": null
      }
     },
     "60783fbeaaae4444b1e63c54538e6202": {
      "model_module": "@jupyter-widgets/controls",
      "model_module_version": "1.5.0",
      "model_name": "DescriptionStyleModel",
      "state": {
       "_model_module": "@jupyter-widgets/controls",
       "_model_module_version": "1.5.0",
       "_model_name": "DescriptionStyleModel",
       "_view_count": null,
       "_view_module": "@jupyter-widgets/base",
       "_view_module_version": "1.2.0",
       "_view_name": "StyleView",
       "description_width": ""
      }
     },
     "6a5c289f7c844894bc4072802d79e014": {
      "model_module": "@jupyter-widgets/base",
      "model_module_version": "1.2.0",
      "model_name": "LayoutModel",
      "state": {
       "_model_module": "@jupyter-widgets/base",
       "_model_module_version": "1.2.0",
       "_model_name": "LayoutModel",
       "_view_count": null,
       "_view_module": "@jupyter-widgets/base",
       "_view_module_version": "1.2.0",
       "_view_name": "LayoutView",
       "align_content": null,
       "align_items": null,
       "align_self": null,
       "border": null,
       "bottom": null,
       "display": null,
       "flex": null,
       "flex_flow": null,
       "grid_area": null,
       "grid_auto_columns": null,
       "grid_auto_flow": null,
       "grid_auto_rows": null,
       "grid_column": null,
       "grid_gap": null,
       "grid_row": null,
       "grid_template_areas": null,
       "grid_template_columns": null,
       "grid_template_rows": null,
       "height": null,
       "justify_content": null,
       "justify_items": null,
       "left": null,
       "margin": null,
       "max_height": null,
       "max_width": null,
       "min_height": null,
       "min_width": null,
       "object_fit": null,
       "object_position": null,
       "order": null,
       "overflow": null,
       "overflow_x": null,
       "overflow_y": null,
       "padding": null,
       "right": null,
       "top": null,
       "visibility": null,
       "width": null
      }
     },
     "70cdb9e72a374976a0a967116b2eb81a": {
      "model_module": "@jupyter-widgets/controls",
      "model_module_version": "1.5.0",
      "model_name": "HTMLModel",
      "state": {
       "_dom_classes": [],
       "_model_module": "@jupyter-widgets/controls",
       "_model_module_version": "1.5.0",
       "_model_name": "HTMLModel",
       "_view_count": null,
       "_view_module": "@jupyter-widgets/controls",
       "_view_module_version": "1.5.0",
       "_view_name": "HTMLView",
       "description": "",
       "description_tooltip": null,
       "layout": "IPY_MODEL_15223b1be42d4a3aad56543b01f084a6",
       "placeholder": "​",
       "style": "IPY_MODEL_057c0c242d964a469ba5f02141b0c3fb",
       "value": " 24.0/24.0 [00:00&lt;00:00, 1.90kB/s]"
      }
     },
     "732f37bbf8a3486ca281cda2af860b5f": {
      "model_module": "@jupyter-widgets/base",
      "model_module_version": "1.2.0",
      "model_name": "LayoutModel",
      "state": {
       "_model_module": "@jupyter-widgets/base",
       "_model_module_version": "1.2.0",
       "_model_name": "LayoutModel",
       "_view_count": null,
       "_view_module": "@jupyter-widgets/base",
       "_view_module_version": "1.2.0",
       "_view_name": "LayoutView",
       "align_content": null,
       "align_items": null,
       "align_self": null,
       "border": null,
       "bottom": null,
       "display": null,
       "flex": null,
       "flex_flow": null,
       "grid_area": null,
       "grid_auto_columns": null,
       "grid_auto_flow": null,
       "grid_auto_rows": null,
       "grid_column": null,
       "grid_gap": null,
       "grid_row": null,
       "grid_template_areas": null,
       "grid_template_columns": null,
       "grid_template_rows": null,
       "height": null,
       "justify_content": null,
       "justify_items": null,
       "left": null,
       "margin": null,
       "max_height": null,
       "max_width": null,
       "min_height": null,
       "min_width": null,
       "object_fit": null,
       "object_position": null,
       "order": null,
       "overflow": null,
       "overflow_x": null,
       "overflow_y": null,
       "padding": null,
       "right": null,
       "top": null,
       "visibility": null,
       "width": null
      }
     },
     "7412df8e69f9400b959b322b26fd3eff": {
      "model_module": "@jupyter-widgets/controls",
      "model_module_version": "1.5.0",
      "model_name": "HTMLModel",
      "state": {
       "_dom_classes": [],
       "_model_module": "@jupyter-widgets/controls",
       "_model_module_version": "1.5.0",
       "_model_name": "HTMLModel",
       "_view_count": null,
       "_view_module": "@jupyter-widgets/controls",
       "_view_module_version": "1.5.0",
       "_view_name": "HTMLView",
       "description": "",
       "description_tooltip": null,
       "layout": "IPY_MODEL_51a2f19790394ca6ad5d03110c34e7e2",
       "placeholder": "​",
       "style": "IPY_MODEL_99efb7f1937d41aa9e29879f667f2121",
       "value": " 642/642 [00:00&lt;00:00, 52.4kB/s]"
      }
     },
     "7e3ef530f3f64bce8a02bab4cad5dc1a": {
      "model_module": "@jupyter-widgets/controls",
      "model_module_version": "1.5.0",
      "model_name": "FloatProgressModel",
      "state": {
       "_dom_classes": [],
       "_model_module": "@jupyter-widgets/controls",
       "_model_module_version": "1.5.0",
       "_model_name": "FloatProgressModel",
       "_view_count": null,
       "_view_module": "@jupyter-widgets/controls",
       "_view_module_version": "1.5.0",
       "_view_name": "ProgressView",
       "bar_style": "success",
       "description": "",
       "description_tooltip": null,
       "layout": "IPY_MODEL_2f78646b6f684f34bbe54e2a38843831",
       "max": 1649718,
       "min": 0,
       "orientation": "horizontal",
       "style": "IPY_MODEL_518df0e6b9ce485ca1a18a29481210a7",
       "value": 1649718
      }
     },
     "7fd33b1bbe7e45e09726bb1f366e2f21": {
      "model_module": "@jupyter-widgets/controls",
      "model_module_version": "1.5.0",
      "model_name": "HBoxModel",
      "state": {
       "_dom_classes": [],
       "_model_module": "@jupyter-widgets/controls",
       "_model_module_version": "1.5.0",
       "_model_name": "HBoxModel",
       "_view_count": null,
       "_view_module": "@jupyter-widgets/controls",
       "_view_module_version": "1.5.0",
       "_view_name": "HBoxView",
       "box_style": "",
       "children": [
        "IPY_MODEL_0f938733a204485d957627e7bbd8e4c1",
        "IPY_MODEL_ebc6e44ef6a0446a8e15dfa4325da774",
        "IPY_MODEL_18e7d93461644b849f7172cc1e6d8d48"
       ],
       "layout": "IPY_MODEL_82314fb19acb4cafb5c43f3f6ca5237b"
      }
     },
     "82314fb19acb4cafb5c43f3f6ca5237b": {
      "model_module": "@jupyter-widgets/base",
      "model_module_version": "1.2.0",
      "model_name": "LayoutModel",
      "state": {
       "_model_module": "@jupyter-widgets/base",
       "_model_module_version": "1.2.0",
       "_model_name": "LayoutModel",
       "_view_count": null,
       "_view_module": "@jupyter-widgets/base",
       "_view_module_version": "1.2.0",
       "_view_name": "LayoutView",
       "align_content": null,
       "align_items": null,
       "align_self": null,
       "border": null,
       "bottom": null,
       "display": null,
       "flex": null,
       "flex_flow": null,
       "grid_area": null,
       "grid_auto_columns": null,
       "grid_auto_flow": null,
       "grid_auto_rows": null,
       "grid_column": null,
       "grid_gap": null,
       "grid_row": null,
       "grid_template_areas": null,
       "grid_template_columns": null,
       "grid_template_rows": null,
       "height": null,
       "justify_content": null,
       "justify_items": null,
       "left": null,
       "margin": null,
       "max_height": null,
       "max_width": null,
       "min_height": null,
       "min_width": null,
       "object_fit": null,
       "object_position": null,
       "order": null,
       "overflow": null,
       "overflow_x": null,
       "overflow_y": null,
       "padding": null,
       "right": null,
       "top": null,
       "visibility": null,
       "width": null
      }
     },
     "8b83323136b144b7a4fc51cae5a93de6": {
      "model_module": "@jupyter-widgets/controls",
      "model_module_version": "1.5.0",
      "model_name": "HTMLModel",
      "state": {
       "_dom_classes": [],
       "_model_module": "@jupyter-widgets/controls",
       "_model_module_version": "1.5.0",
       "_model_name": "HTMLModel",
       "_view_count": null,
       "_view_module": "@jupyter-widgets/controls",
       "_view_module_version": "1.5.0",
       "_view_name": "HTMLView",
       "description": "",
       "description_tooltip": null,
       "layout": "IPY_MODEL_13c7a1aeb3754975b7995839fc7af1f3",
       "placeholder": "​",
       "style": "IPY_MODEL_472a5a684feb42e6bbba9cb238c04829",
       "value": " 714M/714M [00:03&lt;00:00, 223MB/s]"
      }
     },
     "91c387e31227430aa65f74bcb4cc1b46": {
      "model_module": "@jupyter-widgets/controls",
      "model_module_version": "1.5.0",
      "model_name": "DescriptionStyleModel",
      "state": {
       "_model_module": "@jupyter-widgets/controls",
       "_model_module_version": "1.5.0",
       "_model_name": "DescriptionStyleModel",
       "_view_count": null,
       "_view_module": "@jupyter-widgets/base",
       "_view_module_version": "1.2.0",
       "_view_name": "StyleView",
       "description_width": ""
      }
     },
     "91f12be6e9444e379e2d60fd0f82f141": {
      "model_module": "@jupyter-widgets/controls",
      "model_module_version": "1.5.0",
      "model_name": "FloatProgressModel",
      "state": {
       "_dom_classes": [],
       "_model_module": "@jupyter-widgets/controls",
       "_model_module_version": "1.5.0",
       "_model_name": "FloatProgressModel",
       "_view_count": null,
       "_view_module": "@jupyter-widgets/controls",
       "_view_module_version": "1.5.0",
       "_view_name": "ProgressView",
       "bar_style": "success",
       "description": "",
       "description_tooltip": null,
       "layout": "IPY_MODEL_6a5c289f7c844894bc4072802d79e014",
       "max": 642,
       "min": 0,
       "orientation": "horizontal",
       "style": "IPY_MODEL_2d34e68f5b1a4753a53bd85a65d3ee8a",
       "value": 642
      }
     },
     "95be312cb5d4495fb3aa1b681ee92fc2": {
      "model_module": "@jupyter-widgets/base",
      "model_module_version": "1.2.0",
      "model_name": "LayoutModel",
      "state": {
       "_model_module": "@jupyter-widgets/base",
       "_model_module_version": "1.2.0",
       "_model_name": "LayoutModel",
       "_view_count": null,
       "_view_module": "@jupyter-widgets/base",
       "_view_module_version": "1.2.0",
       "_view_name": "LayoutView",
       "align_content": null,
       "align_items": null,
       "align_self": null,
       "border": null,
       "bottom": null,
       "display": null,
       "flex": null,
       "flex_flow": null,
       "grid_area": null,
       "grid_auto_columns": null,
       "grid_auto_flow": null,
       "grid_auto_rows": null,
       "grid_column": null,
       "grid_gap": null,
       "grid_row": null,
       "grid_template_areas": null,
       "grid_template_columns": null,
       "grid_template_rows": null,
       "height": null,
       "justify_content": null,
       "justify_items": null,
       "left": null,
       "margin": null,
       "max_height": null,
       "max_width": null,
       "min_height": null,
       "min_width": null,
       "object_fit": null,
       "object_position": null,
       "order": null,
       "overflow": null,
       "overflow_x": null,
       "overflow_y": null,
       "padding": null,
       "right": null,
       "top": null,
       "visibility": null,
       "width": null
      }
     },
     "969dbb30c15448bfaf975c9e3205e3a0": {
      "model_module": "@jupyter-widgets/base",
      "model_module_version": "1.2.0",
      "model_name": "LayoutModel",
      "state": {
       "_model_module": "@jupyter-widgets/base",
       "_model_module_version": "1.2.0",
       "_model_name": "LayoutModel",
       "_view_count": null,
       "_view_module": "@jupyter-widgets/base",
       "_view_module_version": "1.2.0",
       "_view_name": "LayoutView",
       "align_content": null,
       "align_items": null,
       "align_self": null,
       "border": null,
       "bottom": null,
       "display": null,
       "flex": null,
       "flex_flow": null,
       "grid_area": null,
       "grid_auto_columns": null,
       "grid_auto_flow": null,
       "grid_auto_rows": null,
       "grid_column": null,
       "grid_gap": null,
       "grid_row": null,
       "grid_template_areas": null,
       "grid_template_columns": null,
       "grid_template_rows": null,
       "height": null,
       "justify_content": null,
       "justify_items": null,
       "left": null,
       "margin": null,
       "max_height": null,
       "max_width": null,
       "min_height": null,
       "min_width": null,
       "object_fit": null,
       "object_position": null,
       "order": null,
       "overflow": null,
       "overflow_x": null,
       "overflow_y": null,
       "padding": null,
       "right": null,
       "top": null,
       "visibility": null,
       "width": null
      }
     },
     "99efb7f1937d41aa9e29879f667f2121": {
      "model_module": "@jupyter-widgets/controls",
      "model_module_version": "1.5.0",
      "model_name": "DescriptionStyleModel",
      "state": {
       "_model_module": "@jupyter-widgets/controls",
       "_model_module_version": "1.5.0",
       "_model_name": "DescriptionStyleModel",
       "_view_count": null,
       "_view_module": "@jupyter-widgets/base",
       "_view_module_version": "1.2.0",
       "_view_name": "StyleView",
       "description_width": ""
      }
     },
     "a3fc4bb7c57f4e64a5f44b14e2bd9fdf": {
      "model_module": "@jupyter-widgets/base",
      "model_module_version": "1.2.0",
      "model_name": "LayoutModel",
      "state": {
       "_model_module": "@jupyter-widgets/base",
       "_model_module_version": "1.2.0",
       "_model_name": "LayoutModel",
       "_view_count": null,
       "_view_module": "@jupyter-widgets/base",
       "_view_module_version": "1.2.0",
       "_view_name": "LayoutView",
       "align_content": null,
       "align_items": null,
       "align_self": null,
       "border": null,
       "bottom": null,
       "display": null,
       "flex": null,
       "flex_flow": null,
       "grid_area": null,
       "grid_auto_columns": null,
       "grid_auto_flow": null,
       "grid_auto_rows": null,
       "grid_column": null,
       "grid_gap": null,
       "grid_row": null,
       "grid_template_areas": null,
       "grid_template_columns": null,
       "grid_template_rows": null,
       "height": null,
       "justify_content": null,
       "justify_items": null,
       "left": null,
       "margin": null,
       "max_height": null,
       "max_width": null,
       "min_height": null,
       "min_width": null,
       "object_fit": null,
       "object_position": null,
       "order": null,
       "overflow": null,
       "overflow_x": null,
       "overflow_y": null,
       "padding": null,
       "right": null,
       "top": null,
       "visibility": null,
       "width": null
      }
     },
     "b6fdfb1cd163454a93100928da5587e1": {
      "model_module": "@jupyter-widgets/controls",
      "model_module_version": "1.5.0",
      "model_name": "HTMLModel",
      "state": {
       "_dom_classes": [],
       "_model_module": "@jupyter-widgets/controls",
       "_model_module_version": "1.5.0",
       "_model_name": "HTMLModel",
       "_view_count": null,
       "_view_module": "@jupyter-widgets/controls",
       "_view_module_version": "1.5.0",
       "_view_name": "HTMLView",
       "description": "",
       "description_tooltip": null,
       "layout": "IPY_MODEL_a3fc4bb7c57f4e64a5f44b14e2bd9fdf",
       "placeholder": "​",
       "style": "IPY_MODEL_d44912cd19d7475ba93e1e84d26b8cf2",
       "value": " 1.65M/1.65M [00:00&lt;00:00, 16.2MB/s]"
      }
     },
     "c334b9f1d1b04877aa2d9646e2d8ae62": {
      "model_module": "@jupyter-widgets/base",
      "model_module_version": "1.2.0",
      "model_name": "LayoutModel",
      "state": {
       "_model_module": "@jupyter-widgets/base",
       "_model_module_version": "1.2.0",
       "_model_name": "LayoutModel",
       "_view_count": null,
       "_view_module": "@jupyter-widgets/base",
       "_view_module_version": "1.2.0",
       "_view_name": "LayoutView",
       "align_content": null,
       "align_items": null,
       "align_self": null,
       "border": null,
       "bottom": null,
       "display": null,
       "flex": null,
       "flex_flow": null,
       "grid_area": null,
       "grid_auto_columns": null,
       "grid_auto_flow": null,
       "grid_auto_rows": null,
       "grid_column": null,
       "grid_gap": null,
       "grid_row": null,
       "grid_template_areas": null,
       "grid_template_columns": null,
       "grid_template_rows": null,
       "height": null,
       "justify_content": null,
       "justify_items": null,
       "left": null,
       "margin": null,
       "max_height": null,
       "max_width": null,
       "min_height": null,
       "min_width": null,
       "object_fit": null,
       "object_position": null,
       "order": null,
       "overflow": null,
       "overflow_x": null,
       "overflow_y": null,
       "padding": null,
       "right": null,
       "top": null,
       "visibility": null,
       "width": null
      }
     },
     "c59b06d4c0ef421a8dd5826e587f312d": {
      "model_module": "@jupyter-widgets/controls",
      "model_module_version": "1.5.0",
      "model_name": "ProgressStyleModel",
      "state": {
       "_model_module": "@jupyter-widgets/controls",
       "_model_module_version": "1.5.0",
       "_model_name": "ProgressStyleModel",
       "_view_count": null,
       "_view_module": "@jupyter-widgets/base",
       "_view_module_version": "1.2.0",
       "_view_name": "StyleView",
       "bar_color": null,
       "description_width": ""
      }
     },
     "c65883907ec44c849cb1a9e9afd62b25": {
      "model_module": "@jupyter-widgets/controls",
      "model_module_version": "1.5.0",
      "model_name": "FloatProgressModel",
      "state": {
       "_dom_classes": [],
       "_model_module": "@jupyter-widgets/controls",
       "_model_module_version": "1.5.0",
       "_model_name": "FloatProgressModel",
       "_view_count": null,
       "_view_module": "@jupyter-widgets/controls",
       "_view_module_version": "1.5.0",
       "_view_name": "ProgressView",
       "bar_style": "success",
       "description": "",
       "description_tooltip": null,
       "layout": "IPY_MODEL_2b5ae25450d448eb87eff6c0ad5eb289",
       "max": 714355318,
       "min": 0,
       "orientation": "horizontal",
       "style": "IPY_MODEL_0366bb8be2a24798977610bed21b1147",
       "value": 714355318
      }
     },
     "cd3964bbb83949d2b06674d06906312d": {
      "model_module": "@jupyter-widgets/base",
      "model_module_version": "1.2.0",
      "model_name": "LayoutModel",
      "state": {
       "_model_module": "@jupyter-widgets/base",
       "_model_module_version": "1.2.0",
       "_model_name": "LayoutModel",
       "_view_count": null,
       "_view_module": "@jupyter-widgets/base",
       "_view_module_version": "1.2.0",
       "_view_name": "LayoutView",
       "align_content": null,
       "align_items": null,
       "align_self": null,
       "border": null,
       "bottom": null,
       "display": null,
       "flex": null,
       "flex_flow": null,
       "grid_area": null,
       "grid_auto_columns": null,
       "grid_auto_flow": null,
       "grid_auto_rows": null,
       "grid_column": null,
       "grid_gap": null,
       "grid_row": null,
       "grid_template_areas": null,
       "grid_template_columns": null,
       "grid_template_rows": null,
       "height": null,
       "justify_content": null,
       "justify_items": null,
       "left": null,
       "margin": null,
       "max_height": null,
       "max_width": null,
       "min_height": null,
       "min_width": null,
       "object_fit": null,
       "object_position": null,
       "order": null,
       "overflow": null,
       "overflow_x": null,
       "overflow_y": null,
       "padding": null,
       "right": null,
       "top": null,
       "visibility": null,
       "width": null
      }
     },
     "d44912cd19d7475ba93e1e84d26b8cf2": {
      "model_module": "@jupyter-widgets/controls",
      "model_module_version": "1.5.0",
      "model_name": "DescriptionStyleModel",
      "state": {
       "_model_module": "@jupyter-widgets/controls",
       "_model_module_version": "1.5.0",
       "_model_name": "DescriptionStyleModel",
       "_view_count": null,
       "_view_module": "@jupyter-widgets/base",
       "_view_module_version": "1.2.0",
       "_view_name": "StyleView",
       "description_width": ""
      }
     },
     "e251e584556c4f9eaec3684d23c615d9": {
      "model_module": "@jupyter-widgets/controls",
      "model_module_version": "1.5.0",
      "model_name": "HTMLModel",
      "state": {
       "_dom_classes": [],
       "_model_module": "@jupyter-widgets/controls",
       "_model_module_version": "1.5.0",
       "_model_name": "HTMLModel",
       "_view_count": null,
       "_view_module": "@jupyter-widgets/controls",
       "_view_module_version": "1.5.0",
       "_view_name": "HTMLView",
       "description": "",
       "description_tooltip": null,
       "layout": "IPY_MODEL_95be312cb5d4495fb3aa1b681ee92fc2",
       "placeholder": "​",
       "style": "IPY_MODEL_91c387e31227430aa65f74bcb4cc1b46",
       "value": "Downloading tokenizer_config.json: 100%"
      }
     },
     "ebc6e44ef6a0446a8e15dfa4325da774": {
      "model_module": "@jupyter-widgets/controls",
      "model_module_version": "1.5.0",
      "model_name": "FloatProgressModel",
      "state": {
       "_dom_classes": [],
       "_model_module": "@jupyter-widgets/controls",
       "_model_module_version": "1.5.0",
       "_model_name": "FloatProgressModel",
       "_view_count": null,
       "_view_module": "@jupyter-widgets/controls",
       "_view_module_version": "1.5.0",
       "_view_name": "ProgressView",
       "bar_style": "success",
       "description": "",
       "description_tooltip": null,
       "layout": "IPY_MODEL_1f57a8dcd8ac4018869cfc84c223d46f",
       "max": 112,
       "min": 0,
       "orientation": "horizontal",
       "style": "IPY_MODEL_1675c057e54b48289208a0c7cc3919be",
       "value": 112
      }
     },
     "f68529d5af164647813247212a70f67c": {
      "model_module": "@jupyter-widgets/base",
      "model_module_version": "1.2.0",
      "model_name": "LayoutModel",
      "state": {
       "_model_module": "@jupyter-widgets/base",
       "_model_module_version": "1.2.0",
       "_model_name": "LayoutModel",
       "_view_count": null,
       "_view_module": "@jupyter-widgets/base",
       "_view_module_version": "1.2.0",
       "_view_name": "LayoutView",
       "align_content": null,
       "align_items": null,
       "align_self": null,
       "border": null,
       "bottom": null,
       "display": null,
       "flex": null,
       "flex_flow": null,
       "grid_area": null,
       "grid_auto_columns": null,
       "grid_auto_flow": null,
       "grid_auto_rows": null,
       "grid_column": null,
       "grid_gap": null,
       "grid_row": null,
       "grid_template_areas": null,
       "grid_template_columns": null,
       "grid_template_rows": null,
       "height": null,
       "justify_content": null,
       "justify_items": null,
       "left": null,
       "margin": null,
       "max_height": null,
       "max_width": null,
       "min_height": null,
       "min_width": null,
       "object_fit": null,
       "object_position": null,
       "order": null,
       "overflow": null,
       "overflow_x": null,
       "overflow_y": null,
       "padding": null,
       "right": null,
       "top": null,
       "visibility": null,
       "width": null
      }
     },
     "f9128c1577ec43288b79cde8d8ad3997": {
      "model_module": "@jupyter-widgets/base",
      "model_module_version": "1.2.0",
      "model_name": "LayoutModel",
      "state": {
       "_model_module": "@jupyter-widgets/base",
       "_model_module_version": "1.2.0",
       "_model_name": "LayoutModel",
       "_view_count": null,
       "_view_module": "@jupyter-widgets/base",
       "_view_module_version": "1.2.0",
       "_view_name": "LayoutView",
       "align_content": null,
       "align_items": null,
       "align_self": null,
       "border": null,
       "bottom": null,
       "display": null,
       "flex": null,
       "flex_flow": null,
       "grid_area": null,
       "grid_auto_columns": null,
       "grid_auto_flow": null,
       "grid_auto_rows": null,
       "grid_column": null,
       "grid_gap": null,
       "grid_row": null,
       "grid_template_areas": null,
       "grid_template_columns": null,
       "grid_template_rows": null,
       "height": null,
       "justify_content": null,
       "justify_items": null,
       "left": null,
       "margin": null,
       "max_height": null,
       "max_width": null,
       "min_height": null,
       "min_width": null,
       "object_fit": null,
       "object_position": null,
       "order": null,
       "overflow": null,
       "overflow_x": null,
       "overflow_y": null,
       "padding": null,
       "right": null,
       "top": null,
       "visibility": null,
       "width": null
      }
     },
     "ffbe5feebb4941fc8bd76209827b4c7e": {
      "model_module": "@jupyter-widgets/controls",
      "model_module_version": "1.5.0",
      "model_name": "HBoxModel",
      "state": {
       "_dom_classes": [],
       "_model_module": "@jupyter-widgets/controls",
       "_model_module_version": "1.5.0",
       "_model_name": "HBoxModel",
       "_view_count": null,
       "_view_module": "@jupyter-widgets/controls",
       "_view_module_version": "1.5.0",
       "_view_name": "HBoxView",
       "box_style": "",
       "children": [
        "IPY_MODEL_0109176c5b7a476a85f8404624a6b2ef",
        "IPY_MODEL_7e3ef530f3f64bce8a02bab4cad5dc1a",
        "IPY_MODEL_b6fdfb1cd163454a93100928da5587e1"
       ],
       "layout": "IPY_MODEL_1d51d0a3e85e4d69b8f205b46a232ea3"
      }
     }
    },
    "version_major": 2,
    "version_minor": 0
   }
  }
 },
 "nbformat": 4,
 "nbformat_minor": 5
}
